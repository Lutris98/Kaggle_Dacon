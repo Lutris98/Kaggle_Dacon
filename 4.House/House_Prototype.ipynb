{
 "cells": [
  {
   "cell_type": "markdown",
   "metadata": {
    "id": "rbGPZm7heSLv"
   },
   "source": [
    "1. EDA"
   ]
  },
  {
   "cell_type": "code",
   "execution_count": 1,
   "metadata": {
    "id": "jVTXZ7VEuHLB"
   },
   "outputs": [],
   "source": [
    "import numpy as np\n",
    "import pandas as pd\n",
    "import matplotlib.pyplot as plt\n",
    "import seaborn as sns\n",
    "from sklearn.impute import SimpleImputer\n",
    "from sklearn.preprocessing import LabelEncoder\n",
    "from sklearn.model_selection import train_test_split, GridSearchCV\n",
    "from sklearn.ensemble import RandomForestRegressor,VotingRegressor\n",
    "from xgboost import XGBRegressor\n",
    "from lightgbm import LGBMRegressor\n",
    "from sklearn.linear_model import LinearRegression,Ridge,Lasso\n",
    "from sklearn.metrics import mean_squared_error"
   ]
  },
  {
   "cell_type": "code",
   "execution_count": 2,
   "metadata": {},
   "outputs": [],
   "source": [
    "import warnings\n",
    "warnings.filterwarnings('ignore')"
   ]
  },
  {
   "cell_type": "code",
   "execution_count": 3,
   "metadata": {
    "colab": {
     "base_uri": "https://localhost:8080/"
    },
    "id": "yw4fwIoLs4-i",
    "outputId": "0a329a0b-9ecf-4aa6-f7d5-7f7812362515"
   },
   "outputs": [],
   "source": [
    "import os \n",
    "import zipfile\n",
    "os.system('kaggle competitions download -c house-prices-advanced-regression-techniques -p C:\\\\Users\\\\Dongjun\\\\.kaggle') \n",
    "zipfile.ZipFile('C:\\\\Users\\\\Dongjun\\\\.kaggle\\\\house-prices-advanced-regression-techniques.zip').extractall('C:\\\\Users\\\\Dongjun\\\\.kaggle\\\\house') \n",
    "train_df=pd.read_csv('C:\\\\Users\\\\Dongjun\\\\.kaggle\\\\house\\\\train.csv')\n",
    "test_df=pd.read_csv('C:\\\\Users\\\\Dongjun\\\\.kaggle\\\\house\\\\test.csv')\n",
    "id=test_df['Id'] "
   ]
  },
  {
   "cell_type": "code",
   "execution_count": 4,
   "metadata": {
    "id": "3lZuOy_OvgJj"
   },
   "outputs": [],
   "source": [
    "df=pd.concat([train_df,test_df],axis=0,ignore_index=True)"
   ]
  },
  {
   "cell_type": "markdown",
   "metadata": {
    "id": "oPCDm7_NeSXG"
   },
   "source": [
    "1-1. Basic statistics"
   ]
  },
  {
   "cell_type": "code",
   "execution_count": 5,
   "metadata": {
    "colab": {
     "base_uri": "https://localhost:8080/",
     "height": 253
    },
    "id": "4323GOoOM7ML",
    "outputId": "b0c1b009-f90c-4f38-ca07-bfdcbe9db549"
   },
   "outputs": [
    {
     "data": {
      "text/html": [
       "<div>\n",
       "<style scoped>\n",
       "    .dataframe tbody tr th:only-of-type {\n",
       "        vertical-align: middle;\n",
       "    }\n",
       "\n",
       "    .dataframe tbody tr th {\n",
       "        vertical-align: top;\n",
       "    }\n",
       "\n",
       "    .dataframe thead th {\n",
       "        text-align: right;\n",
       "    }\n",
       "</style>\n",
       "<table border=\"1\" class=\"dataframe\">\n",
       "  <thead>\n",
       "    <tr style=\"text-align: right;\">\n",
       "      <th></th>\n",
       "      <th>Id</th>\n",
       "      <th>MSSubClass</th>\n",
       "      <th>MSZoning</th>\n",
       "      <th>LotFrontage</th>\n",
       "      <th>LotArea</th>\n",
       "      <th>Street</th>\n",
       "      <th>Alley</th>\n",
       "      <th>LotShape</th>\n",
       "      <th>LandContour</th>\n",
       "      <th>Utilities</th>\n",
       "      <th>...</th>\n",
       "      <th>PoolArea</th>\n",
       "      <th>PoolQC</th>\n",
       "      <th>Fence</th>\n",
       "      <th>MiscFeature</th>\n",
       "      <th>MiscVal</th>\n",
       "      <th>MoSold</th>\n",
       "      <th>YrSold</th>\n",
       "      <th>SaleType</th>\n",
       "      <th>SaleCondition</th>\n",
       "      <th>SalePrice</th>\n",
       "    </tr>\n",
       "  </thead>\n",
       "  <tbody>\n",
       "    <tr>\n",
       "      <th>0</th>\n",
       "      <td>1</td>\n",
       "      <td>60</td>\n",
       "      <td>RL</td>\n",
       "      <td>65.0</td>\n",
       "      <td>8450</td>\n",
       "      <td>Pave</td>\n",
       "      <td>NaN</td>\n",
       "      <td>Reg</td>\n",
       "      <td>Lvl</td>\n",
       "      <td>AllPub</td>\n",
       "      <td>...</td>\n",
       "      <td>0</td>\n",
       "      <td>NaN</td>\n",
       "      <td>NaN</td>\n",
       "      <td>NaN</td>\n",
       "      <td>0</td>\n",
       "      <td>2</td>\n",
       "      <td>2008</td>\n",
       "      <td>WD</td>\n",
       "      <td>Normal</td>\n",
       "      <td>208500.0</td>\n",
       "    </tr>\n",
       "    <tr>\n",
       "      <th>1</th>\n",
       "      <td>2</td>\n",
       "      <td>20</td>\n",
       "      <td>RL</td>\n",
       "      <td>80.0</td>\n",
       "      <td>9600</td>\n",
       "      <td>Pave</td>\n",
       "      <td>NaN</td>\n",
       "      <td>Reg</td>\n",
       "      <td>Lvl</td>\n",
       "      <td>AllPub</td>\n",
       "      <td>...</td>\n",
       "      <td>0</td>\n",
       "      <td>NaN</td>\n",
       "      <td>NaN</td>\n",
       "      <td>NaN</td>\n",
       "      <td>0</td>\n",
       "      <td>5</td>\n",
       "      <td>2007</td>\n",
       "      <td>WD</td>\n",
       "      <td>Normal</td>\n",
       "      <td>181500.0</td>\n",
       "    </tr>\n",
       "    <tr>\n",
       "      <th>2</th>\n",
       "      <td>3</td>\n",
       "      <td>60</td>\n",
       "      <td>RL</td>\n",
       "      <td>68.0</td>\n",
       "      <td>11250</td>\n",
       "      <td>Pave</td>\n",
       "      <td>NaN</td>\n",
       "      <td>IR1</td>\n",
       "      <td>Lvl</td>\n",
       "      <td>AllPub</td>\n",
       "      <td>...</td>\n",
       "      <td>0</td>\n",
       "      <td>NaN</td>\n",
       "      <td>NaN</td>\n",
       "      <td>NaN</td>\n",
       "      <td>0</td>\n",
       "      <td>9</td>\n",
       "      <td>2008</td>\n",
       "      <td>WD</td>\n",
       "      <td>Normal</td>\n",
       "      <td>223500.0</td>\n",
       "    </tr>\n",
       "    <tr>\n",
       "      <th>3</th>\n",
       "      <td>4</td>\n",
       "      <td>70</td>\n",
       "      <td>RL</td>\n",
       "      <td>60.0</td>\n",
       "      <td>9550</td>\n",
       "      <td>Pave</td>\n",
       "      <td>NaN</td>\n",
       "      <td>IR1</td>\n",
       "      <td>Lvl</td>\n",
       "      <td>AllPub</td>\n",
       "      <td>...</td>\n",
       "      <td>0</td>\n",
       "      <td>NaN</td>\n",
       "      <td>NaN</td>\n",
       "      <td>NaN</td>\n",
       "      <td>0</td>\n",
       "      <td>2</td>\n",
       "      <td>2006</td>\n",
       "      <td>WD</td>\n",
       "      <td>Abnorml</td>\n",
       "      <td>140000.0</td>\n",
       "    </tr>\n",
       "    <tr>\n",
       "      <th>4</th>\n",
       "      <td>5</td>\n",
       "      <td>60</td>\n",
       "      <td>RL</td>\n",
       "      <td>84.0</td>\n",
       "      <td>14260</td>\n",
       "      <td>Pave</td>\n",
       "      <td>NaN</td>\n",
       "      <td>IR1</td>\n",
       "      <td>Lvl</td>\n",
       "      <td>AllPub</td>\n",
       "      <td>...</td>\n",
       "      <td>0</td>\n",
       "      <td>NaN</td>\n",
       "      <td>NaN</td>\n",
       "      <td>NaN</td>\n",
       "      <td>0</td>\n",
       "      <td>12</td>\n",
       "      <td>2008</td>\n",
       "      <td>WD</td>\n",
       "      <td>Normal</td>\n",
       "      <td>250000.0</td>\n",
       "    </tr>\n",
       "  </tbody>\n",
       "</table>\n",
       "<p>5 rows × 81 columns</p>\n",
       "</div>"
      ],
      "text/plain": [
       "   Id  MSSubClass MSZoning  LotFrontage  LotArea Street Alley LotShape  \\\n",
       "0   1          60       RL         65.0     8450   Pave   NaN      Reg   \n",
       "1   2          20       RL         80.0     9600   Pave   NaN      Reg   \n",
       "2   3          60       RL         68.0    11250   Pave   NaN      IR1   \n",
       "3   4          70       RL         60.0     9550   Pave   NaN      IR1   \n",
       "4   5          60       RL         84.0    14260   Pave   NaN      IR1   \n",
       "\n",
       "  LandContour Utilities  ... PoolArea PoolQC Fence MiscFeature MiscVal MoSold  \\\n",
       "0         Lvl    AllPub  ...        0    NaN   NaN         NaN       0      2   \n",
       "1         Lvl    AllPub  ...        0    NaN   NaN         NaN       0      5   \n",
       "2         Lvl    AllPub  ...        0    NaN   NaN         NaN       0      9   \n",
       "3         Lvl    AllPub  ...        0    NaN   NaN         NaN       0      2   \n",
       "4         Lvl    AllPub  ...        0    NaN   NaN         NaN       0     12   \n",
       "\n",
       "  YrSold  SaleType  SaleCondition  SalePrice  \n",
       "0   2008        WD         Normal   208500.0  \n",
       "1   2007        WD         Normal   181500.0  \n",
       "2   2008        WD         Normal   223500.0  \n",
       "3   2006        WD        Abnorml   140000.0  \n",
       "4   2008        WD         Normal   250000.0  \n",
       "\n",
       "[5 rows x 81 columns]"
      ]
     },
     "execution_count": 5,
     "metadata": {},
     "output_type": "execute_result"
    }
   ],
   "source": [
    "df.head()"
   ]
  },
  {
   "cell_type": "code",
   "execution_count": 6,
   "metadata": {
    "colab": {
     "base_uri": "https://localhost:8080/"
    },
    "id": "UaIx4lJIM-bS",
    "outputId": "c467934d-c458-4288-a794-1ff1b19d1e0b"
   },
   "outputs": [
    {
     "name": "stdout",
     "output_type": "stream",
     "text": [
      "<class 'pandas.core.frame.DataFrame'>\n",
      "RangeIndex: 2919 entries, 0 to 2918\n",
      "Data columns (total 81 columns):\n",
      " #   Column         Non-Null Count  Dtype  \n",
      "---  ------         --------------  -----  \n",
      " 0   Id             2919 non-null   int64  \n",
      " 1   MSSubClass     2919 non-null   int64  \n",
      " 2   MSZoning       2915 non-null   object \n",
      " 3   LotFrontage    2433 non-null   float64\n",
      " 4   LotArea        2919 non-null   int64  \n",
      " 5   Street         2919 non-null   object \n",
      " 6   Alley          198 non-null    object \n",
      " 7   LotShape       2919 non-null   object \n",
      " 8   LandContour    2919 non-null   object \n",
      " 9   Utilities      2917 non-null   object \n",
      " 10  LotConfig      2919 non-null   object \n",
      " 11  LandSlope      2919 non-null   object \n",
      " 12  Neighborhood   2919 non-null   object \n",
      " 13  Condition1     2919 non-null   object \n",
      " 14  Condition2     2919 non-null   object \n",
      " 15  BldgType       2919 non-null   object \n",
      " 16  HouseStyle     2919 non-null   object \n",
      " 17  OverallQual    2919 non-null   int64  \n",
      " 18  OverallCond    2919 non-null   int64  \n",
      " 19  YearBuilt      2919 non-null   int64  \n",
      " 20  YearRemodAdd   2919 non-null   int64  \n",
      " 21  RoofStyle      2919 non-null   object \n",
      " 22  RoofMatl       2919 non-null   object \n",
      " 23  Exterior1st    2918 non-null   object \n",
      " 24  Exterior2nd    2918 non-null   object \n",
      " 25  MasVnrType     2895 non-null   object \n",
      " 26  MasVnrArea     2896 non-null   float64\n",
      " 27  ExterQual      2919 non-null   object \n",
      " 28  ExterCond      2919 non-null   object \n",
      " 29  Foundation     2919 non-null   object \n",
      " 30  BsmtQual       2838 non-null   object \n",
      " 31  BsmtCond       2837 non-null   object \n",
      " 32  BsmtExposure   2837 non-null   object \n",
      " 33  BsmtFinType1   2840 non-null   object \n",
      " 34  BsmtFinSF1     2918 non-null   float64\n",
      " 35  BsmtFinType2   2839 non-null   object \n",
      " 36  BsmtFinSF2     2918 non-null   float64\n",
      " 37  BsmtUnfSF      2918 non-null   float64\n",
      " 38  TotalBsmtSF    2918 non-null   float64\n",
      " 39  Heating        2919 non-null   object \n",
      " 40  HeatingQC      2919 non-null   object \n",
      " 41  CentralAir     2919 non-null   object \n",
      " 42  Electrical     2918 non-null   object \n",
      " 43  1stFlrSF       2919 non-null   int64  \n",
      " 44  2ndFlrSF       2919 non-null   int64  \n",
      " 45  LowQualFinSF   2919 non-null   int64  \n",
      " 46  GrLivArea      2919 non-null   int64  \n",
      " 47  BsmtFullBath   2917 non-null   float64\n",
      " 48  BsmtHalfBath   2917 non-null   float64\n",
      " 49  FullBath       2919 non-null   int64  \n",
      " 50  HalfBath       2919 non-null   int64  \n",
      " 51  BedroomAbvGr   2919 non-null   int64  \n",
      " 52  KitchenAbvGr   2919 non-null   int64  \n",
      " 53  KitchenQual    2918 non-null   object \n",
      " 54  TotRmsAbvGrd   2919 non-null   int64  \n",
      " 55  Functional     2917 non-null   object \n",
      " 56  Fireplaces     2919 non-null   int64  \n",
      " 57  FireplaceQu    1499 non-null   object \n",
      " 58  GarageType     2762 non-null   object \n",
      " 59  GarageYrBlt    2760 non-null   float64\n",
      " 60  GarageFinish   2760 non-null   object \n",
      " 61  GarageCars     2918 non-null   float64\n",
      " 62  GarageArea     2918 non-null   float64\n",
      " 63  GarageQual     2760 non-null   object \n",
      " 64  GarageCond     2760 non-null   object \n",
      " 65  PavedDrive     2919 non-null   object \n",
      " 66  WoodDeckSF     2919 non-null   int64  \n",
      " 67  OpenPorchSF    2919 non-null   int64  \n",
      " 68  EnclosedPorch  2919 non-null   int64  \n",
      " 69  3SsnPorch      2919 non-null   int64  \n",
      " 70  ScreenPorch    2919 non-null   int64  \n",
      " 71  PoolArea       2919 non-null   int64  \n",
      " 72  PoolQC         10 non-null     object \n",
      " 73  Fence          571 non-null    object \n",
      " 74  MiscFeature    105 non-null    object \n",
      " 75  MiscVal        2919 non-null   int64  \n",
      " 76  MoSold         2919 non-null   int64  \n",
      " 77  YrSold         2919 non-null   int64  \n",
      " 78  SaleType       2918 non-null   object \n",
      " 79  SaleCondition  2919 non-null   object \n",
      " 80  SalePrice      1460 non-null   float64\n",
      "dtypes: float64(12), int64(26), object(43)\n",
      "memory usage: 1.8+ MB\n"
     ]
    }
   ],
   "source": [
    "df.info() "
   ]
  },
  {
   "cell_type": "markdown",
   "metadata": {
    "id": "R6Lgu5IpeSZf"
   },
   "source": [
    "1-2. Basic feature selection\n"
   ]
  },
  {
   "cell_type": "code",
   "execution_count": 7,
   "metadata": {
    "id": "NRms_kAzQPpC"
   },
   "outputs": [],
   "source": [
    "df.drop(['Alley','PoolQC','Fence','MiscFeature','FireplaceQu','Id'],axis=1,inplace=True) #features with too little data(logical thinking) #Surprisingly all data were meaningful by own meaning"
   ]
  },
  {
   "cell_type": "markdown",
   "metadata": {
    "id": "6eIXTVPueShH"
   },
   "source": [
    "2. Preprocessing"
   ]
  },
  {
   "cell_type": "code",
   "execution_count": 8,
   "metadata": {
    "colab": {
     "base_uri": "https://localhost:8080/"
    },
    "id": "FfCIgZuG5iJR",
    "outputId": "cd1ce359-a5c1-48a6-8506-1966b2018369"
   },
   "outputs": [
    {
     "name": "stdout",
     "output_type": "stream",
     "text": [
      "discrete:['OverallCond', 'BsmtFullBath', 'BsmtHalfBath', 'FullBath', 'HalfBath', 'BedroomAbvGr', 'KitchenAbvGr', 'Fireplaces', 'GarageCars', 'YrSold']\n",
      "continuous:['MSSubClass', 'LotFrontage', 'LotArea', 'OverallQual', 'YearBuilt', 'YearRemodAdd', 'MasVnrArea', 'BsmtFinSF1', 'BsmtFinSF2', 'BsmtUnfSF', 'TotalBsmtSF', '1stFlrSF', '2ndFlrSF', 'LowQualFinSF', 'GrLivArea', 'TotRmsAbvGrd', 'GarageYrBlt', 'GarageArea', 'WoodDeckSF', 'OpenPorchSF', 'EnclosedPorch', '3SsnPorch', 'ScreenPorch', 'PoolArea', 'MiscVal', 'MoSold']\n",
      "categorical:['MSZoning', 'Street', 'LotShape', 'LandContour', 'Utilities', 'LotConfig', 'LandSlope', 'Neighborhood', 'Condition1', 'Condition2', 'BldgType', 'HouseStyle', 'RoofStyle', 'RoofMatl', 'Exterior1st', 'Exterior2nd', 'MasVnrType', 'ExterQual', 'ExterCond', 'Foundation', 'BsmtQual', 'BsmtCond', 'BsmtExposure', 'BsmtFinType1', 'BsmtFinType2', 'Heating', 'HeatingQC', 'CentralAir', 'Electrical', 'KitchenQual', 'Functional', 'GarageType', 'GarageFinish', 'GarageQual', 'GarageCond', 'PavedDrive', 'SaleType', 'SaleCondition']\n"
     ]
    }
   ],
   "source": [
    "discrete=[var for var in df.columns if df[var].dtype!='object' and var!='SalePrice' and df[var].nunique()<10] \n",
    "continuous=[var for var in df.columns if df[var].dtype!='object' and var!='SalePrice' and var not in discrete]\n",
    "categorical=[var for var in df.columns if df[var].dtype=='object'] \n",
    "print(f'discrete:{discrete}\\ncontinuous:{continuous}\\ncategorical:{categorical}')"
   ]
  },
  {
   "cell_type": "markdown",
   "metadata": {
    "id": "D9c_Y1nYeSkR"
   },
   "source": [
    "2-1. Imputation"
   ]
  },
  {
   "cell_type": "code",
   "execution_count": 9,
   "metadata": {
    "colab": {
     "base_uri": "https://localhost:8080/"
    },
    "id": "8u4UZVgk_CH2",
    "outputId": "d23e10d9-4575-4748-bcd9-d23ab3f34bf5"
   },
   "outputs": [
    {
     "data": {
      "text/plain": [
       "SalePrice       1459\n",
       "LotFrontage      486\n",
       "GarageCond       159\n",
       "GarageYrBlt      159\n",
       "GarageFinish     159\n",
       "GarageQual       159\n",
       "GarageType       157\n",
       "BsmtExposure      82\n",
       "BsmtCond          82\n",
       "BsmtQual          81\n",
       "BsmtFinType2      80\n",
       "BsmtFinType1      79\n",
       "MasVnrType        24\n",
       "MasVnrArea        23\n",
       "MSZoning           4\n",
       "BsmtHalfBath       2\n",
       "BsmtFullBath       2\n",
       "Utilities          2\n",
       "Functional         2\n",
       "BsmtFinSF1         1\n",
       "SaleType           1\n",
       "TotalBsmtSF        1\n",
       "Electrical         1\n",
       "KitchenQual        1\n",
       "BsmtFinSF2         1\n",
       "Exterior2nd        1\n",
       "Exterior1st        1\n",
       "GarageCars         1\n",
       "GarageArea         1\n",
       "BsmtUnfSF          1\n",
       "TotRmsAbvGrd       0\n",
       "KitchenAbvGr       0\n",
       "BedroomAbvGr       0\n",
       "HalfBath           0\n",
       "OpenPorchSF        0\n",
       "dtype: int64"
      ]
     },
     "execution_count": 9,
     "metadata": {},
     "output_type": "execute_result"
    }
   ],
   "source": [
    "df.isnull().sum().sort_values(ascending=False).head(35)"
   ]
  },
  {
   "cell_type": "code",
   "execution_count": 10,
   "metadata": {
    "colab": {
     "base_uri": "https://localhost:8080/"
    },
    "id": "rHGiXhoFCi-j",
    "outputId": "7012d689-ee54-4b9d-f1af-32829f997736"
   },
   "outputs": [
    {
     "data": {
      "text/plain": [
       "SalePrice       1459\n",
       "GarageType         0\n",
       "Functional         0\n",
       "TotRmsAbvGrd       0\n",
       "KitchenQual        0\n",
       "KitchenAbvGr       0\n",
       "BedroomAbvGr       0\n",
       "HalfBath           0\n",
       "FullBath           0\n",
       "BsmtHalfBath       0\n",
       "dtype: int64"
      ]
     },
     "execution_count": 10,
     "metadata": {},
     "output_type": "execute_result"
    }
   ],
   "source": [
    "imputer=SimpleImputer(strategy='most_frequent')\n",
    "nd=imputer.fit_transform(df.drop('SalePrice',axis=1)) #only 5% so ignoring at baseline\n",
    "fdf=pd.DataFrame(nd,columns=df.drop('SalePrice',axis=1).columns)\n",
    "df=pd.concat([df['SalePrice'],fdf],axis=1)\n",
    "df.isnull().sum().sort_values(ascending=False).head(10) #insight1.Concentrated in Lot/Garage #insight2.first two are continuous(easy) rest are categorical(needs encoding first)"
   ]
  },
  {
   "cell_type": "markdown",
   "metadata": {
    "id": "bsKhdQ5-eSd_"
   },
   "source": [
    "2-2. Encoding\n",
    "Further imputation needs encoding"
   ]
  },
  {
   "cell_type": "code",
   "execution_count": 11,
   "metadata": {
    "colab": {
     "base_uri": "https://localhost:8080/"
    },
    "id": "LFlZ49T5Buq0",
    "outputId": "2f89e4fe-805d-4c26-eef2-7550740a6b3b"
   },
   "outputs": [
    {
     "name": "stdout",
     "output_type": "stream",
     "text": [
      "['MSZoning', 'LotConfig', 'Neighborhood', 'Condition1', 'Condition2', 'BldgType', 'HouseStyle', 'RoofStyle', 'RoofMatl', 'Exterior1st', 'Exterior2nd', 'MasVnrType', 'Foundation', 'Heating', 'GarageType', 'SaleType', 'SaleCondition']\n"
     ]
    }
   ],
   "source": [
    "ordinal=['Street','LotShape','LandContour','Utilities','LandSlope','ExterQual','ExterCond','BsmtQual','BsmtCond','BsmtExposure','BsmtFinType1','BsmtFinType2','HeatingQC','CentralAir','Electrical','KitchenQual','Functional','GarageFinish','GarageQual','GarageCond','PavedDrive']\n",
    "nominal=[var for var in categorical if var not in ordinal] #sorted by reading explanation\n",
    "print(nominal)"
   ]
  },
  {
   "cell_type": "code",
   "execution_count": 12,
   "metadata": {
    "colab": {
     "base_uri": "https://localhost:8080/"
    },
    "id": "LqdLk2nYQC-r",
    "outputId": "7a116946-d507-434f-9e52-b3dda0e84dda"
   },
   "outputs": [
    {
     "name": "stdout",
     "output_type": "stream",
     "text": [
      "Street ['Pave' 'Grvl']\n",
      "LotShape ['Reg' 'IR1' 'IR2' 'IR3']\n",
      "LandContour ['Lvl' 'Bnk' 'Low' 'HLS']\n",
      "Utilities ['AllPub' 'NoSeWa']\n",
      "LandSlope ['Gtl' 'Mod' 'Sev']\n",
      "ExterQual ['Gd' 'TA' 'Ex' 'Fa']\n",
      "ExterCond ['TA' 'Gd' 'Fa' 'Po' 'Ex']\n",
      "BsmtQual ['Gd' 'TA' 'Ex' 'Fa']\n",
      "BsmtCond ['TA' 'Gd' 'Fa' 'Po']\n",
      "BsmtExposure ['No' 'Gd' 'Mn' 'Av']\n",
      "BsmtFinType1 ['GLQ' 'ALQ' 'Unf' 'Rec' 'BLQ' 'LwQ']\n",
      "BsmtFinType2 ['Unf' 'BLQ' 'ALQ' 'Rec' 'LwQ' 'GLQ']\n",
      "HeatingQC ['Ex' 'Gd' 'TA' 'Fa' 'Po']\n",
      "CentralAir ['Y' 'N']\n",
      "Electrical ['SBrkr' 'FuseF' 'FuseA' 'FuseP' 'Mix']\n",
      "KitchenQual ['Gd' 'TA' 'Ex' 'Fa']\n",
      "Functional ['Typ' 'Min1' 'Maj1' 'Min2' 'Mod' 'Maj2' 'Sev']\n",
      "GarageFinish ['RFn' 'Unf' 'Fin']\n",
      "GarageQual ['TA' 'Fa' 'Gd' 'Ex' 'Po']\n",
      "GarageCond ['TA' 'Fa' 'Gd' 'Po' 'Ex']\n",
      "PavedDrive ['Y' 'N' 'P']\n"
     ]
    }
   ],
   "source": [
    "for var in ordinal:\n",
    "  print(var,df[var].unique())"
   ]
  },
  {
   "cell_type": "code",
   "execution_count": 13,
   "metadata": {
    "id": "Bicw0WK4OdtH"
   },
   "outputs": [],
   "source": [
    "df['Street']=df['Street'].replace({'Pave':0,'Grvl':1}) #LabelEncoder is useless\n",
    "df['LotShape']=df['LotShape'].replace({'Reg':0,'IR1':1,'IR2':2,'IR3':3}) \n",
    "df['LandContour']=df['LandContour'].replace({'Lvl':0,'Bnk':1,'HLS':2,'Low':3})\n",
    "df['Utilities']=df['Utilities'].replace({'AllPub':0,'NoSeWa':1}) \n",
    "df['LandSlope']=df['LandSlope'].replace({'Gtl':0,'Mod':1,'Sev':2})\n",
    "df['ExterQual']=df['ExterQual'].replace({'Ex':0,'Gd':1,'Fa':2,'TA':3})\n",
    "df['ExterCond']=df['ExterCond'].replace({'Ex':0,'Gd':1,'Fa':2,'TA':3,'Po':4})\n",
    "df['BsmtQual']=df['BsmtQual'].replace({'Ex':0,'Gd':1,'Fa':2,'TA':3})\n",
    "df['BsmtCond']=df['BsmtCond'].replace({'Gd':0,'Fa':1,'TA':2,'Po':3})\n",
    "df['BsmtExposure']=df['BsmtExposure'].replace({'Gd':0,'Av':1,'Mn':2,'No':3})\n",
    "df['BsmtFinType1']=df['BsmtFinType1'].replace({'GLQ':0,'ALQ':1,'BLQ':2,'Rec':3,'LwQ':4,'Unf':5})\n",
    "df['BsmtFinType2']=df['BsmtFinType2'].replace({'GLQ':0,'ALQ':1,'BLQ':2,'Rec':3,'LwQ':4,'Unf':5})\n",
    "df['HeatingQC']=df['HeatingQC'].replace({'Ex':0,'Gd':1,'Fa':2,'TA':3,'Po':4})\n",
    "df['CentralAir']=df['CentralAir'].replace({'Y':0,'N':1})\n",
    "df['Electrical']=df['Electrical'].replace({'SBrkr':0,'FuseA':1,'FuseF':2,'FuseP':3,'Mix':4})\n",
    "df['KitchenQual']=df['KitchenQual'].replace({'Ex':0,'Gd':1,'Fa':2,'TA':3})\n",
    "df['Functional']=df['Functional'].replace({'Typ':0,'Min1':1,'Min2':2,'Mod':3,'Maj1':4,'Maj2':5,'Sev':6})\n",
    "df['GarageFinish']=df['GarageFinish'].replace({'Fin':0,'RFn':1,'Unf':2})\n",
    "df['GarageQual']=df['GarageQual'].replace({'Ex':0,'Gd':1,'Fa':2,'TA':3,'Po':4})\n",
    "df['GarageCond']=df['GarageCond'].replace({'Ex':0,'Gd':1,'Fa':2,'TA':3,'Po':4})\n",
    "df['PavedDrive']=df['PavedDrive'].replace({'Y':0,'P':1,'N':2})"
   ]
  },
  {
   "cell_type": "code",
   "execution_count": 14,
   "metadata": {
    "id": "pXjn4NY6Qmk9"
   },
   "outputs": [],
   "source": [
    "df=pd.get_dummies(df,columns=nominal)  #no inplacing"
   ]
  },
  {
   "cell_type": "code",
   "execution_count": 15,
   "metadata": {
    "colab": {
     "base_uri": "https://localhost:8080/",
     "height": 270
    },
    "id": "7IA9aY6dP3KO",
    "outputId": "22f391cb-69c4-446a-d59a-6129def6e4a4"
   },
   "outputs": [
    {
     "data": {
      "text/html": [
       "<div>\n",
       "<style scoped>\n",
       "    .dataframe tbody tr th:only-of-type {\n",
       "        vertical-align: middle;\n",
       "    }\n",
       "\n",
       "    .dataframe tbody tr th {\n",
       "        vertical-align: top;\n",
       "    }\n",
       "\n",
       "    .dataframe thead th {\n",
       "        text-align: right;\n",
       "    }\n",
       "</style>\n",
       "<table border=\"1\" class=\"dataframe\">\n",
       "  <thead>\n",
       "    <tr style=\"text-align: right;\">\n",
       "      <th></th>\n",
       "      <th>SalePrice</th>\n",
       "      <th>MSSubClass</th>\n",
       "      <th>LotFrontage</th>\n",
       "      <th>LotArea</th>\n",
       "      <th>Street</th>\n",
       "      <th>LotShape</th>\n",
       "      <th>LandContour</th>\n",
       "      <th>Utilities</th>\n",
       "      <th>LandSlope</th>\n",
       "      <th>OverallQual</th>\n",
       "      <th>...</th>\n",
       "      <th>SaleType_ConLw</th>\n",
       "      <th>SaleType_New</th>\n",
       "      <th>SaleType_Oth</th>\n",
       "      <th>SaleType_WD</th>\n",
       "      <th>SaleCondition_Abnorml</th>\n",
       "      <th>SaleCondition_AdjLand</th>\n",
       "      <th>SaleCondition_Alloca</th>\n",
       "      <th>SaleCondition_Family</th>\n",
       "      <th>SaleCondition_Normal</th>\n",
       "      <th>SaleCondition_Partial</th>\n",
       "    </tr>\n",
       "  </thead>\n",
       "  <tbody>\n",
       "    <tr>\n",
       "      <th>0</th>\n",
       "      <td>208500.0</td>\n",
       "      <td>60</td>\n",
       "      <td>65.0</td>\n",
       "      <td>8450</td>\n",
       "      <td>0</td>\n",
       "      <td>0</td>\n",
       "      <td>0</td>\n",
       "      <td>0</td>\n",
       "      <td>0</td>\n",
       "      <td>7</td>\n",
       "      <td>...</td>\n",
       "      <td>0</td>\n",
       "      <td>0</td>\n",
       "      <td>0</td>\n",
       "      <td>1</td>\n",
       "      <td>0</td>\n",
       "      <td>0</td>\n",
       "      <td>0</td>\n",
       "      <td>0</td>\n",
       "      <td>1</td>\n",
       "      <td>0</td>\n",
       "    </tr>\n",
       "    <tr>\n",
       "      <th>1</th>\n",
       "      <td>181500.0</td>\n",
       "      <td>20</td>\n",
       "      <td>80.0</td>\n",
       "      <td>9600</td>\n",
       "      <td>0</td>\n",
       "      <td>0</td>\n",
       "      <td>0</td>\n",
       "      <td>0</td>\n",
       "      <td>0</td>\n",
       "      <td>6</td>\n",
       "      <td>...</td>\n",
       "      <td>0</td>\n",
       "      <td>0</td>\n",
       "      <td>0</td>\n",
       "      <td>1</td>\n",
       "      <td>0</td>\n",
       "      <td>0</td>\n",
       "      <td>0</td>\n",
       "      <td>0</td>\n",
       "      <td>1</td>\n",
       "      <td>0</td>\n",
       "    </tr>\n",
       "    <tr>\n",
       "      <th>2</th>\n",
       "      <td>223500.0</td>\n",
       "      <td>60</td>\n",
       "      <td>68.0</td>\n",
       "      <td>11250</td>\n",
       "      <td>0</td>\n",
       "      <td>1</td>\n",
       "      <td>0</td>\n",
       "      <td>0</td>\n",
       "      <td>0</td>\n",
       "      <td>7</td>\n",
       "      <td>...</td>\n",
       "      <td>0</td>\n",
       "      <td>0</td>\n",
       "      <td>0</td>\n",
       "      <td>1</td>\n",
       "      <td>0</td>\n",
       "      <td>0</td>\n",
       "      <td>0</td>\n",
       "      <td>0</td>\n",
       "      <td>1</td>\n",
       "      <td>0</td>\n",
       "    </tr>\n",
       "    <tr>\n",
       "      <th>3</th>\n",
       "      <td>140000.0</td>\n",
       "      <td>70</td>\n",
       "      <td>60.0</td>\n",
       "      <td>9550</td>\n",
       "      <td>0</td>\n",
       "      <td>1</td>\n",
       "      <td>0</td>\n",
       "      <td>0</td>\n",
       "      <td>0</td>\n",
       "      <td>7</td>\n",
       "      <td>...</td>\n",
       "      <td>0</td>\n",
       "      <td>0</td>\n",
       "      <td>0</td>\n",
       "      <td>1</td>\n",
       "      <td>1</td>\n",
       "      <td>0</td>\n",
       "      <td>0</td>\n",
       "      <td>0</td>\n",
       "      <td>0</td>\n",
       "      <td>0</td>\n",
       "    </tr>\n",
       "    <tr>\n",
       "      <th>4</th>\n",
       "      <td>250000.0</td>\n",
       "      <td>60</td>\n",
       "      <td>84.0</td>\n",
       "      <td>14260</td>\n",
       "      <td>0</td>\n",
       "      <td>1</td>\n",
       "      <td>0</td>\n",
       "      <td>0</td>\n",
       "      <td>0</td>\n",
       "      <td>8</td>\n",
       "      <td>...</td>\n",
       "      <td>0</td>\n",
       "      <td>0</td>\n",
       "      <td>0</td>\n",
       "      <td>1</td>\n",
       "      <td>0</td>\n",
       "      <td>0</td>\n",
       "      <td>0</td>\n",
       "      <td>0</td>\n",
       "      <td>1</td>\n",
       "      <td>0</td>\n",
       "    </tr>\n",
       "  </tbody>\n",
       "</table>\n",
       "<p>5 rows × 205 columns</p>\n",
       "</div>"
      ],
      "text/plain": [
       "   SalePrice MSSubClass LotFrontage LotArea  Street  LotShape  LandContour  \\\n",
       "0   208500.0         60        65.0    8450       0         0            0   \n",
       "1   181500.0         20        80.0    9600       0         0            0   \n",
       "2   223500.0         60        68.0   11250       0         1            0   \n",
       "3   140000.0         70        60.0    9550       0         1            0   \n",
       "4   250000.0         60        84.0   14260       0         1            0   \n",
       "\n",
       "   Utilities  LandSlope OverallQual  ... SaleType_ConLw SaleType_New  \\\n",
       "0          0          0           7  ...              0            0   \n",
       "1          0          0           6  ...              0            0   \n",
       "2          0          0           7  ...              0            0   \n",
       "3          0          0           7  ...              0            0   \n",
       "4          0          0           8  ...              0            0   \n",
       "\n",
       "  SaleType_Oth SaleType_WD  SaleCondition_Abnorml  SaleCondition_AdjLand  \\\n",
       "0            0           1                      0                      0   \n",
       "1            0           1                      0                      0   \n",
       "2            0           1                      0                      0   \n",
       "3            0           1                      1                      0   \n",
       "4            0           1                      0                      0   \n",
       "\n",
       "   SaleCondition_Alloca  SaleCondition_Family  SaleCondition_Normal  \\\n",
       "0                     0                     0                     1   \n",
       "1                     0                     0                     1   \n",
       "2                     0                     0                     1   \n",
       "3                     0                     0                     0   \n",
       "4                     0                     0                     1   \n",
       "\n",
       "   SaleCondition_Partial  \n",
       "0                      0  \n",
       "1                      0  \n",
       "2                      0  \n",
       "3                      0  \n",
       "4                      0  \n",
       "\n",
       "[5 rows x 205 columns]"
      ]
     },
     "execution_count": 15,
     "metadata": {},
     "output_type": "execute_result"
    }
   ],
   "source": [
    "df.head()"
   ]
  },
  {
   "cell_type": "code",
   "execution_count": 16,
   "metadata": {
    "id": "21LadEqSd_B1"
   },
   "outputs": [],
   "source": [
    "for var in [var for var in df.columns if df[var].dtype=='object']:\n",
    "  df[var]=df[var].astype(float) #no inplacing"
   ]
  },
  {
   "cell_type": "markdown",
   "metadata": {
    "id": "FrClhaqzeSm2"
   },
   "source": [
    "2-3. Discretization&Scaling"
   ]
  },
  {
   "cell_type": "code",
   "execution_count": 17,
   "metadata": {
    "colab": {
     "base_uri": "https://localhost:8080/"
    },
    "id": "PuSjD7jn__Sa",
    "outputId": "77587729-937c-4039-df0a-d5d2413cf7bd"
   },
   "outputs": [
    {
     "name": "stdout",
     "output_type": "stream",
     "text": [
      "MSSubClass : 16\n",
      "LotFrontage : 128\n",
      "LotArea : 1951\n",
      "OverallQual : 10\n",
      "YearBuilt : 118\n",
      "YearRemodAdd : 61\n",
      "MasVnrArea : 444\n",
      "BsmtFinSF1 : 991\n",
      "BsmtFinSF2 : 272\n",
      "BsmtUnfSF : 1135\n",
      "TotalBsmtSF : 1058\n",
      "1stFlrSF : 1083\n",
      "2ndFlrSF : 635\n",
      "LowQualFinSF : 36\n",
      "GrLivArea : 1292\n",
      "TotRmsAbvGrd : 14\n",
      "GarageYrBlt : 103\n",
      "GarageArea : 603\n",
      "WoodDeckSF : 379\n",
      "OpenPorchSF : 252\n",
      "EnclosedPorch : 183\n",
      "3SsnPorch : 31\n",
      "ScreenPorch : 121\n",
      "PoolArea : 14\n",
      "MiscVal : 38\n",
      "MoSold : 12\n"
     ]
    }
   ],
   "source": [
    "for var in continuous: #ignore at regression\n",
    "  print(var,':',df[var].nunique())"
   ]
  },
  {
   "cell_type": "markdown",
   "metadata": {
    "id": "OfolJQYaljZn"
   },
   "source": [
    "2-4. feature selection"
   ]
  },
  {
   "cell_type": "markdown",
   "metadata": {
    "id": "QH2fSRiSeSpW"
   },
   "source": [
    "3. Modeling"
   ]
  },
  {
   "cell_type": "code",
   "execution_count": 18,
   "metadata": {
    "id": "P9LYlCc8-kcf"
   },
   "outputs": [],
   "source": [
    "test_df=df[df['SalePrice'].isna()!=0]\n",
    "train_df=df[df['SalePrice'].isna()==0]\n",
    "target_df=train_df['SalePrice']\n",
    "feature_df=train_df.drop(['SalePrice'],axis=1,inplace=False)\n",
    "X_train,X_test,y_train,y_test=train_test_split(feature_df,target_df,test_size=0.2,random_state=42)"
   ]
  },
  {
   "cell_type": "code",
   "execution_count": 19,
   "metadata": {
    "id": "Ib8cWZZMEb5y"
   },
   "outputs": [],
   "source": [
    "def get_eval(real,pred):\n",
    "  eval=np.sqrt(mean_squared_error(np.log1p(real),np.log1p(pred))) #mse is embedded metric #only targetdata is logscaled \n",
    "  print('RMSLE:',eval)"
   ]
  },
  {
   "cell_type": "code",
   "execution_count": 20,
   "metadata": {
    "colab": {
     "base_uri": "https://localhost:8080/"
    },
    "id": "DIFcWVHWb7t8",
    "outputId": "702bca8c-b68f-4937-b1d2-d7b1a199760f"
   },
   "outputs": [],
   "source": [
    "rf_reg=RandomForestRegressor()\n",
    "rf_reg.fit(X_train,y_train)\n",
    "pred1=rf_reg.predict(X_test)\n",
    "xgb_reg=XGBRegressor()\n",
    "xgb_reg.fit(X_train,y_train)\n",
    "pred2=xgb_reg.predict(X_test)\n",
    "lgbm_reg=LGBMRegressor()\n",
    "lgbm_reg.fit(X_train,y_train)\n",
    "pred3=lgbm_reg.predict(X_test)"
   ]
  },
  {
   "cell_type": "code",
   "execution_count": 21,
   "metadata": {
    "colab": {
     "base_uri": "https://localhost:8080/"
    },
    "id": "kri8OB6JceTG",
    "outputId": "86431715-3763-4e32-8d05-977976bd84dc"
   },
   "outputs": [
    {
     "name": "stdout",
     "output_type": "stream",
     "text": [
      "RMSLE: 0.1515249277838401\n",
      "RMSLE: 0.1503708720989516\n",
      "RMSLE: 0.14845209141019686\n"
     ]
    }
   ],
   "source": [
    "get_eval(y_test,pred1)\n",
    "get_eval(y_test,pred2)\n",
    "get_eval(y_test,pred3)"
   ]
  },
  {
   "cell_type": "code",
   "execution_count": 22,
   "metadata": {
    "colab": {
     "base_uri": "https://localhost:8080/"
    },
    "id": "fzm3V6BR_NhQ",
    "outputId": "a4fcda21-46d5-46b1-fcfa-e2ddba7092a4"
   },
   "outputs": [],
   "source": [
    "ridge_reg=Ridge()\n",
    "ridge_reg.fit(X_train,y_train)\n",
    "pred1=ridge_reg.predict(X_test)\n",
    "lasso_reg=Lasso()\n",
    "lasso_reg.fit(X_train,y_train)\n",
    "pred2=lasso_reg.predict(X_test)\n",
    "vo_reg=VotingRegressor(estimators=[('rf',rf_reg),('xgb',xgb_reg),('lgbm',lgbm_reg),('ridge',ridge_reg),('lasso',lasso_reg)]) #parenthesis are a must\n",
    "vo_reg.fit(X_train,y_train)\n",
    "pred3=vo_reg.predict(X_test)"
   ]
  },
  {
   "cell_type": "code",
   "execution_count": 23,
   "metadata": {
    "colab": {
     "base_uri": "https://localhost:8080/"
    },
    "id": "9XVMafv-H29e",
    "outputId": "aa45294f-3f33-4d74-a80c-4f49ce8096af"
   },
   "outputs": [
    {
     "name": "stdout",
     "output_type": "stream",
     "text": [
      "RMSLE: 0.15938335552938013\n",
      "RMSLE: 0.18565516710760105\n",
      "RMSLE: 0.1335535086356697\n"
     ]
    }
   ],
   "source": [
    "get_eval(y_test,pred1)\n",
    "get_eval(y_test,pred2)\n",
    "get_eval(y_test,pred3)"
   ]
  },
  {
   "cell_type": "markdown",
   "metadata": {
    "id": "Uir1DtRsvCiA"
   },
   "source": [
    "Uploading"
   ]
  },
  {
   "cell_type": "code",
   "execution_count": 24,
   "metadata": {
    "colab": {
     "base_uri": "https://localhost:8080/",
     "height": 232
    },
    "id": "g2tCLmWzYoOi",
    "outputId": "874e26c6-0658-4614-9c86-3dae05fad2cf"
   },
   "outputs": [
    {
     "data": {
      "text/html": [
       "<div>\n",
       "<style scoped>\n",
       "    .dataframe tbody tr th:only-of-type {\n",
       "        vertical-align: middle;\n",
       "    }\n",
       "\n",
       "    .dataframe tbody tr th {\n",
       "        vertical-align: top;\n",
       "    }\n",
       "\n",
       "    .dataframe thead th {\n",
       "        text-align: right;\n",
       "    }\n",
       "</style>\n",
       "<table border=\"1\" class=\"dataframe\">\n",
       "  <thead>\n",
       "    <tr style=\"text-align: right;\">\n",
       "      <th></th>\n",
       "      <th>Id</th>\n",
       "      <th>SalePrice</th>\n",
       "    </tr>\n",
       "  </thead>\n",
       "  <tbody>\n",
       "    <tr>\n",
       "      <th>0</th>\n",
       "      <td>1461</td>\n",
       "      <td>121203.126359</td>\n",
       "    </tr>\n",
       "    <tr>\n",
       "      <th>1</th>\n",
       "      <td>1462</td>\n",
       "      <td>155618.855122</td>\n",
       "    </tr>\n",
       "    <tr>\n",
       "      <th>2</th>\n",
       "      <td>1463</td>\n",
       "      <td>179140.260663</td>\n",
       "    </tr>\n",
       "  </tbody>\n",
       "</table>\n",
       "</div>"
      ],
      "text/plain": [
       "     Id      SalePrice\n",
       "0  1461  121203.126359\n",
       "1  1462  155618.855122\n",
       "2  1463  179140.260663"
      ]
     },
     "execution_count": 24,
     "metadata": {},
     "output_type": "execute_result"
    }
   ],
   "source": [
    "test_df.drop('SalePrice',axis=1,inplace=True)\n",
    "realpred=vo_reg.predict(test_df)\n",
    "realpred=pd.DataFrame(realpred, columns=['SalePrice']) \n",
    "submit_df=pd.DataFrame({'Id':id,'SalePrice':realpred['SalePrice']}) \n",
    "submit_df.head(3)"
   ]
  },
  {
   "cell_type": "code",
   "execution_count": 25,
   "metadata": {
    "id": "oBfcmD3PYrp0"
   },
   "outputs": [],
   "source": [
    "submit_df.to_csv('C:\\\\Users\\\\Dongjun\\\\.kaggle\\\\house\\\\submit1.csv', index = False)"
   ]
  }
 ],
 "metadata": {
  "colab": {
   "authorship_tag": "ABX9TyM90INk5OWXGWOPGlUabezd",
   "collapsed_sections": [],
   "include_colab_link": true,
   "mount_file_id": "1KKKsnou1DtAwbiyTZrMLjjug5kbX4_ZX",
   "name": "House_Prototype.ipynb",
   "provenance": [],
   "toc_visible": true
  },
  "kernelspec": {
   "display_name": "Python 3",
   "language": "python",
   "name": "python3"
  },
  "language_info": {
   "codemirror_mode": {
    "name": "ipython",
    "version": 3
   },
   "file_extension": ".py",
   "mimetype": "text/x-python",
   "name": "python",
   "nbconvert_exporter": "python",
   "pygments_lexer": "ipython3",
   "version": "3.8.8"
  }
 },
 "nbformat": 4,
 "nbformat_minor": 1
}
