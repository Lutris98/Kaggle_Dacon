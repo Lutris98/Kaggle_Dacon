{
  "nbformat": 4,
  "nbformat_minor": 0,
  "metadata": {
    "colab": {
      "name": "Titanic_Prototype.ipynb",
      "provenance": [],
      "collapsed_sections": [],
      "toc_visible": true,
      "authorship_tag": "ABX9TyN0zFiZG6WBHRIro/QW4ZSM",
      "include_colab_link": true
    },
    "kernelspec": {
      "name": "python3",
      "display_name": "Python 3"
    }
  },
  "cells": [
    {
      "cell_type": "markdown",
      "metadata": {
        "id": "view-in-github",
        "colab_type": "text"
      },
      "source": [
        "<a href=\"https://colab.research.google.com/github/Lutris98/21_1Q/blob/master/1.Titanic/Titanic_Prototype.ipynb\" target=\"_parent\"><img src=\"https://colab.research.google.com/assets/colab-badge.svg\" alt=\"Open In Colab\"/></a>"
      ]
    },
    {
      "cell_type": "markdown",
      "metadata": {
        "id": "AaDmu6d-9pwA"
      },
      "source": [
        "# 1.EDA"
      ]
    },
    {
      "cell_type": "code",
      "metadata": {
        "id": "uNOjOEZEge3O"
      },
      "source": [
        "import pandas as pd \r\n",
        "import matplotlib.pyplot as plt\r\n",
        "import seaborn as sns\r\n",
        "from sklearn.preprocessing import LabelEncoder, StandardScaler\r\n",
        "from sklearn.model_selection import train_test_split, cross_val_score, GridSearchCV #model_selection doesn't need mentioning, only the method does\r\n",
        "from sklearn.ensemble import RandomForestClassifier, VotingClassifier\r\n",
        "from xgboost import XGBClassifier\r\n",
        "from lightgbm import LGBMClassifier\r\n",
        "from sklearn.linear_model import LogisticRegression\r\n",
        "from sklearn.svm import SVC\r\n",
        "from sklearn.metrics import accuracy_score #given metric was accuracy"
      ],
      "execution_count": 589,
      "outputs": []
    },
    {
      "cell_type": "code",
      "metadata": {
        "colab": {
          "base_uri": "https://localhost:8080/"
        },
        "id": "H5WPdAAm0Qsy",
        "outputId": "b38ad9ae-ce8f-46ab-b5b7-cd4e2996987c"
      },
      "source": [
        "from google.colab import drive #Korean Army banned me from using os resources so I learned new ways\r\n",
        "drive.mount('/content/gdrive')\r\n",
        "titanic_df=pd.read_csv('/content/gdrive/MyDrive/Dataset/titanic_train.csv')\r\n",
        "test_df=pd.read_csv('/content/gdrive/MyDrive/Dataset/titanic_test.csv') "
      ],
      "execution_count": 590,
      "outputs": [
        {
          "output_type": "stream",
          "text": [
            "Drive already mounted at /content/gdrive; to attempt to forcibly remount, call drive.mount(\"/content/gdrive\", force_remount=True).\n"
          ],
          "name": "stdout"
        }
      ]
    },
    {
      "cell_type": "code",
      "metadata": {
        "id": "fyB_xIaVNV97"
      },
      "source": [
        "test_df['Survived']=2\r\n",
        "df=pd.concat([titanic_df,test_df],axis=0) #concatenating method in Pandas #Preprocessing needs test data(Never modeling) #Null values are okay until padding"
      ],
      "execution_count": 591,
      "outputs": []
    },
    {
      "cell_type": "markdown",
      "metadata": {
        "id": "TGj0Qo6Jx1Mn"
      },
      "source": [
        "##1)Basic Statistics"
      ]
    },
    {
      "cell_type": "code",
      "metadata": {
        "colab": {
          "base_uri": "https://localhost:8080/",
          "height": 138
        },
        "id": "XNwPVclMMOJT",
        "outputId": "53aba192-d06f-40d3-b9ff-e2a911fa1d5b"
      },
      "source": [
        "df.head(3) "
      ],
      "execution_count": 592,
      "outputs": [
        {
          "output_type": "execute_result",
          "data": {
            "text/html": [
              "<div>\n",
              "<style scoped>\n",
              "    .dataframe tbody tr th:only-of-type {\n",
              "        vertical-align: middle;\n",
              "    }\n",
              "\n",
              "    .dataframe tbody tr th {\n",
              "        vertical-align: top;\n",
              "    }\n",
              "\n",
              "    .dataframe thead th {\n",
              "        text-align: right;\n",
              "    }\n",
              "</style>\n",
              "<table border=\"1\" class=\"dataframe\">\n",
              "  <thead>\n",
              "    <tr style=\"text-align: right;\">\n",
              "      <th></th>\n",
              "      <th>PassengerId</th>\n",
              "      <th>Survived</th>\n",
              "      <th>Pclass</th>\n",
              "      <th>Name</th>\n",
              "      <th>Sex</th>\n",
              "      <th>Age</th>\n",
              "      <th>SibSp</th>\n",
              "      <th>Parch</th>\n",
              "      <th>Ticket</th>\n",
              "      <th>Fare</th>\n",
              "      <th>Cabin</th>\n",
              "      <th>Embarked</th>\n",
              "    </tr>\n",
              "  </thead>\n",
              "  <tbody>\n",
              "    <tr>\n",
              "      <th>0</th>\n",
              "      <td>1</td>\n",
              "      <td>0</td>\n",
              "      <td>3</td>\n",
              "      <td>Braund, Mr. Owen Harris</td>\n",
              "      <td>male</td>\n",
              "      <td>22.0</td>\n",
              "      <td>1</td>\n",
              "      <td>0</td>\n",
              "      <td>A/5 21171</td>\n",
              "      <td>7.2500</td>\n",
              "      <td>NaN</td>\n",
              "      <td>S</td>\n",
              "    </tr>\n",
              "    <tr>\n",
              "      <th>1</th>\n",
              "      <td>2</td>\n",
              "      <td>1</td>\n",
              "      <td>1</td>\n",
              "      <td>Cumings, Mrs. John Bradley (Florence Briggs Th...</td>\n",
              "      <td>female</td>\n",
              "      <td>38.0</td>\n",
              "      <td>1</td>\n",
              "      <td>0</td>\n",
              "      <td>PC 17599</td>\n",
              "      <td>71.2833</td>\n",
              "      <td>C85</td>\n",
              "      <td>C</td>\n",
              "    </tr>\n",
              "    <tr>\n",
              "      <th>2</th>\n",
              "      <td>3</td>\n",
              "      <td>1</td>\n",
              "      <td>3</td>\n",
              "      <td>Heikkinen, Miss. Laina</td>\n",
              "      <td>female</td>\n",
              "      <td>26.0</td>\n",
              "      <td>0</td>\n",
              "      <td>0</td>\n",
              "      <td>STON/O2. 3101282</td>\n",
              "      <td>7.9250</td>\n",
              "      <td>NaN</td>\n",
              "      <td>S</td>\n",
              "    </tr>\n",
              "  </tbody>\n",
              "</table>\n",
              "</div>"
            ],
            "text/plain": [
              "   PassengerId  Survived  Pclass  ...     Fare Cabin  Embarked\n",
              "0            1         0       3  ...   7.2500   NaN         S\n",
              "1            2         1       1  ...  71.2833   C85         C\n",
              "2            3         1       3  ...   7.9250   NaN         S\n",
              "\n",
              "[3 rows x 12 columns]"
            ]
          },
          "metadata": {
            "tags": []
          },
          "execution_count": 592
        }
      ]
    },
    {
      "cell_type": "code",
      "metadata": {
        "colab": {
          "base_uri": "https://localhost:8080/"
        },
        "id": "SGCRXDRJ3kA9",
        "outputId": "4a00a6f4-6d39-44c0-e505-24c9ccec7071"
      },
      "source": [
        "df.info() #objects are strings"
      ],
      "execution_count": 593,
      "outputs": [
        {
          "output_type": "stream",
          "text": [
            "<class 'pandas.core.frame.DataFrame'>\n",
            "Int64Index: 1309 entries, 0 to 417\n",
            "Data columns (total 12 columns):\n",
            " #   Column       Non-Null Count  Dtype  \n",
            "---  ------       --------------  -----  \n",
            " 0   PassengerId  1309 non-null   int64  \n",
            " 1   Survived     1309 non-null   int64  \n",
            " 2   Pclass       1309 non-null   int64  \n",
            " 3   Name         1309 non-null   object \n",
            " 4   Sex          1309 non-null   object \n",
            " 5   Age          1046 non-null   float64\n",
            " 6   SibSp        1309 non-null   int64  \n",
            " 7   Parch        1309 non-null   int64  \n",
            " 8   Ticket       1309 non-null   object \n",
            " 9   Fare         1308 non-null   float64\n",
            " 10  Cabin        295 non-null    object \n",
            " 11  Embarked     1307 non-null   object \n",
            "dtypes: float64(2), int64(5), object(5)\n",
            "memory usage: 132.9+ KB\n"
          ],
          "name": "stdout"
        }
      ]
    },
    {
      "cell_type": "markdown",
      "metadata": {
        "id": "GV61NjGqzgQq"
      },
      "source": [
        "##2)Encoding"
      ]
    },
    {
      "cell_type": "code",
      "metadata": {
        "id": "6P73Y4TCWx8F",
        "colab": {
          "base_uri": "https://localhost:8080/"
        },
        "outputId": "7b2cf9a3-ae27-4969-ac02-cec6f2e14766"
      },
      "source": [
        "df['Cabin']=df['Cabin'].str[:1] #Cabin needs insight that only the first character contains information #pd.str is applicable to series\r\n",
        "df.loc[(df.Embarked.isna()==True),'Embarked']='S'\r\n",
        "features=['Cabin','Sex','Embarked']\r\n",
        "for feature in features:\r\n",
        "  df[feature]=LabelEncoder().fit_transform(df[feature].astype(str)) #changing dtype of series #all are ordered categories\r\n",
        "  print(df[feature].value_counts(sort=True)) #focusing on columns"
      ],
      "execution_count": 594,
      "outputs": [
        {
          "output_type": "stream",
          "text": [
            "8    1014\n",
            "2      94\n",
            "1      65\n",
            "3      46\n",
            "4      41\n",
            "0      22\n",
            "5      21\n",
            "6       5\n",
            "7       1\n",
            "Name: Cabin, dtype: int64\n",
            "1    843\n",
            "0    466\n",
            "Name: Sex, dtype: int64\n",
            "2    916\n",
            "0    270\n",
            "1    123\n",
            "Name: Embarked, dtype: int64\n"
          ],
          "name": "stdout"
        }
      ]
    },
    {
      "cell_type": "markdown",
      "metadata": {
        "id": "J-UNhqZlycAw"
      },
      "source": [
        "##3)Basic feature engineering"
      ]
    },
    {
      "cell_type": "code",
      "metadata": {
        "id": "0hZHp8aYBSdj",
        "colab": {
          "base_uri": "https://localhost:8080/"
        },
        "outputId": "974915b5-1122-4f1e-a737-75d22b0e2041"
      },
      "source": [
        "df['Family']=df['SibSp']+df['Parch'] #Each feature doesn't mean much on its own\r\n",
        "df=df.drop(['SibSp','Parch','Ticket'], axis=1) #drop method doesn't allow inplacing(Should check results along the way)\r\n",
        "df['Name']=df['Name'].str.extract('([A-Za-z]+)\\.') #easiest Regex([] contains letters, +groups the previous part, ()contains part to be remembered, \\ignores that . mean any letters)\r\n",
        "df['Name'].value_counts(sort=True) #Even the most worthless data needs a peak"
      ],
      "execution_count": 595,
      "outputs": [
        {
          "output_type": "execute_result",
          "data": {
            "text/plain": [
              "Mr          757\n",
              "Miss        260\n",
              "Mrs         197\n",
              "Master       61\n",
              "Rev           8\n",
              "Dr            8\n",
              "Col           4\n",
              "Major         2\n",
              "Mlle          2\n",
              "Ms            2\n",
              "Mme           1\n",
              "Don           1\n",
              "Capt          1\n",
              "Sir           1\n",
              "Countess      1\n",
              "Lady          1\n",
              "Jonkheer      1\n",
              "Dona          1\n",
              "Name: Name, dtype: int64"
            ]
          },
          "metadata": {
            "tags": []
          },
          "execution_count": 595
        }
      ]
    },
    {
      "cell_type": "code",
      "metadata": {
        "colab": {
          "base_uri": "https://localhost:8080/"
        },
        "id": "ePlyYN9qfDcF",
        "outputId": "236a7f98-b8ce-4783-f504-f59bfba9aa12"
      },
      "source": [
        "df['Name'].replace(['Rev','Dr','Col','Major','Sir','Don','Mlle','Jonkheer','Mme','Ms','Countess','Capt','Lady','Dona'],['Mr','Mr','Mr','Mr','Mr','Mr','Mr','Mr','Mr','Miss','Miss','Miss','Miss','Miss',],inplace=True) #last3 of Mr is just guessing\r\n",
        "df['Name'].value_counts(sort=True)"
      ],
      "execution_count": 596,
      "outputs": [
        {
          "output_type": "execute_result",
          "data": {
            "text/plain": [
              "Mr        785\n",
              "Miss      266\n",
              "Mrs       197\n",
              "Master     61\n",
              "Name: Name, dtype: int64"
            ]
          },
          "metadata": {
            "tags": []
          },
          "execution_count": 596
        }
      ]
    },
    {
      "cell_type": "code",
      "metadata": {
        "colab": {
          "base_uri": "https://localhost:8080/",
          "height": 198
        },
        "id": "jebjyXN9Bh7v",
        "outputId": "310ca88b-cae2-403a-b3b1-a87ba6a1900d"
      },
      "source": [
        "df['Name']=LabelEncoder().fit_transform(df['Name'])\r\n",
        "df.head()"
      ],
      "execution_count": 597,
      "outputs": [
        {
          "output_type": "execute_result",
          "data": {
            "text/html": [
              "<div>\n",
              "<style scoped>\n",
              "    .dataframe tbody tr th:only-of-type {\n",
              "        vertical-align: middle;\n",
              "    }\n",
              "\n",
              "    .dataframe tbody tr th {\n",
              "        vertical-align: top;\n",
              "    }\n",
              "\n",
              "    .dataframe thead th {\n",
              "        text-align: right;\n",
              "    }\n",
              "</style>\n",
              "<table border=\"1\" class=\"dataframe\">\n",
              "  <thead>\n",
              "    <tr style=\"text-align: right;\">\n",
              "      <th></th>\n",
              "      <th>PassengerId</th>\n",
              "      <th>Survived</th>\n",
              "      <th>Pclass</th>\n",
              "      <th>Name</th>\n",
              "      <th>Sex</th>\n",
              "      <th>Age</th>\n",
              "      <th>Fare</th>\n",
              "      <th>Cabin</th>\n",
              "      <th>Embarked</th>\n",
              "      <th>Family</th>\n",
              "    </tr>\n",
              "  </thead>\n",
              "  <tbody>\n",
              "    <tr>\n",
              "      <th>0</th>\n",
              "      <td>1</td>\n",
              "      <td>0</td>\n",
              "      <td>3</td>\n",
              "      <td>2</td>\n",
              "      <td>1</td>\n",
              "      <td>22.0</td>\n",
              "      <td>7.2500</td>\n",
              "      <td>8</td>\n",
              "      <td>2</td>\n",
              "      <td>1</td>\n",
              "    </tr>\n",
              "    <tr>\n",
              "      <th>1</th>\n",
              "      <td>2</td>\n",
              "      <td>1</td>\n",
              "      <td>1</td>\n",
              "      <td>3</td>\n",
              "      <td>0</td>\n",
              "      <td>38.0</td>\n",
              "      <td>71.2833</td>\n",
              "      <td>2</td>\n",
              "      <td>0</td>\n",
              "      <td>1</td>\n",
              "    </tr>\n",
              "    <tr>\n",
              "      <th>2</th>\n",
              "      <td>3</td>\n",
              "      <td>1</td>\n",
              "      <td>3</td>\n",
              "      <td>1</td>\n",
              "      <td>0</td>\n",
              "      <td>26.0</td>\n",
              "      <td>7.9250</td>\n",
              "      <td>8</td>\n",
              "      <td>2</td>\n",
              "      <td>0</td>\n",
              "    </tr>\n",
              "    <tr>\n",
              "      <th>3</th>\n",
              "      <td>4</td>\n",
              "      <td>1</td>\n",
              "      <td>1</td>\n",
              "      <td>3</td>\n",
              "      <td>0</td>\n",
              "      <td>35.0</td>\n",
              "      <td>53.1000</td>\n",
              "      <td>2</td>\n",
              "      <td>2</td>\n",
              "      <td>1</td>\n",
              "    </tr>\n",
              "    <tr>\n",
              "      <th>4</th>\n",
              "      <td>5</td>\n",
              "      <td>0</td>\n",
              "      <td>3</td>\n",
              "      <td>2</td>\n",
              "      <td>1</td>\n",
              "      <td>35.0</td>\n",
              "      <td>8.0500</td>\n",
              "      <td>8</td>\n",
              "      <td>2</td>\n",
              "      <td>0</td>\n",
              "    </tr>\n",
              "  </tbody>\n",
              "</table>\n",
              "</div>"
            ],
            "text/plain": [
              "   PassengerId  Survived  Pclass  Name  ...     Fare  Cabin  Embarked  Family\n",
              "0            1         0       3     2  ...   7.2500      8         2       1\n",
              "1            2         1       1     3  ...  71.2833      2         0       1\n",
              "2            3         1       3     1  ...   7.9250      8         2       0\n",
              "3            4         1       1     3  ...  53.1000      2         2       1\n",
              "4            5         0       3     2  ...   8.0500      8         2       0\n",
              "\n",
              "[5 rows x 10 columns]"
            ]
          },
          "metadata": {
            "tags": []
          },
          "execution_count": 597
        }
      ]
    },
    {
      "cell_type": "markdown",
      "metadata": {
        "id": "TGUl6OZO90ya"
      },
      "source": [
        "#2.Preprocessing(with Visualization)"
      ]
    },
    {
      "cell_type": "markdown",
      "metadata": {
        "id": "Kq34a-WsPbJG"
      },
      "source": [
        "##1)Imputation"
      ]
    },
    {
      "cell_type": "code",
      "metadata": {
        "id": "E3GWIK-BTl6b",
        "colab": {
          "base_uri": "https://localhost:8080/"
        },
        "outputId": "fd912655-fe80-4e5c-d6b1-40f19d7a49fe"
      },
      "source": [
        "df.loc[(df.Age.isnull())&(df.Name==2),'Age']=40 #Another way to load series object #inside []are all true\r\n",
        "df.loc[(df.Age.isnull())&(df.Name==3),'Age']=40\r\n",
        "df.loc[(df.Age.isnull())&(df.Name==1),'Age']=20\r\n",
        "df.loc[(df.Age.isnull())&(df.Name==0),'Age']=5\r\n",
        "df.isna().sum()"
      ],
      "execution_count": 598,
      "outputs": [
        {
          "output_type": "execute_result",
          "data": {
            "text/plain": [
              "PassengerId    0\n",
              "Survived       0\n",
              "Pclass         0\n",
              "Name           0\n",
              "Sex            0\n",
              "Age            0\n",
              "Fare           1\n",
              "Cabin          0\n",
              "Embarked       0\n",
              "Family         0\n",
              "dtype: int64"
            ]
          },
          "metadata": {
            "tags": []
          },
          "execution_count": 598
        }
      ]
    },
    {
      "cell_type": "markdown",
      "metadata": {
        "id": "JYEymVCNUfjk"
      },
      "source": [
        "##2)Binning"
      ]
    },
    {
      "cell_type": "code",
      "metadata": {
        "id": "bLf1_EeiKbGh"
      },
      "source": [
        "df['Age_band']=0 #for float data in classification\r\n",
        "df.loc[df.Age<=15, 'Age_band']=1\r\n",
        "df.loc[(df.Age>15)&(df.Age<=30), 'Age_band']=2\r\n",
        "df.loc[(df.Age>30)&(df.Age<=45), 'Age_band']=3\r\n",
        "df.loc[(df.Age>45)&(df.Age<=60), 'Age_band']=4\r\n",
        "df.loc[(df.Age>60)&(df.Age<=75), 'Age_band']=5\r\n",
        "df.loc[(df.Age>75)&(df.Age<=90), 'Age_band']=6"
      ],
      "execution_count": 599,
      "outputs": []
    },
    {
      "cell_type": "code",
      "metadata": {
        "id": "fzL1_22QMM3c"
      },
      "source": [
        "df['Fare_band']=0 #by describe method\r\n",
        "df.loc[df.Fare<=7, 'Fare_band']=1\r\n",
        "df.loc[(df.Fare>14)&(df.Fare<=28), 'Fare_band']=2\r\n",
        "df.loc[(df.Fare>28)&(df.Fare<=35), 'Fare_band']=3\r\n",
        "df.loc[(df.Fare>35), 'Fare_band']=4"
      ],
      "execution_count": 600,
      "outputs": []
    },
    {
      "cell_type": "code",
      "metadata": {
        "id": "uUl1eMRfFzDO"
      },
      "source": [
        "df.drop(['Age','Fare'],axis=1,inplace=True)"
      ],
      "execution_count": 601,
      "outputs": []
    },
    {
      "cell_type": "markdown",
      "metadata": {
        "id": "I9DgVClzU_x2"
      },
      "source": [
        "##3)Feature selection"
      ]
    },
    {
      "cell_type": "code",
      "metadata": {
        "colab": {
          "base_uri": "https://localhost:8080/",
          "height": 1000
        },
        "id": "1gWphn1PBoFe",
        "outputId": "2743ba62-f534-4e9a-e137-9bc2949c4493"
      },
      "source": [
        "pre_df=df.drop(['PassengerId'], axis=1)\r\n",
        "features=pre_df.columns.values #columns is dataframe, so make it into ndarray #1.Feature distribution/train&test similarity\r\n",
        "for feature in features: #now i get why ppl use enumerate\r\n",
        "    plt.figure() #to control manually we need subplots and ax\r\n",
        "    sns.countplot(data=pre_df,x=feature) #sns has advantages on graph by dataframe(not x,y but data and feature names) \r\n",
        "    plt.xlabel(feature)"
      ],
      "execution_count": 602,
      "outputs": [
        {
          "output_type": "display_data",
          "data": {
            "image/png": "[encoded data removed]",
            "text/plain": [
              "<Figure size 432x288 with 1 Axes>"
            ]
          },
          "metadata": {
            "tags": [],
            "needs_background": "light"
          }
        },
        {
          "output_type": "display_data",
          "data": {
            "image/png": "[encoded data removed]",
            "text/plain": [
              "<Figure size 432x288 with 1 Axes>"
            ]
          },
          "metadata": {
            "tags": [],
            "needs_background": "light"
          }
        },
        {
          "output_type": "display_data",
          "data": {
            "image/png": "[encoded data removed]",
            "text/plain": [
              "<Figure size 432x288 with 1 Axes>"
            ]
          },
          "metadata": {
            "tags": [],
            "needs_background": "light"
          }
        },
        {
          "output_type": "display_data",
          "data": {
            "image/png": "[encoded data removed]",
            "text/plain": [
              "<Figure size 432x288 with 1 Axes>"
            ]
          },
          "metadata": {
            "tags": [],
            "needs_background": "light"
          }
        },
        {
          "output_type": "display_data",
          "data": {
            "image/png": "[encoded data removed]",
            "text/plain": [
              "<Figure size 432x288 with 1 Axes>"
            ]
          },
          "metadata": {
            "tags": [],
            "needs_background": "light"
          }
        },
        {
          "output_type": "display_data",
          "data": {
            "image/png": "[encoded data removed]",
            "text/plain": [
              "<Figure size 432x288 with 1 Axes>"
            ]
          },
          "metadata": {
            "tags": [],
            "needs_background": "light"
          }
        },
        {
          "output_type": "display_data",
          "data": {
            "image/png": "[encoded data removed]",
            "text/plain": [
              "<Figure size 432x288 with 1 Axes>"
            ]
          },
          "metadata": {
            "tags": [],
            "needs_background": "light"
          }
        },
        {
          "output_type": "display_data",
          "data": {
            "image/png": "[encoded data removed]",
            "text/plain": [
              "<Figure size 432x288 with 1 Axes>"
            ]
          },
          "metadata": {
            "tags": [],
            "needs_background": "light"
          }
        },
        {
          "output_type": "display_data",
          "data": {
            "image/png": "[encoded data removed]",
            "text/plain": [
              "<Figure size 432x288 with 1 Axes>"
            ]
          },
          "metadata": {
            "tags": [],
            "needs_background": "light"
          }
        }
      ]
    },
    {
      "cell_type": "code",
      "metadata": {
        "id": "jFCf6aPAQD24",
        "colab": {
          "base_uri": "https://localhost:8080/",
          "height": 655
        },
        "outputId": "5da418d7-e03a-4ef6-9784-ba891aa6a7fc"
      },
      "source": [
        "plt.figure(figsize=(10,10))\r\n",
        "sns.heatmap(pre_df.corr(), annot=True, cmap='Blues') #annotation is a must #2.Correlation"
      ],
      "execution_count": 603,
      "outputs": [
        {
          "output_type": "execute_result",
          "data": {
            "text/plain": [
              "<matplotlib.axes._subplots.AxesSubplot at 0x7f1a63d9eb38>"
            ]
          },
          "metadata": {
            "tags": []
          },
          "execution_count": 603
        },
        {
          "output_type": "display_data",
          "data": {
            "image/png": "[encoded data removed]",
            "text/plain": [
              "<Figure size 720x720 with 2 Axes>"
            ]
          },
          "metadata": {
            "tags": [],
            "needs_background": "light"
          }
        }
      ]
    },
    {
      "cell_type": "code",
      "metadata": {
        "colab": {
          "base_uri": "https://localhost:8080/"
        },
        "id": "Ty9o-7w8AwVx",
        "outputId": "3e0966d3-1bee-4472-a217-aa584d4e08c5"
      },
      "source": [
        "cabin_df=pre_df.groupby(['Pclass','Cabin']).size() #always groupby 2features, use with size()\r\n",
        "cabin_df"
      ],
      "execution_count": 604,
      "outputs": [
        {
          "output_type": "execute_result",
          "data": {
            "text/plain": [
              "Pclass  Cabin\n",
              "1       0         22\n",
              "        1         65\n",
              "        2         94\n",
              "        3         40\n",
              "        4         34\n",
              "        7          1\n",
              "        8         67\n",
              "2       3          6\n",
              "        4          4\n",
              "        5         13\n",
              "        8        254\n",
              "3       4          3\n",
              "        5          8\n",
              "        6          5\n",
              "        8        693\n",
              "dtype: int64"
            ]
          },
          "metadata": {
            "tags": []
          },
          "execution_count": 604
        }
      ]
    },
    {
      "cell_type": "code",
      "metadata": {
        "id": "ta_1qKTXfomZ"
      },
      "source": [
        "df.loc[(df.Cabin==8)&(df.Pclass==1),'Cabin']=2\r\n",
        "df.loc[(df.Cabin==8)&(df.Pclass==2),'Cabin']=4\r\n",
        "df.loc[(df.Cabin==8)&(df.Pclass==3),'Cabin']=6"
      ],
      "execution_count": 605,
      "outputs": []
    },
    {
      "cell_type": "markdown",
      "metadata": {
        "id": "vPEjfjGrKtOr"
      },
      "source": [
        "#3.CV&Tuning"
      ]
    },
    {
      "cell_type": "code",
      "metadata": {
        "id": "SwrGPAnD4zXu",
        "colab": {
          "base_uri": "https://localhost:8080/",
          "height": 138
        },
        "outputId": "36eb3a8b-921e-4db4-a181-790f4f85371e"
      },
      "source": [
        "test_df=df.loc[df['Survived']==2].drop('Survived',axis=1) #Needs division again\r\n",
        "titanic_df=df.loc[df['Survived']!=2]\r\n",
        "titanic_feature=titanic_df.drop(['Survived','PassengerId'], axis=1) #parameter axis is mandatory\r\n",
        "titanic_label=titanic_df['Survived']\r\n",
        "titanic_feature.head(3)"
      ],
      "execution_count": 606,
      "outputs": [
        {
          "output_type": "execute_result",
          "data": {
            "text/html": [
              "<div>\n",
              "<style scoped>\n",
              "    .dataframe tbody tr th:only-of-type {\n",
              "        vertical-align: middle;\n",
              "    }\n",
              "\n",
              "    .dataframe tbody tr th {\n",
              "        vertical-align: top;\n",
              "    }\n",
              "\n",
              "    .dataframe thead th {\n",
              "        text-align: right;\n",
              "    }\n",
              "</style>\n",
              "<table border=\"1\" class=\"dataframe\">\n",
              "  <thead>\n",
              "    <tr style=\"text-align: right;\">\n",
              "      <th></th>\n",
              "      <th>Pclass</th>\n",
              "      <th>Name</th>\n",
              "      <th>Sex</th>\n",
              "      <th>Cabin</th>\n",
              "      <th>Embarked</th>\n",
              "      <th>Family</th>\n",
              "      <th>Age_band</th>\n",
              "      <th>Fare_band</th>\n",
              "    </tr>\n",
              "  </thead>\n",
              "  <tbody>\n",
              "    <tr>\n",
              "      <th>0</th>\n",
              "      <td>3</td>\n",
              "      <td>2</td>\n",
              "      <td>1</td>\n",
              "      <td>6</td>\n",
              "      <td>2</td>\n",
              "      <td>1</td>\n",
              "      <td>2</td>\n",
              "      <td>0</td>\n",
              "    </tr>\n",
              "    <tr>\n",
              "      <th>1</th>\n",
              "      <td>1</td>\n",
              "      <td>3</td>\n",
              "      <td>0</td>\n",
              "      <td>2</td>\n",
              "      <td>0</td>\n",
              "      <td>1</td>\n",
              "      <td>3</td>\n",
              "      <td>4</td>\n",
              "    </tr>\n",
              "    <tr>\n",
              "      <th>2</th>\n",
              "      <td>3</td>\n",
              "      <td>1</td>\n",
              "      <td>0</td>\n",
              "      <td>6</td>\n",
              "      <td>2</td>\n",
              "      <td>0</td>\n",
              "      <td>2</td>\n",
              "      <td>0</td>\n",
              "    </tr>\n",
              "  </tbody>\n",
              "</table>\n",
              "</div>"
            ],
            "text/plain": [
              "   Pclass  Name  Sex  Cabin  Embarked  Family  Age_band  Fare_band\n",
              "0       3     2    1      6         2       1         2          0\n",
              "1       1     3    0      2         0       1         3          4\n",
              "2       3     1    0      6         2       0         2          0"
            ]
          },
          "metadata": {
            "tags": []
          },
          "execution_count": 606
        }
      ]
    },
    {
      "cell_type": "code",
      "metadata": {
        "id": "XWHUJvRiK1ji"
      },
      "source": [
        "rf_clf=RandomForestClassifier(random_state=0) #Cross validation need models \r\n",
        "xgb_clf=XGBClassifier(random_state=0)\r\n",
        "svm_clf=SVC(kernel='rbf',C=0.1,probability=True)\r\n",
        "log_clf=LogisticRegression(C=0.1)\r\n",
        "X_train, X_test, y_train, y_test=train_test_split(titanic_feature, titanic_label, test_size=0.2,random_state=0)"
      ],
      "execution_count": 607,
      "outputs": []
    },
    {
      "cell_type": "code",
      "metadata": {
        "id": "KkrHw-VNbTv8",
        "colab": {
          "base_uri": "https://localhost:8080/"
        },
        "outputId": "e668821d-bbc5-478c-bf34-c4fc3838d8bd"
      },
      "source": [
        "rf_params={'n_estimators':[50,100,150],\r\n",
        "           'max_depth':[3,5,7], #similar to decisiontree\r\n",
        "           'min_samples_leaf':[3,5,7],\r\n",
        "           'min_samples_split':[5,7,9]}\r\n",
        "rf_gridcv=GridSearchCV(rf_clf, param_grid=rf_params, cv=5, n_jobs=-1) #using all CPU cores\r\n",
        "rf_gridcv.fit(X_train, y_train)\r\n",
        "print('best parameters:\\n',rf_gridcv.best_params_)\r\n",
        "rf_clf=rf_gridcv.best_estimator_"
      ],
      "execution_count": 608,
      "outputs": [
        {
          "output_type": "stream",
          "text": [
            "best parameters:\n",
            " {'max_depth': 5, 'min_samples_leaf': 3, 'min_samples_split': 5, 'n_estimators': 150}\n"
          ],
          "name": "stdout"
        }
      ]
    },
    {
      "cell_type": "code",
      "metadata": {
        "id": "ZbfR2Fq9KFi3",
        "colab": {
          "base_uri": "https://localhost:8080/"
        },
        "outputId": "c414822f-f448-4d8b-ab4c-252427793976"
      },
      "source": [
        "xgb_params={'learning_rate' : [0.02], \r\n",
        "            'n_estimators':[200,300,400],\r\n",
        "            'max_depth':[3,5,7],\r\n",
        "            'colsample_bytree':[0.7,0.8],\r\n",
        "            'subsample':[0.9]}\r\n",
        "xgb_gridcv=GridSearchCV(xgb_clf, param_grid=xgb_params, cv=5, n_jobs=-1) \r\n",
        "xgb_gridcv.fit(X_train, y_train)\r\n",
        "print('best parameters:\\n',xgb_gridcv.best_params_)\r\n",
        "xgb_clf=xgb_gridcv.best_estimator_"
      ],
      "execution_count": 609,
      "outputs": [
        {
          "output_type": "stream",
          "text": [
            "best parameters:\n",
            " {'colsample_bytree': 0.8, 'learning_rate': 0.02, 'max_depth': 3, 'n_estimators': 200, 'subsample': 0.9}\n"
          ],
          "name": "stdout"
        }
      ]
    },
    {
      "cell_type": "markdown",
      "metadata": {
        "id": "1unUXEw_NMcH"
      },
      "source": [
        "#4.Modeling"
      ]
    },
    {
      "cell_type": "code",
      "metadata": {
        "id": "Cjxu0w-0NQI-",
        "colab": {
          "base_uri": "https://localhost:8080/"
        },
        "outputId": "b52965c4-81db-48ba-e951-96196bf8d676"
      },
      "source": [
        "vo_clf=VotingClassifier(estimators=[('RandomForest',rf_clf),('XGBoost',xgb_clf),('SVM',svm_clf),('LogisticReg',log_clf)], voting='soft')\r\n",
        "pred1=rf_clf.fit(X_train, y_train).predict(X_test)\r\n",
        "pred2=xgb_clf.fit(X_train, y_train).predict(X_test)\r\n",
        "pred3=svm_clf.fit(X_train, y_train).predict(X_test)\r\n",
        "pred4=log_clf.fit(X_train, y_train).predict(X_test)\r\n",
        "pred5=vo_clf.fit(X_train, y_train).predict(X_test)\r\n",
        "print('Accuracy1:{0:.4f} / Accuracy2:{1:.4f} / Accuracy3:{2:4f} / Accuracy4:{3:4f}'.format(accuracy_score(y_test,pred1), accuracy_score(y_test,pred2),accuracy_score(y_test,pred3),accuracy_score(y_test,pred4)))\r\n",
        "print('Final accuracy:{0:.4f}'.format(accuracy_score(y_test,pred5))) #from python3.6 should use fstring formatting  #:separates index and the number"
      ],
      "execution_count": 610,
      "outputs": [
        {
          "output_type": "stream",
          "text": [
            "Accuracy1:0.8156 / Accuracy2:0.8101 / Accuracy3:0.787709 / Accuracy4:0.798883\n",
            "Final accuracy:0.8268\n"
          ],
          "name": "stdout"
        }
      ]
    },
    {
      "cell_type": "markdown",
      "metadata": {
        "id": "zOXTJAG5nVdH"
      },
      "source": [
        "# 1)Uploading"
      ]
    },
    {
      "cell_type": "code",
      "metadata": {
        "id": "Xs_hGd2xoL22",
        "colab": {
          "base_uri": "https://localhost:8080/",
          "height": 138
        },
        "outputId": "729ddaa9-3394-407f-848d-02a5fd50e4cb"
      },
      "source": [
        "Pid=test_df['PassengerId']\r\n",
        "test_df.drop('PassengerId',axis=1,inplace=True)\r\n",
        "test_df.head(3)"
      ],
      "execution_count": 611,
      "outputs": [
        {
          "output_type": "execute_result",
          "data": {
            "text/html": [
              "<div>\n",
              "<style scoped>\n",
              "    .dataframe tbody tr th:only-of-type {\n",
              "        vertical-align: middle;\n",
              "    }\n",
              "\n",
              "    .dataframe tbody tr th {\n",
              "        vertical-align: top;\n",
              "    }\n",
              "\n",
              "    .dataframe thead th {\n",
              "        text-align: right;\n",
              "    }\n",
              "</style>\n",
              "<table border=\"1\" class=\"dataframe\">\n",
              "  <thead>\n",
              "    <tr style=\"text-align: right;\">\n",
              "      <th></th>\n",
              "      <th>Pclass</th>\n",
              "      <th>Name</th>\n",
              "      <th>Sex</th>\n",
              "      <th>Cabin</th>\n",
              "      <th>Embarked</th>\n",
              "      <th>Family</th>\n",
              "      <th>Age_band</th>\n",
              "      <th>Fare_band</th>\n",
              "    </tr>\n",
              "  </thead>\n",
              "  <tbody>\n",
              "    <tr>\n",
              "      <th>0</th>\n",
              "      <td>3</td>\n",
              "      <td>2</td>\n",
              "      <td>1</td>\n",
              "      <td>6</td>\n",
              "      <td>1</td>\n",
              "      <td>0</td>\n",
              "      <td>3</td>\n",
              "      <td>0</td>\n",
              "    </tr>\n",
              "    <tr>\n",
              "      <th>1</th>\n",
              "      <td>3</td>\n",
              "      <td>3</td>\n",
              "      <td>0</td>\n",
              "      <td>6</td>\n",
              "      <td>2</td>\n",
              "      <td>1</td>\n",
              "      <td>4</td>\n",
              "      <td>1</td>\n",
              "    </tr>\n",
              "    <tr>\n",
              "      <th>2</th>\n",
              "      <td>2</td>\n",
              "      <td>2</td>\n",
              "      <td>1</td>\n",
              "      <td>4</td>\n",
              "      <td>1</td>\n",
              "      <td>0</td>\n",
              "      <td>5</td>\n",
              "      <td>0</td>\n",
              "    </tr>\n",
              "  </tbody>\n",
              "</table>\n",
              "</div>"
            ],
            "text/plain": [
              "   Pclass  Name  Sex  Cabin  Embarked  Family  Age_band  Fare_band\n",
              "0       3     2    1      6         1       0         3          0\n",
              "1       3     3    0      6         2       1         4          1\n",
              "2       2     2    1      4         1       0         5          0"
            ]
          },
          "metadata": {
            "tags": []
          },
          "execution_count": 611
        }
      ]
    },
    {
      "cell_type": "code",
      "metadata": {
        "id": "Y9XOpoIDYBLH"
      },
      "source": [
        "realpred=vo_clf.predict(test_df) #output of classifier is ndarray object\r\n",
        "realpred=pd.DataFrame(realpred, columns=['Survived']) #never forget[]\r\n",
        "submit_df=pd.DataFrame({'PassengerId':Pid,'Survived':realpred['Survived']}) #Data set by giving each column name and data\r\n",
        "submit_df.head(3)\r\n",
        "submit_df.to_csv('/content/gdrive/MyDrive/Dataset/Lutris_titanic.csv', index = False) #The client doesn't want indice on submission"
      ],
      "execution_count": 612,
      "outputs": []
    },
    {
      "cell_type": "markdown",
      "metadata": {
        "id": "aXVyEpanGSr5"
      },
      "source": [
        "# 2)Feedback<br>\r\n",
        "Do not be satisfied with the comfort higher APIs give. Only the ones that understand the lower ver have the right to enjoy."
      ]
    },
    {
      "cell_type": "markdown",
      "metadata": {
        "id": "hZnsYtXhPP6G"
      },
      "source": [
        "#3)Afterwords\r\n",
        "I thought about this notebook for a week but barely made it to top33%.<br>\r\n",
        "My first competition left me a bit of a warning that things aren't gonna be as rosy as I might dream.<br>\r\n",
        "After pouring much thought into it, i skimmed through famous notebooks, but it brought me more despair as I found out that there much simpler notebooks sometimes get much higher scores(that I can't see why), and some I can't understand at my level.<br>\r\n",
        "But again, this is a warning. I'm gonna need all the skills I regarded unnecessary, and gonna need read alot. \r\n",
        "There is a bright side. I did learn a lot from this prediction. How I should concatenate train&test data, how important Visualization and Padding can be and so forth.<br>\r\n"
      ]
    }
  ]
}