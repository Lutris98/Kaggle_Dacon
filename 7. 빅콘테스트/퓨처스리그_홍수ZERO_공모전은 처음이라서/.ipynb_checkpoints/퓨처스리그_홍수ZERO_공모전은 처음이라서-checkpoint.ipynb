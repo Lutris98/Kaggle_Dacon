{
 "cells": [
  {
   "cell_type": "markdown",
   "id": "6a6cd8f0",
   "metadata": {
    "ExecuteTime": {
     "end_time": "2021-08-21T12:21:46.885102Z",
     "start_time": "2021-08-21T12:21:14.929Z"
    }
   },
   "source": [
    "# 데이터 정리"
   ]
  },
  {
   "cell_type": "markdown",
   "id": "0f227317",
   "metadata": {},
   "source": [
    "## 데이터 입력\n",
    "먼저 데이터를 불러옵니다."
   ]
  },
  {
   "cell_type": "code",
   "execution_count": 1,
   "id": "082413ed",
   "metadata": {
    "ExecuteTime": {
     "end_time": "2021-09-12T23:20:57.132157Z",
     "start_time": "2021-09-12T23:20:50.306758Z"
    }
   },
   "outputs": [],
   "source": [
    "import pandas as pd\n",
    "data = pd.read_excel(\"./데이터/제공데이터.xlsx\")\n",
    "from warnings import filterwarnings\n",
    "filterwarnings('ignore')"
   ]
  },
  {
   "cell_type": "code",
   "execution_count": 2,
   "id": "4ce05fea",
   "metadata": {
    "ExecuteTime": {
     "end_time": "2021-09-12T23:20:57.257188Z",
     "start_time": "2021-09-12T23:20:57.136165Z"
    }
   },
   "outputs": [
    {
     "data": {
      "text/html": [
       "<div>\n",
       "<style scoped>\n",
       "    .dataframe tbody tr th:only-of-type {\n",
       "        vertical-align: middle;\n",
       "    }\n",
       "\n",
       "    .dataframe tbody tr th {\n",
       "        vertical-align: top;\n",
       "    }\n",
       "\n",
       "    .dataframe thead th {\n",
       "        text-align: right;\n",
       "    }\n",
       "</style>\n",
       "<table border=\"1\" class=\"dataframe\">\n",
       "  <thead>\n",
       "    <tr style=\"text-align: right;\">\n",
       "      <th></th>\n",
       "      <th>홍수사상번호</th>\n",
       "      <th>연</th>\n",
       "      <th>월</th>\n",
       "      <th>일</th>\n",
       "      <th>시간</th>\n",
       "      <th>유입량</th>\n",
       "      <th>데이터집단 1</th>\n",
       "      <th>Unnamed: 7</th>\n",
       "      <th>Unnamed: 8</th>\n",
       "      <th>Unnamed: 9</th>\n",
       "      <th>...</th>\n",
       "      <th>Unnamed: 38</th>\n",
       "      <th>Unnamed: 39</th>\n",
       "      <th>Unnamed: 40</th>\n",
       "      <th>데이터 집단 6</th>\n",
       "      <th>Unnamed: 42</th>\n",
       "      <th>Unnamed: 43</th>\n",
       "      <th>Unnamed: 44</th>\n",
       "      <th>Unnamed: 45</th>\n",
       "      <th>Unnamed: 46</th>\n",
       "      <th>Unnamed: 47</th>\n",
       "    </tr>\n",
       "  </thead>\n",
       "  <tbody>\n",
       "    <tr>\n",
       "      <th>0</th>\n",
       "      <td>NaN</td>\n",
       "      <td>NaN</td>\n",
       "      <td>NaN</td>\n",
       "      <td>NaN</td>\n",
       "      <td>NaN</td>\n",
       "      <td>NaN</td>\n",
       "      <td>유역평균강수</td>\n",
       "      <td>강우(A지역)</td>\n",
       "      <td>강우(B지역)</td>\n",
       "      <td>강우(C지역)</td>\n",
       "      <td>...</td>\n",
       "      <td>강우(D지역)</td>\n",
       "      <td>수위(E지역)</td>\n",
       "      <td>수위(D지역)</td>\n",
       "      <td>유역평균강수</td>\n",
       "      <td>강우(A지역)</td>\n",
       "      <td>강우(B지역)</td>\n",
       "      <td>강우(C지역)</td>\n",
       "      <td>강우(D지역)</td>\n",
       "      <td>수위(E지역)</td>\n",
       "      <td>수위(D지역)</td>\n",
       "    </tr>\n",
       "    <tr>\n",
       "      <th>1</th>\n",
       "      <td>1.0</td>\n",
       "      <td>2006.0</td>\n",
       "      <td>7.0</td>\n",
       "      <td>10.0</td>\n",
       "      <td>8.0</td>\n",
       "      <td>189.100000</td>\n",
       "      <td>6.4</td>\n",
       "      <td>7</td>\n",
       "      <td>7</td>\n",
       "      <td>7</td>\n",
       "      <td>...</td>\n",
       "      <td>8</td>\n",
       "      <td>2.54</td>\n",
       "      <td>122.66</td>\n",
       "      <td>6.4</td>\n",
       "      <td>7</td>\n",
       "      <td>7</td>\n",
       "      <td>8</td>\n",
       "      <td>8</td>\n",
       "      <td>2.54</td>\n",
       "      <td>122.61</td>\n",
       "    </tr>\n",
       "    <tr>\n",
       "      <th>2</th>\n",
       "      <td>1.0</td>\n",
       "      <td>2006.0</td>\n",
       "      <td>7.0</td>\n",
       "      <td>10.0</td>\n",
       "      <td>9.0</td>\n",
       "      <td>216.951962</td>\n",
       "      <td>6.3</td>\n",
       "      <td>7</td>\n",
       "      <td>8</td>\n",
       "      <td>7</td>\n",
       "      <td>...</td>\n",
       "      <td>10</td>\n",
       "      <td>2.53</td>\n",
       "      <td>122.648</td>\n",
       "      <td>7.3</td>\n",
       "      <td>7</td>\n",
       "      <td>8</td>\n",
       "      <td>10</td>\n",
       "      <td>10</td>\n",
       "      <td>2.53</td>\n",
       "      <td>122.6</td>\n",
       "    </tr>\n",
       "    <tr>\n",
       "      <th>3</th>\n",
       "      <td>1.0</td>\n",
       "      <td>2006.0</td>\n",
       "      <td>7.0</td>\n",
       "      <td>10.0</td>\n",
       "      <td>10.0</td>\n",
       "      <td>251.424419</td>\n",
       "      <td>6.4</td>\n",
       "      <td>7</td>\n",
       "      <td>9</td>\n",
       "      <td>7</td>\n",
       "      <td>...</td>\n",
       "      <td>11</td>\n",
       "      <td>2.53</td>\n",
       "      <td>122.636</td>\n",
       "      <td>8.2</td>\n",
       "      <td>7</td>\n",
       "      <td>9</td>\n",
       "      <td>10</td>\n",
       "      <td>11</td>\n",
       "      <td>2.53</td>\n",
       "      <td>122.59</td>\n",
       "    </tr>\n",
       "    <tr>\n",
       "      <th>4</th>\n",
       "      <td>1.0</td>\n",
       "      <td>2006.0</td>\n",
       "      <td>7.0</td>\n",
       "      <td>10.0</td>\n",
       "      <td>11.0</td>\n",
       "      <td>302.812199</td>\n",
       "      <td>7.3</td>\n",
       "      <td>7</td>\n",
       "      <td>10</td>\n",
       "      <td>7</td>\n",
       "      <td>...</td>\n",
       "      <td>14</td>\n",
       "      <td>2.53</td>\n",
       "      <td>122.62</td>\n",
       "      <td>11.3</td>\n",
       "      <td>9</td>\n",
       "      <td>10</td>\n",
       "      <td>15</td>\n",
       "      <td>14</td>\n",
       "      <td>2.53</td>\n",
       "      <td>122.585</td>\n",
       "    </tr>\n",
       "    <tr>\n",
       "      <th>...</th>\n",
       "      <td>...</td>\n",
       "      <td>...</td>\n",
       "      <td>...</td>\n",
       "      <td>...</td>\n",
       "      <td>...</td>\n",
       "      <td>...</td>\n",
       "      <td>...</td>\n",
       "      <td>...</td>\n",
       "      <td>...</td>\n",
       "      <td>...</td>\n",
       "      <td>...</td>\n",
       "      <td>...</td>\n",
       "      <td>...</td>\n",
       "      <td>...</td>\n",
       "      <td>...</td>\n",
       "      <td>...</td>\n",
       "      <td>...</td>\n",
       "      <td>...</td>\n",
       "      <td>...</td>\n",
       "      <td>...</td>\n",
       "      <td>...</td>\n",
       "    </tr>\n",
       "    <tr>\n",
       "      <th>3047</th>\n",
       "      <td>26.0</td>\n",
       "      <td>2018.0</td>\n",
       "      <td>7.0</td>\n",
       "      <td>7.0</td>\n",
       "      <td>17.0</td>\n",
       "      <td>NaN</td>\n",
       "      <td>2.3689</td>\n",
       "      <td>1</td>\n",
       "      <td>0</td>\n",
       "      <td>0</td>\n",
       "      <td>...</td>\n",
       "      <td>0</td>\n",
       "      <td>3.16</td>\n",
       "      <td>129.916</td>\n",
       "      <td>2.1722</td>\n",
       "      <td>1</td>\n",
       "      <td>0</td>\n",
       "      <td>0</td>\n",
       "      <td>0</td>\n",
       "      <td>3.16</td>\n",
       "      <td>129.95</td>\n",
       "    </tr>\n",
       "    <tr>\n",
       "      <th>3048</th>\n",
       "      <td>26.0</td>\n",
       "      <td>2018.0</td>\n",
       "      <td>7.0</td>\n",
       "      <td>7.0</td>\n",
       "      <td>18.0</td>\n",
       "      <td>NaN</td>\n",
       "      <td>2.3689</td>\n",
       "      <td>1</td>\n",
       "      <td>0</td>\n",
       "      <td>0</td>\n",
       "      <td>...</td>\n",
       "      <td>0</td>\n",
       "      <td>3.15</td>\n",
       "      <td>129.928</td>\n",
       "      <td>2.0805</td>\n",
       "      <td>1</td>\n",
       "      <td>0</td>\n",
       "      <td>0</td>\n",
       "      <td>0</td>\n",
       "      <td>3.15</td>\n",
       "      <td>129.97</td>\n",
       "    </tr>\n",
       "    <tr>\n",
       "      <th>3049</th>\n",
       "      <td>26.0</td>\n",
       "      <td>2018.0</td>\n",
       "      <td>7.0</td>\n",
       "      <td>7.0</td>\n",
       "      <td>19.0</td>\n",
       "      <td>NaN</td>\n",
       "      <td>2.3689</td>\n",
       "      <td>1</td>\n",
       "      <td>0</td>\n",
       "      <td>0</td>\n",
       "      <td>...</td>\n",
       "      <td>0</td>\n",
       "      <td>3.13</td>\n",
       "      <td>129.94</td>\n",
       "      <td>2.0354</td>\n",
       "      <td>1</td>\n",
       "      <td>0</td>\n",
       "      <td>0</td>\n",
       "      <td>0</td>\n",
       "      <td>3.13</td>\n",
       "      <td>129.98</td>\n",
       "    </tr>\n",
       "    <tr>\n",
       "      <th>3050</th>\n",
       "      <td>26.0</td>\n",
       "      <td>2018.0</td>\n",
       "      <td>7.0</td>\n",
       "      <td>7.0</td>\n",
       "      <td>20.0</td>\n",
       "      <td>NaN</td>\n",
       "      <td>2.3689</td>\n",
       "      <td>1</td>\n",
       "      <td>0</td>\n",
       "      <td>0</td>\n",
       "      <td>...</td>\n",
       "      <td>0</td>\n",
       "      <td>3.11</td>\n",
       "      <td>129.952</td>\n",
       "      <td>1.8993</td>\n",
       "      <td>1</td>\n",
       "      <td>0</td>\n",
       "      <td>0</td>\n",
       "      <td>0</td>\n",
       "      <td>3.11</td>\n",
       "      <td>129.99</td>\n",
       "    </tr>\n",
       "    <tr>\n",
       "      <th>3051</th>\n",
       "      <td>26.0</td>\n",
       "      <td>2018.0</td>\n",
       "      <td>7.0</td>\n",
       "      <td>7.0</td>\n",
       "      <td>21.0</td>\n",
       "      <td>NaN</td>\n",
       "      <td>2.3689</td>\n",
       "      <td>1</td>\n",
       "      <td>0</td>\n",
       "      <td>0</td>\n",
       "      <td>...</td>\n",
       "      <td>0</td>\n",
       "      <td>3.1</td>\n",
       "      <td>129.964</td>\n",
       "      <td>1.881</td>\n",
       "      <td>1</td>\n",
       "      <td>0</td>\n",
       "      <td>0</td>\n",
       "      <td>0</td>\n",
       "      <td>3.1</td>\n",
       "      <td>130</td>\n",
       "    </tr>\n",
       "  </tbody>\n",
       "</table>\n",
       "<p>3052 rows × 48 columns</p>\n",
       "</div>"
      ],
      "text/plain": [
       "      홍수사상번호       연    월     일    시간         유입량 데이터집단 1 Unnamed: 7  \\\n",
       "0        NaN     NaN  NaN   NaN   NaN         NaN  유역평균강수    강우(A지역)   \n",
       "1        1.0  2006.0  7.0  10.0   8.0  189.100000     6.4          7   \n",
       "2        1.0  2006.0  7.0  10.0   9.0  216.951962     6.3          7   \n",
       "3        1.0  2006.0  7.0  10.0  10.0  251.424419     6.4          7   \n",
       "4        1.0  2006.0  7.0  10.0  11.0  302.812199     7.3          7   \n",
       "...      ...     ...  ...   ...   ...         ...     ...        ...   \n",
       "3047    26.0  2018.0  7.0   7.0  17.0         NaN  2.3689          1   \n",
       "3048    26.0  2018.0  7.0   7.0  18.0         NaN  2.3689          1   \n",
       "3049    26.0  2018.0  7.0   7.0  19.0         NaN  2.3689          1   \n",
       "3050    26.0  2018.0  7.0   7.0  20.0         NaN  2.3689          1   \n",
       "3051    26.0  2018.0  7.0   7.0  21.0         NaN  2.3689          1   \n",
       "\n",
       "     Unnamed: 8 Unnamed: 9  ... Unnamed: 38 Unnamed: 39 Unnamed: 40 데이터 집단 6  \\\n",
       "0       강우(B지역)    강우(C지역)  ...     강우(D지역)     수위(E지역)     수위(D지역)   유역평균강수   \n",
       "1             7          7  ...           8        2.54      122.66      6.4   \n",
       "2             8          7  ...          10        2.53     122.648      7.3   \n",
       "3             9          7  ...          11        2.53     122.636      8.2   \n",
       "4            10          7  ...          14        2.53      122.62     11.3   \n",
       "...         ...        ...  ...         ...         ...         ...      ...   \n",
       "3047          0          0  ...           0        3.16     129.916   2.1722   \n",
       "3048          0          0  ...           0        3.15     129.928   2.0805   \n",
       "3049          0          0  ...           0        3.13      129.94   2.0354   \n",
       "3050          0          0  ...           0        3.11     129.952   1.8993   \n",
       "3051          0          0  ...           0         3.1     129.964    1.881   \n",
       "\n",
       "     Unnamed: 42 Unnamed: 43 Unnamed: 44 Unnamed: 45 Unnamed: 46 Unnamed: 47  \n",
       "0        강우(A지역)     강우(B지역)     강우(C지역)     강우(D지역)     수위(E지역)     수위(D지역)  \n",
       "1              7           7           8           8        2.54      122.61  \n",
       "2              7           8          10          10        2.53       122.6  \n",
       "3              7           9          10          11        2.53      122.59  \n",
       "4              9          10          15          14        2.53     122.585  \n",
       "...          ...         ...         ...         ...         ...         ...  \n",
       "3047           1           0           0           0        3.16      129.95  \n",
       "3048           1           0           0           0        3.15      129.97  \n",
       "3049           1           0           0           0        3.13      129.98  \n",
       "3050           1           0           0           0        3.11      129.99  \n",
       "3051           1           0           0           0         3.1         130  \n",
       "\n",
       "[3052 rows x 48 columns]"
      ]
     },
     "execution_count": 2,
     "metadata": {},
     "output_type": "execute_result"
    }
   ],
   "source": [
    "data"
   ]
  },
  {
   "cell_type": "markdown",
   "id": "743796e2",
   "metadata": {},
   "source": [
    "## 열이름 정리\n",
    "데이터를 살펴보니 column명이 정리되지 않았습니다. 이를 정리하기 위해 집단별 feature가 동일하다는 점을 이용해서 정리해줍니다."
   ]
  },
  {
   "cell_type": "code",
   "execution_count": 3,
   "id": "7bac8280",
   "metadata": {
    "ExecuteTime": {
     "end_time": "2021-09-12T23:20:57.288197Z",
     "start_time": "2021-09-12T23:20:57.262192Z"
    }
   },
   "outputs": [],
   "source": [
    "names = []\n",
    "for i in range(6):\n",
    "    list_temp = data.iloc[0,6+7*i:13+7*i].apply(lambda x: \"집단\"+str(i+1)+\" - \"+x).values.tolist() \n",
    "    names.append(list_temp)\n",
    "col_temp = names[0] + names[1] +names[2] + names[3] + names[4] + names[5]"
   ]
  },
  {
   "cell_type": "code",
   "execution_count": 4,
   "id": "2a5763b1",
   "metadata": {
    "ExecuteTime": {
     "end_time": "2021-09-12T23:20:57.319207Z",
     "start_time": "2021-09-12T23:20:57.293200Z"
    }
   },
   "outputs": [],
   "source": [
    "data.columns = data.columns[0:6].tolist() + col_temp  \n",
    "data.drop(0, inplace=True)"
   ]
  },
  {
   "cell_type": "markdown",
   "id": "09a0d1d9",
   "metadata": {},
   "source": [
    "연, 월, 일, 시간의 데이터가 결국 시간을 나타내는 데이터니까 Datetimeindex로 변환해주겠습니다."
   ]
  },
  {
   "cell_type": "code",
   "execution_count": 5,
   "id": "22bafaf5",
   "metadata": {
    "ExecuteTime": {
     "end_time": "2021-09-12T23:20:57.397231Z",
     "start_time": "2021-09-12T23:20:57.322208Z"
    }
   },
   "outputs": [],
   "source": [
    "data.index = pd.to_datetime(dict(year=data['연'], month=data['월'], day=data['일'], hour=data['시간'])) \n",
    "\n",
    "data.drop(['연','월','일','시간'],axis=1,inplace=True)"
   ]
  },
  {
   "cell_type": "markdown",
   "id": "0e4304f4",
   "metadata": {},
   "source": [
    "데이터들이 연산가능한 숫자형이 아닌 문자열로 인식되고 있으니 object가 아닌 float으로 바꿔줘야 합니다."
   ]
  },
  {
   "cell_type": "code",
   "execution_count": 6,
   "id": "68dd1cd8",
   "metadata": {
    "ExecuteTime": {
     "end_time": "2021-09-12T23:20:57.475541Z",
     "start_time": "2021-09-12T23:20:57.400232Z"
    }
   },
   "outputs": [],
   "source": [
    "for x in [var for var in data.columns if data[var].dtype == 'object']:\n",
    "    data[x] = data[x].astype(float)"
   ]
  },
  {
   "cell_type": "code",
   "execution_count": 7,
   "id": "cb702085",
   "metadata": {
    "ExecuteTime": {
     "end_time": "2021-09-12T23:20:57.538554Z",
     "start_time": "2021-09-12T23:20:57.478545Z"
    }
   },
   "outputs": [
    {
     "name": "stdout",
     "output_type": "stream",
     "text": [
      "<class 'pandas.core.frame.DataFrame'>\n",
      "DatetimeIndex: 3051 entries, 2006-07-10 08:00:00 to 2018-07-07 21:00:00\n",
      "Data columns (total 44 columns):\n",
      " #   Column         Non-Null Count  Dtype  \n",
      "---  ------         --------------  -----  \n",
      " 0   홍수사상번호         3051 non-null   float64\n",
      " 1   유입량            2891 non-null   float64\n",
      " 2   집단1 - 유역평균강수   3051 non-null   float64\n",
      " 3   집단1 - 강우(A지역)  3051 non-null   float64\n",
      " 4   집단1 - 강우(B지역)  3051 non-null   float64\n",
      " 5   집단1 - 강우(C지역)  3051 non-null   float64\n",
      " 6   집단1 - 강우(D지역)  3051 non-null   float64\n",
      " 7   집단1 - 수위(E지역)  3051 non-null   float64\n",
      " 8   집단1 - 수위(D지역)  3051 non-null   float64\n",
      " 9   집단2 - 유역평균강수   3051 non-null   float64\n",
      " 10  집단2 - 강우(A지역)  3051 non-null   float64\n",
      " 11  집단2 - 강우(B지역)  3051 non-null   float64\n",
      " 12  집단2 - 강우(C지역)  3051 non-null   float64\n",
      " 13  집단2 - 강우(D지역)  3051 non-null   float64\n",
      " 14  집단2 - 수위(E지역)  3051 non-null   float64\n",
      " 15  집단2 - 수위(D지역)  3051 non-null   float64\n",
      " 16  집단3 - 유역평균강수   3051 non-null   float64\n",
      " 17  집단3 - 강우(A지역)  3051 non-null   float64\n",
      " 18  집단3 - 강우(B지역)  3051 non-null   float64\n",
      " 19  집단3 - 강우(C지역)  3051 non-null   float64\n",
      " 20  집단3 - 강우(D지역)  3051 non-null   float64\n",
      " 21  집단3 - 수위(E지역)  3051 non-null   float64\n",
      " 22  집단3 - 수위(D지역)  3051 non-null   float64\n",
      " 23  집단4 - 유역평균강수   3051 non-null   float64\n",
      " 24  집단4 - 강우(A지역)  3051 non-null   float64\n",
      " 25  집단4 - 강우(B지역)  3051 non-null   float64\n",
      " 26  집단4 - 강우(C지역)  3051 non-null   float64\n",
      " 27  집단4 - 강우(D지역)  3051 non-null   float64\n",
      " 28  집단4 - 수위(E지역)  3051 non-null   float64\n",
      " 29  집단4 - 수위(D지역)  3051 non-null   float64\n",
      " 30  집단5 - 유역평균강수   3051 non-null   float64\n",
      " 31  집단5 - 강우(A지역)  3051 non-null   float64\n",
      " 32  집단5 - 강우(B지역)  3051 non-null   float64\n",
      " 33  집단5 - 강우(C지역)  3051 non-null   float64\n",
      " 34  집단5 - 강우(D지역)  3051 non-null   float64\n",
      " 35  집단5 - 수위(E지역)  3051 non-null   float64\n",
      " 36  집단5 - 수위(D지역)  3051 non-null   float64\n",
      " 37  집단6 - 유역평균강수   3051 non-null   float64\n",
      " 38  집단6 - 강우(A지역)  3051 non-null   float64\n",
      " 39  집단6 - 강우(B지역)  3051 non-null   float64\n",
      " 40  집단6 - 강우(C지역)  3051 non-null   float64\n",
      " 41  집단6 - 강우(D지역)  3051 non-null   float64\n",
      " 42  집단6 - 수위(E지역)  3051 non-null   float64\n",
      " 43  집단6 - 수위(D지역)  3051 non-null   float64\n",
      "dtypes: float64(44)\n",
      "memory usage: 1.0 MB\n"
     ]
    }
   ],
   "source": [
    "data.info()"
   ]
  },
  {
   "cell_type": "markdown",
   "id": "7dca6be2",
   "metadata": {},
   "source": [
    "# 전처리"
   ]
  },
  {
   "cell_type": "markdown",
   "id": "10aa8526",
   "metadata": {},
   "source": [
    "## 유역평균강수량"
   ]
  },
  {
   "cell_type": "markdown",
   "id": "1994edba",
   "metadata": {},
   "source": [
    "가장 먼저 유역평균강수량이란 feature가 담고 있는 의미에 대해 생각해보겠습니다.\n",
    "우선 기간이 항상 여름철로 비가 주된 강수량 공급원이 없음을 고려한다면 강수량으로 생각할 수 있을 것입니다.\n",
    "제공된 설명에 의하면 한 집단의 유역에는 5개의 지역이 있으므로 유역평균강수량은 A부터 D까지 제시된 강우량을 통해 E지역 강우량을 구하는데 사용할 수 있습니다."
   ]
  },
  {
   "cell_type": "code",
   "execution_count": 8,
   "id": "db432e3a",
   "metadata": {
    "ExecuteTime": {
     "end_time": "2021-09-12T23:20:57.601599Z",
     "start_time": "2021-09-12T23:20:57.544558Z"
    }
   },
   "outputs": [],
   "source": [
    "for i in range(1,7):\n",
    "    data['집단'+str(i)+\" - \"+\"강우(E지역)\"] = data['집단'+str(i)+\" - \"+\"유역평균강수\"]*5 - (data['집단'+str(i)+\" - \"+\"강우(A지역)\"]+data['집단'+str(i)+\" - \"+\"강우(B지역)\"]+data['집단'+str(i)+\" - \"+\"강우(C지역)\"]+data['집단'+str(i)+\" - \"+\"강우(D지역)\"])\n",
    "    data.drop(['집단'+str(i)+\" - \"+\"유역평균강수\"],axis=1, inplace=True)    "
   ]
  },
  {
   "cell_type": "markdown",
   "id": "ab37150e",
   "metadata": {},
   "source": [
    "## 유역집단"
   ]
  },
  {
   "cell_type": "markdown",
   "id": "a003aa03",
   "metadata": {},
   "source": [
    "데이터의 구조를 파악한 결과 유역집단이 6개나 있지만 각각 어떤 점에서 다른지에 대해 무지합니다.\n",
    "이에 대한 분석을 하기 위해 집단별 동일 feature끼리 상관분석을 진행해보았습니다."
   ]
  },
  {
   "cell_type": "code",
   "execution_count": 9,
   "id": "667ab8b3",
   "metadata": {
    "ExecuteTime": {
     "end_time": "2021-09-12T23:21:00.682795Z",
     "start_time": "2021-09-12T23:20:57.605602Z"
    }
   },
   "outputs": [
    {
     "data": {
      "text/plain": [
       "<AxesSubplot:>"
      ]
     },
     "execution_count": 9,
     "metadata": {},
     "output_type": "execute_result"
    },
    {
     "data": {
      "image/png": "[encoded data removed]",
      "text/plain": [
       "<Figure size 432x288 with 2 Axes>"
      ]
     },
     "metadata": {
      "needs_background": "light"
     },
     "output_type": "display_data"
    }
   ],
   "source": [
    "import matplotlib.pyplot as plt\n",
    "import seaborn as sns\n",
    "\n",
    "plt.rcParams['font.family'] = 'Malgun Gothic'\n",
    "temp = data[[i for i in data.columns if ('강우(A지역)' in i)]]\n",
    "sns.heatmap(temp.corr(), annot=True)"
   ]
  },
  {
   "cell_type": "markdown",
   "id": "566ace6f",
   "metadata": {},
   "source": [
    "집단별 유의미한 차이를 보여주지 못하고 상관관계가 지나치게 높으니 평균값으로 대체해주겠습니다."
   ]
  },
  {
   "cell_type": "code",
   "execution_count": 10,
   "id": "f11ce9df",
   "metadata": {
    "ExecuteTime": {
     "end_time": "2021-09-12T23:21:00.729803Z",
     "start_time": "2021-09-12T23:21:00.684796Z"
    }
   },
   "outputs": [],
   "source": [
    "fe_name= ['강우(A지역)','강우(B지역)','강우(C지역)','강우(D지역)','강우(E지역)','수위(D지역)','수위(E지역)']\n",
    "for name in fe_name:\n",
    "    fe_data = data[[i for i in data.columns if (name in i) ]]\n",
    "    data.drop([i for i in data.columns if (name in i)],axis=1,inplace=True)\n",
    "    data[name] = fe_data.mean(axis=1)"
   ]
  },
  {
   "cell_type": "markdown",
   "id": "b366e5d9",
   "metadata": {},
   "source": [
    "## 이상치 분석"
   ]
  },
  {
   "cell_type": "markdown",
   "id": "0727eba4",
   "metadata": {},
   "source": [
    "홍수사상별 유입량의 규모를 관찰하면 눈에 띄는 이상치들을 볼 수 있습니다."
   ]
  },
  {
   "cell_type": "code",
   "execution_count": null,
   "id": "2d2e43b5",
   "metadata": {
    "ExecuteTime": {
     "end_time": "2021-09-12T23:21:01.314937Z",
     "start_time": "2021-09-12T23:20:50.352Z"
    },
    "scrolled": true
   },
   "outputs": [],
   "source": [
    "import numpy as np\n",
    "\n",
    "flg=plt.figure(figsize=(9,7))\n",
    "ax = sns.boxplot(data=data,x='홍수사상번호',y='유입량')"
   ]
  },
  {
   "cell_type": "markdown",
   "id": "c7d53492",
   "metadata": {},
   "source": [
    "이에 대한 추론을 해보았습니다.\n",
    "Kwater 홈페이지에 의한 홍수 원인분석에 의하면 \n",
    "우리나라의 홍수의 주요 원인은 크게 두 가지로 나눌 수 있는데, 하나는 주로 기압이 불안정한 여름철 장마기간에 생기는 집중호우이며, 다른 하나는 7∼9월 한반도를 통과하는 태풍으로 인한 국지성호우(局地性豪雨)등으로 인해 발생합니다.  \n",
    "엄연히 다른 두 종류의 홍수가 존재하며 이에 따른 유입량의 차이가 유의미하기에 이를 분별하기 위한 변수를 만들어 보겠습니다.\n",
    "https://www.water.or.kr/disaster/general/flood/info.do?seq=1822&p_group_seq=1821&menu_mode=3"
   ]
  },
  {
   "cell_type": "markdown",
   "id": "8ba5296a",
   "metadata": {
    "ExecuteTime": {
     "end_time": "2021-08-28T01:38:37.262236Z",
     "start_time": "2021-08-28T01:38:37.247215Z"
    }
   },
   "source": [
    "직접적으로 유입량에 대한 데이터를 이용하는 일은 없어야만 하기에 이를 대변할 수 있는 feature를 찾아보겠습니다."
   ]
  },
  {
   "cell_type": "code",
   "execution_count": null,
   "id": "7958e3f1",
   "metadata": {
    "ExecuteTime": {
     "end_time": "2021-09-12T23:21:01.315935Z",
     "start_time": "2021-09-12T23:20:50.358Z"
    }
   },
   "outputs": [],
   "source": [
    "flg = plt.figure(figsize=(9, 7))\n",
    "sns.heatmap(data.corr(), cmap='Blues', annot=True)"
   ]
  },
  {
   "attachments": {
    "image-2.png": {
     "image/png": "[encoded data removed]"
    }
   },
   "cell_type": "markdown",
   "id": "d8fbff67",
   "metadata": {},
   "source": [
    "이상치에 해당하는 홍수사상들을 수식으로 선별합니다.\n",
    "Kwater의 홍수기록에 의한다면 구하고자하는 26사상은 태풍 쁘라삐룬이 한국에 머물던 기간이었습니다.\n",
    "이에 의거해 26사상의 값도 태풍에 의한 홍수였다고 판단하겠습니다.\n",
    "![image-2.png](attachment:image-2.png)\n",
    "https://www.water.or.kr/disaster/general/flood/flood03_datail04.do?seq=1823&p_group_seq=1821&menu_mode=3"
   ]
  },
  {
   "cell_type": "code",
   "execution_count": null,
   "id": "e6f3a370",
   "metadata": {
    "ExecuteTime": {
     "end_time": "2021-09-12T23:21:01.317935Z",
     "start_time": "2021-09-12T23:20:50.362Z"
    }
   },
   "outputs": [],
   "source": [
    "outlier=[]\n",
    "for i in range(25):\n",
    "    data_temp = data.loc[(data['홍수사상번호']==i+1),'수위(E지역)']\n",
    "    quantile_75 = data_temp.quantile(0.75)\n",
    "    quantile_25 = data_temp.quantile(0.25)\n",
    "    iqr = quantile_75 - quantile_25\n",
    "    if (data_temp.max() > quantile_75 + iqr*1.5) or (data_temp.min() < quantile_25 - iqr*1.5):\n",
    "        outlier.append(i+1)\n",
    "outlier.append(26)\n",
    "print(outlier)"
   ]
  },
  {
   "cell_type": "markdown",
   "id": "51bb3193",
   "metadata": {},
   "source": [
    "태풍에 의한 홍수에 해당하는지, 아니면 장마에 의한 홍수에 해당하는지를 나타내는 이진 변수를 만들겠습니다."
   ]
  },
  {
   "cell_type": "markdown",
   "id": "d33caad9",
   "metadata": {},
   "source": [
    "## 시간 분석"
   ]
  },
  {
   "cell_type": "markdown",
   "id": "e48acc80",
   "metadata": {},
   "source": [
    "이번 데이터셋이 시간에 따른 유입량의 변화추이 관찰이 중요한데 이에 대한 반영이 부족하다고 생각했습니다.\n",
    "그러나 ARIMA나 LSTM과 같은 시계열 분석을 진행하기엔 홍수기간만의 단절된 데이터이고, 26사상의 기간동안 주어진 데이터가 없다는 점에서 다른 방식을 모색하게 되었습니다.\n",
    "이에 매시간 각자의 홍수사상내 지나간 시간을 홍수기간 전체에 대한 비율로 새로운 feature를 경과 퍼센티지란 이름으로 만들었습니다.\n",
    "\n",
    "경과% = 해당 홍수사상 이후 현재까지 경과한 시간 / 해당 홍수사상의 기간"
   ]
  },
  {
   "cell_type": "code",
   "execution_count": null,
   "id": "dc360349",
   "metadata": {
    "ExecuteTime": {
     "end_time": "2021-09-12T23:21:01.318935Z",
     "start_time": "2021-09-12T23:20:50.368Z"
    }
   },
   "outputs": [],
   "source": [
    "temp = data.copy()\n",
    "flood_index = list()\n",
    "floodcount = temp.groupby('홍수사상번호').count().max(axis=1).tolist()\n",
    "floodnum = 0\n",
    "count = 0\n",
    "temp['경과%'] = 0\n",
    "for i in range(0, len(data)):\n",
    "    if floodnum != temp.iloc[i, 0]:\n",
    "        floodnum += 1\n",
    "        flood_index.append(i)\n",
    "        count = 0\n",
    "    count += 1\n",
    "    temp.iloc[i, 9] = count / floodcount[floodnum - 1] * 100\n",
    "data = temp.copy()"
   ]
  },
  {
   "cell_type": "code",
   "execution_count": null,
   "id": "54c0c19f",
   "metadata": {
    "ExecuteTime": {
     "end_time": "2021-09-12T23:21:01.320937Z",
     "start_time": "2021-09-12T23:20:50.372Z"
    }
   },
   "outputs": [],
   "source": [
    "data"
   ]
  },
  {
   "cell_type": "markdown",
   "id": "4a63e7dd",
   "metadata": {},
   "source": [
    "# 모델링"
   ]
  },
  {
   "cell_type": "code",
   "execution_count": null,
   "id": "4d817f2e",
   "metadata": {
    "ExecuteTime": {
     "end_time": "2021-09-12T23:21:01.321936Z",
     "start_time": "2021-09-12T23:20:50.374Z"
    }
   },
   "outputs": [],
   "source": [
    "train = data.loc[data['유입량'].isna()==0]\n",
    "test = data.loc[data['유입량'].isna()==1]\n",
    "X_df = train.drop(['유입량'],axis=1)\n",
    "y_df = train['유입량']\n",
    "test.drop(['유입량'], axis=1,inplace=True)"
   ]
  },
  {
   "cell_type": "markdown",
   "id": "b4f467d1",
   "metadata": {},
   "source": [
    "## 교차검증"
   ]
  },
  {
   "cell_type": "markdown",
   "id": "e2f5c97b",
   "metadata": {},
   "source": [
    "모델의 올바른 학습을 위해선 교차검증이 올바르게 이루어져야 하는데, 시간에 종속적인 데이터셋을 랜덤으로 추출하는 방식은 적합하지 않습니다. 따라서 훈련용 데이터셋이 항상 검증용 데이터셋에 선행하게 만들어 주겠습니다. 구체적으로는 25사상을 5개의 집단으로 나눈뒤 각 집단별 4개의 선행홍수사상을 학습하고 후행홍수사상으로 검증하도록 설계하겠습니다."
   ]
  },
  {
   "cell_type": "code",
   "execution_count": null,
   "id": "a4a210f3",
   "metadata": {
    "ExecuteTime": {
     "end_time": "2021-09-12T23:21:01.322938Z",
     "start_time": "2021-09-12T23:20:50.377Z"
    }
   },
   "outputs": [],
   "source": [
    "start_indices = [flood_index[i-1] for i in range(1,26) if i%5==1]\n",
    "stop_indices = [flood_index[i] for i in range(1,26) if i%5==0]\n",
    "mid_indices = [flood_index[i] for i in range(1,26) if i%5==4]\n",
    "\n",
    "class FloodSeasonSplit():\n",
    "    def split(self):\n",
    "        for i in range(5):\n",
    "            indices = np.arange(len(X_df))\n",
    "            start = int(start_indices[i])\n",
    "            stop = int(stop_indices[i])\n",
    "            mid = int(mid_indices[i])\n",
    "            yield indices[start : mid+1], indices[mid : stop+1]\n",
    "cv = FloodSeasonSplit()"
   ]
  },
  {
   "cell_type": "markdown",
   "id": "8f183f1c",
   "metadata": {},
   "source": [
    "## 모델"
   ]
  },
  {
   "cell_type": "markdown",
   "id": "2e6c2a35",
   "metadata": {},
   "source": [
    "우선 트리기반 회귀모델을 먼저 활용해보겠습니다. 그 중 우수한 성과를 낸다고 알려진 RandomForest 모델, XGBoost 모델, LightGBM 모델까지 총 3개의 모델에 대해 진행해보았습니다. 각 모델에 대한 parameter 최적화는 진행했습니다."
   ]
  },
  {
   "cell_type": "code",
   "execution_count": null,
   "id": "ba5107b3",
   "metadata": {
    "ExecuteTime": {
     "end_time": "2021-09-12T23:21:01.325939Z",
     "start_time": "2021-09-12T23:20:50.380Z"
    }
   },
   "outputs": [],
   "source": [
    "from sklearn .ensemble import RandomForestRegressor\n",
    "from sklearn.metrics import mean_squared_error\n",
    "\n",
    "rf = RandomForestRegressor(n_estimators=400,max_depth=7,min_samples_leaf=7,min_samples_split=7)\n",
    "\n",
    "for train_index, test_index in cv.split(): \n",
    "    X_train, X_test = X_df.iloc[train_index], X_df.iloc[test_index]\n",
    "    y_train, y_test = y_df.iloc[train_index], y_df.iloc[test_index]\n",
    "    rf.fit(X_train, y_train)\n",
    "    rf_pred = rf.predict(X_test)\n",
    "    rf_score = mean_squared_error(y_test,rf_pred)**0.5    \n",
    "    print('RandomForest rmse score : {0}'.format(rf_score))"
   ]
  },
  {
   "cell_type": "code",
   "execution_count": null,
   "id": "fc390746",
   "metadata": {
    "ExecuteTime": {
     "end_time": "2021-09-12T23:21:01.326940Z",
     "start_time": "2021-09-12T23:20:50.383Z"
    }
   },
   "outputs": [],
   "source": [
    "from xgboost import XGBRegressor\n",
    "\n",
    "xgb = XGBRegressor(learning_rate=0.02,n_estimators=400,max_depth=7,colsample_bytree=0.8,subsample=0.8)\n",
    "\n",
    "for train_index, test_index in cv.split():  \n",
    "    X_train, X_test = X_df.iloc[train_index], X_df.iloc[test_index]\n",
    "    y_train, y_test = y_df.iloc[train_index], y_df.iloc[test_index]\n",
    "    xgb.fit(X_train, y_train)\n",
    "    xgb_pred = xgb.predict(X_test)\n",
    "    xgb_score = mean_squared_error(y_test,xgb_pred)**0.5\n",
    "    print('XGBoost rmse score : {0}'.format(xgb_score))"
   ]
  },
  {
   "cell_type": "code",
   "execution_count": null,
   "id": "762e6df7",
   "metadata": {
    "ExecuteTime": {
     "end_time": "2021-09-12T23:21:01.328941Z",
     "start_time": "2021-09-12T23:20:50.386Z"
    }
   },
   "outputs": [],
   "source": [
    "from lightgbm import LGBMRegressor\n",
    "\n",
    "lgbm = LGBMRegressor(learning_rate=0.02,n_estimators=400,max_depth=7,num_leaves=13,colsample_bytree=1,subsample=1)\n",
    "\n",
    "for train_index, test_index in cv.split():  \n",
    "    X_train, X_test = X_df.iloc[train_index], X_df.iloc[test_index]\n",
    "    y_train, y_test = y_df.iloc[train_index], y_df.iloc[test_index]\n",
    "    lgbm.fit(X_train, y_train)\n",
    "    lgbm_pred = lgbm.predict(X_test)\n",
    "    lgbm_score = mean_squared_error(y_test,lgbm_pred)**0.5\n",
    "    print('LightGBM rmse score : {0}'.format(lgbm_score))"
   ]
  },
  {
   "cell_type": "markdown",
   "id": "3c7ed33b",
   "metadata": {},
   "source": [
    "3개의 모델이 우수한 구간이 저마다 다르므로 모두 고려해보겠습니다."
   ]
  },
  {
   "cell_type": "markdown",
   "id": "7be2342e",
   "metadata": {},
   "source": [
    "이번엔 규제 선형회귀 방식인 Ridge회귀와 Lasso회귀를 비교해보았습니다. 역시 두 모델 모두 수차례 parameter 최적화를 거쳤습니다."
   ]
  },
  {
   "cell_type": "code",
   "execution_count": null,
   "id": "6d0a72e6",
   "metadata": {
    "ExecuteTime": {
     "end_time": "2021-09-12T23:21:01.329938Z",
     "start_time": "2021-09-12T23:20:50.389Z"
    }
   },
   "outputs": [],
   "source": [
    "from sklearn.linear_model import Ridge\n",
    "\n",
    "ridge = Ridge(alpha=100)\n",
    "\n",
    "for train_index, test_index in cv.split():  \n",
    "    X_train, X_test = X_df.iloc[train_index], X_df.iloc[test_index]\n",
    "    y_train, y_test = y_df.iloc[train_index], y_df.iloc[test_index]\n",
    "    ridge.fit(X_train, y_train)\n",
    "    ridge_pred = ridge.predict(X_test)\n",
    "    ridge_score = mean_squared_error(y_test,ridge_pred)**0.5\n",
    "    print('Ridge rmse score : {0}'.format(ridge_score))"
   ]
  },
  {
   "cell_type": "code",
   "execution_count": null,
   "id": "575b8024",
   "metadata": {
    "ExecuteTime": {
     "end_time": "2021-09-12T23:21:01.331942Z",
     "start_time": "2021-09-12T23:20:50.391Z"
    },
    "scrolled": true
   },
   "outputs": [],
   "source": [
    "from sklearn.linear_model import Lasso\n",
    "\n",
    "lasso = Lasso(alpha=100)\n",
    "\n",
    "for train_index, test_index in cv.split(): \n",
    "    X_train, X_test = X_df.iloc[train_index], X_df.iloc[test_index]\n",
    "    y_train, y_test = y_df.iloc[train_index], y_df.iloc[test_index]\n",
    "    lasso.fit(X_train, y_train)\n",
    "    lasso_pred = lasso.predict(X_test)\n",
    "    lasso_score = mean_squared_error(y_test,lasso_pred)**0.5\n",
    "    print('Lasso rmse score : {0}'.format(lasso_score))"
   ]
  },
  {
   "cell_type": "markdown",
   "id": "547c81fe",
   "metadata": {},
   "source": [
    "결과를 관찰한 결과 두 규제 회귀모델중엔 Lasso 모델이 일관되게 이 데이터셋에 적합한 것으로 드러났습니다."
   ]
  },
  {
   "cell_type": "markdown",
   "id": "ee753387",
   "metadata": {},
   "source": [
    "결과를 해석해본 결과 모든 모델의 초반 데이터의 metric이 일관되게 저조하게 나타납니다. 이는 초반 홍수사상간 유사성이 적어 발생하는 현상이라고 해석할 수 있습니다. 그러나 크게 고민하지 않아도 되는건 결국 최종 예측하는 데이터는 가장 마지막의 데이터이므로 최근값에 가중치를 부여해 해석하는 것이 옳을 것입니다.\n",
    "또 확인해본 모델별 우수했던 구간이 저마다 다르므로 이를 절충하기 위해 앙상블 모델중 VotingRegressor를 활용하겠습니다."
   ]
  },
  {
   "cell_type": "code",
   "execution_count": null,
   "id": "bcb4a876",
   "metadata": {
    "ExecuteTime": {
     "end_time": "2021-09-12T23:21:01.332940Z",
     "start_time": "2021-09-12T23:20:50.394Z"
    }
   },
   "outputs": [],
   "source": [
    "from sklearn.ensemble import VotingRegressor\n",
    "\n",
    "voting = VotingRegressor(estimators=[('RandomForest',rf),('XGBoost',xgb),('LightGBM',lgbm),('Lasso',lasso)])\n",
    "\n",
    "for train_index, test_index in cv.split():\n",
    "    X_train, X_test = X_df.iloc[train_index], X_df.iloc[test_index]\n",
    "    y_train, y_test = y_df.iloc[train_index], y_df.iloc[test_index]\n",
    "    voting.fit(X_train, y_train)\n",
    "    voting_pred = voting.predict(X_test)\n",
    "    voting_score = mean_squared_error(y_test,voting_pred)**0.5\n",
    "    print('rmse score : {0}'.format(voting_score))"
   ]
  },
  {
   "cell_type": "markdown",
   "id": "1e30b32a",
   "metadata": {},
   "source": [
    "결과를 확인해보면 기존 모델들과 비교해 전 구간 우수한 예측력을 보여주고 있음을 확인할 수 있습니다."
   ]
  },
  {
   "cell_type": "markdown",
   "id": "3b95cef8",
   "metadata": {},
   "source": [
    "## 최종 예측"
   ]
  },
  {
   "cell_type": "markdown",
   "id": "819f1adf",
   "metadata": {},
   "source": [
    "최종적으로 예측한 26사상의 유입량을 시간에 따라서 관찰하면 기존의 홍수사상들과 유사해야 합니다."
   ]
  },
  {
   "cell_type": "code",
   "execution_count": null,
   "id": "1f7b6ae4",
   "metadata": {
    "ExecuteTime": {
     "end_time": "2021-09-12T23:21:01.334941Z",
     "start_time": "2021-09-12T23:20:50.397Z"
    },
    "scrolled": false
   },
   "outputs": [],
   "source": [
    "fig = plt.figure(figsize=(10,8))\n",
    "for i in range(25):\n",
    "    fig.add_subplot(5,5,i+1)\n",
    "    train['유입량'].iloc[flood_index[i]:flood_index[i+1]].plot()\n",
    "    plt.tick_params(axis='x',which='both',bottom=False,labelbottom=False) \n",
    "    plt.title(i+1)\n",
    "plt.tight_layout = True"
   ]
  },
  {
   "cell_type": "markdown",
   "id": "ca7a0af9",
   "metadata": {},
   "source": [
    "직접 그려보면 매우 유사함을 확인할 수 있습니다."
   ]
  },
  {
   "cell_type": "code",
   "execution_count": null,
   "id": "0ce17404",
   "metadata": {
    "ExecuteTime": {
     "end_time": "2021-09-12T23:21:01.335941Z",
     "start_time": "2021-09-12T23:20:50.400Z"
    },
    "scrolled": true
   },
   "outputs": [],
   "source": [
    "voting.fit(X_df,y_df)\n",
    "pred = voting.predict(test)\n",
    "pred_df = pd.Series(pred,index=test.index)\n",
    "pred_df.plot()\n",
    "plt.title(26)"
   ]
  },
  {
   "cell_type": "markdown",
   "id": "4a2c5608",
   "metadata": {},
   "source": [
    "## 제출"
   ]
  },
  {
   "cell_type": "code",
   "execution_count": null,
   "id": "8329c2f1",
   "metadata": {
    "ExecuteTime": {
     "end_time": "2021-09-12T23:21:01.337942Z",
     "start_time": "2021-09-12T23:20:50.403Z"
    },
    "scrolled": true
   },
   "outputs": [],
   "source": [
    "submit_df = pd.read_excel('./데이터/평가데이터.xlsx')\n",
    "pred_df.index = submit_df.index.drop(0)\n",
    "submit_df['유입량'] = pred_df\n",
    "submit_df.head()"
   ]
  },
  {
   "cell_type": "code",
   "execution_count": null,
   "id": "7e34a809",
   "metadata": {
    "ExecuteTime": {
     "end_time": "2021-09-12T23:21:01.338943Z",
     "start_time": "2021-09-12T23:20:50.409Z"
    }
   },
   "outputs": [],
   "source": [
    "submit_df.to_excel('./데이터/평가데이터.xlsx')"
   ]
  }
 ],
 "metadata": {
  "interpreter": {
   "hash": "e67ea466bdaa1d9d9cf8d25404ba19e777b3cceffae21524852eea4879fcd34f"
  },
  "kernelspec": {
   "display_name": "Python 3 (ipykernel)",
   "language": "python",
   "name": "python3"
  },
  "language_info": {
   "codemirror_mode": {
    "name": "ipython",
    "version": 3
   },
   "file_extension": ".py",
   "mimetype": "text/x-python",
   "name": "python",
   "nbconvert_exporter": "python",
   "pygments_lexer": "ipython3",
   "version": "3.8.8"
  },
  "toc": {
   "base_numbering": 1,
   "nav_menu": {},
   "number_sections": true,
   "sideBar": true,
   "skip_h1_title": false,
   "title_cell": "Table of Contents",
   "title_sidebar": "Contents",
   "toc_cell": false,
   "toc_position": {
    "height": "calc(100% - 180px)",
    "left": "10px",
    "top": "150px",
    "width": "196.55px"
   },
   "toc_section_display": true,
   "toc_window_display": true
  }
 },
 "nbformat": 4,
 "nbformat_minor": 5
}
