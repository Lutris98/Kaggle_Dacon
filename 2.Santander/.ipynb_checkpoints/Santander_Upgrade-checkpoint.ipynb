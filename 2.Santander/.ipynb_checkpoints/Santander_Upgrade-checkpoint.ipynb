{
 "cells": [
  {
   "cell_type": "markdown",
   "metadata": {
    "colab_type": "text",
    "id": "view-in-github"
   },
   "source": [
    "<a href=\"https://colab.research.google.com/github/Lutris98/21_1Q/blob/master/2.Santander/Santander_Upgrade.ipynb\" target=\"_parent\"><img src=\"https://colab.research.google.com/assets/colab-badge.svg\" alt=\"Open In Colab\"/></a>"
   ]
  },
  {
   "cell_type": "markdown",
   "metadata": {
    "id": "ibssfZr5uDDX"
   },
   "source": [
    "#1.EDA"
   ]
  },
  {
   "cell_type": "code",
   "execution_count": 20,
   "metadata": {
    "id": "NiIp3PUxpsXa"
   },
   "outputs": [],
   "source": [
    "import pandas as pd \n",
    "from sklearn.preprocessing import LabelEncoder, StandardScaler\n",
    "import matplotlib.pyplot as plt\n",
    "import seaborn as sns\n",
    "from sklearn.model_selection import train_test_split, GridSearchCV #the ones that could be written with simpler API\n",
    "from sklearn.decomposition import PCA\n",
    "from sklearn.ensemble import RandomForestClassifier, VotingClassifier\n",
    "from xgboost import XGBClassifier\n",
    "from lightgbm import LGBMClassifier\n",
    "from sklearn.metrics import roc_auc_score #auc means area under curve #asymmetric targetset makes auc score more valid"
   ]
  },
  {
   "cell_type": "code",
   "execution_count": 46,
   "metadata": {
    "colab": {
     "base_uri": "https://localhost:8080/"
    },
    "id": "9zBJ67t7p84S",
    "outputId": "fae339e9-1758-45ee-a189-2a9036fb6f18"
   },
   "outputs": [
    {
     "name": "stdout",
     "output_type": "stream",
     "text": [
      "Drive already mounted at /content/gdrive; to attempt to forcibly remount, call drive.mount(\"/content/gdrive\", force_remount=True).\n"
     ]
    }
   ],
   "source": [
    "import os \n",
    "import zipfile\n",
    "os.system('kaggle competitions download -c santander-customer-satisfaction -p C:\\\\Users\\\\Dongjun\\\\.kaggle') \n",
    "zipfile.ZipFile('C:\\\\Users\\\\Dongjun\\\\.kaggle\\\\titanic.zip').extractall('C:\\\\Users\\\\Dongjun\\\\.kaggle\\\\titanic') \n",
    "train_df=pd.read_csv('C:\\\\Users\\\\Dongjun\\\\.kaggle\\\\titanic\\\\train.csv')\n",
    "test_df=pd.read_csv('C:\\\\Users\\\\Dongjun\\\\.kaggle\\\\titanic\\\\test.csv')\n",
    "df=pd.concat([train_df,test_df],axis=0) "
   ]
  },
  {
   "cell_type": "code",
   "execution_count": 22,
   "metadata": {
    "id": "yinqlLTExDXu"
   },
   "outputs": [],
   "source": [
    "df=pd.concat([santander_df,test_df],axis=0,ignore_index=True) #if not, df[5] will have double values "
   ]
  },
  {
   "cell_type": "markdown",
   "metadata": {
    "id": "cCMHUbEot_Uf"
   },
   "source": [
    "##1) Basic statistics"
   ]
  },
  {
   "cell_type": "code",
   "execution_count": 23,
   "metadata": {
    "colab": {
     "base_uri": "https://localhost:8080/"
    },
    "id": "9-PKPDaIzknX",
    "outputId": "a51cd5e7-2b77-4191-a4ca-8b8364614966"
   },
   "outputs": [
    {
     "name": "stdout",
     "output_type": "stream",
     "text": [
      "<class 'pandas.core.frame.DataFrame'>\n",
      "RangeIndex: 151838 entries, 0 to 151837\n",
      "Columns: 371 entries, ID to TARGET\n",
      "dtypes: float64(116), int64(255)\n",
      "memory usage: 429.8 MB\n"
     ]
    }
   ],
   "source": [
    "df.info() #all in numerical forms"
   ]
  },
  {
   "cell_type": "code",
   "execution_count": 24,
   "metadata": {
    "colab": {
     "base_uri": "https://localhost:8080/",
     "height": 346
    },
    "id": "nivAZc5O0KgR",
    "outputId": "9bb0e764-eee2-4075-8b51-24449c49da7d"
   },
   "outputs": [
    {
     "data": {
      "text/html": [
       "<div>\n",
       "<style scoped>\n",
       "    .dataframe tbody tr th:only-of-type {\n",
       "        vertical-align: middle;\n",
       "    }\n",
       "\n",
       "    .dataframe tbody tr th {\n",
       "        vertical-align: top;\n",
       "    }\n",
       "\n",
       "    .dataframe thead th {\n",
       "        text-align: right;\n",
       "    }\n",
       "</style>\n",
       "<table border=\"1\" class=\"dataframe\">\n",
       "  <thead>\n",
       "    <tr style=\"text-align: right;\">\n",
       "      <th></th>\n",
       "      <th>ID</th>\n",
       "      <th>var3</th>\n",
       "      <th>var15</th>\n",
       "      <th>imp_ent_var16_ult1</th>\n",
       "      <th>imp_op_var39_comer_ult1</th>\n",
       "      <th>imp_op_var39_comer_ult3</th>\n",
       "      <th>imp_op_var40_comer_ult1</th>\n",
       "      <th>imp_op_var40_comer_ult3</th>\n",
       "      <th>imp_op_var40_efect_ult1</th>\n",
       "      <th>imp_op_var40_efect_ult3</th>\n",
       "      <th>imp_op_var40_ult1</th>\n",
       "      <th>imp_op_var41_comer_ult1</th>\n",
       "      <th>imp_op_var41_comer_ult3</th>\n",
       "      <th>imp_op_var41_efect_ult1</th>\n",
       "      <th>imp_op_var41_efect_ult3</th>\n",
       "      <th>imp_op_var41_ult1</th>\n",
       "      <th>imp_op_var39_efect_ult1</th>\n",
       "      <th>imp_op_var39_efect_ult3</th>\n",
       "      <th>imp_op_var39_ult1</th>\n",
       "      <th>imp_sal_var16_ult1</th>\n",
       "      <th>ind_var1_0</th>\n",
       "      <th>ind_var1</th>\n",
       "      <th>ind_var2_0</th>\n",
       "      <th>ind_var2</th>\n",
       "      <th>ind_var5_0</th>\n",
       "      <th>ind_var5</th>\n",
       "      <th>ind_var6_0</th>\n",
       "      <th>ind_var6</th>\n",
       "      <th>ind_var8_0</th>\n",
       "      <th>ind_var8</th>\n",
       "      <th>ind_var12_0</th>\n",
       "      <th>ind_var12</th>\n",
       "      <th>ind_var13_0</th>\n",
       "      <th>ind_var13_corto_0</th>\n",
       "      <th>ind_var13_corto</th>\n",
       "      <th>ind_var13_largo_0</th>\n",
       "      <th>ind_var13_largo</th>\n",
       "      <th>ind_var13_medio_0</th>\n",
       "      <th>ind_var13_medio</th>\n",
       "      <th>ind_var13</th>\n",
       "      <th>...</th>\n",
       "      <th>saldo_medio_var5_ult1</th>\n",
       "      <th>saldo_medio_var5_ult3</th>\n",
       "      <th>saldo_medio_var8_hace2</th>\n",
       "      <th>saldo_medio_var8_hace3</th>\n",
       "      <th>saldo_medio_var8_ult1</th>\n",
       "      <th>saldo_medio_var8_ult3</th>\n",
       "      <th>saldo_medio_var12_hace2</th>\n",
       "      <th>saldo_medio_var12_hace3</th>\n",
       "      <th>saldo_medio_var12_ult1</th>\n",
       "      <th>saldo_medio_var12_ult3</th>\n",
       "      <th>saldo_medio_var13_corto_hace2</th>\n",
       "      <th>saldo_medio_var13_corto_hace3</th>\n",
       "      <th>saldo_medio_var13_corto_ult1</th>\n",
       "      <th>saldo_medio_var13_corto_ult3</th>\n",
       "      <th>saldo_medio_var13_largo_hace2</th>\n",
       "      <th>saldo_medio_var13_largo_hace3</th>\n",
       "      <th>saldo_medio_var13_largo_ult1</th>\n",
       "      <th>saldo_medio_var13_largo_ult3</th>\n",
       "      <th>saldo_medio_var13_medio_hace2</th>\n",
       "      <th>saldo_medio_var13_medio_hace3</th>\n",
       "      <th>saldo_medio_var13_medio_ult1</th>\n",
       "      <th>saldo_medio_var13_medio_ult3</th>\n",
       "      <th>saldo_medio_var17_hace2</th>\n",
       "      <th>saldo_medio_var17_hace3</th>\n",
       "      <th>saldo_medio_var17_ult1</th>\n",
       "      <th>saldo_medio_var17_ult3</th>\n",
       "      <th>saldo_medio_var29_hace2</th>\n",
       "      <th>saldo_medio_var29_hace3</th>\n",
       "      <th>saldo_medio_var29_ult1</th>\n",
       "      <th>saldo_medio_var29_ult3</th>\n",
       "      <th>saldo_medio_var33_hace2</th>\n",
       "      <th>saldo_medio_var33_hace3</th>\n",
       "      <th>saldo_medio_var33_ult1</th>\n",
       "      <th>saldo_medio_var33_ult3</th>\n",
       "      <th>saldo_medio_var44_hace2</th>\n",
       "      <th>saldo_medio_var44_hace3</th>\n",
       "      <th>saldo_medio_var44_ult1</th>\n",
       "      <th>saldo_medio_var44_ult3</th>\n",
       "      <th>var38</th>\n",
       "      <th>TARGET</th>\n",
       "    </tr>\n",
       "  </thead>\n",
       "  <tbody>\n",
       "    <tr>\n",
       "      <th>count</th>\n",
       "      <td>151838.000000</td>\n",
       "      <td>151838.000000</td>\n",
       "      <td>151838.000000</td>\n",
       "      <td>151838.000000</td>\n",
       "      <td>151838.000000</td>\n",
       "      <td>151838.000000</td>\n",
       "      <td>151838.000000</td>\n",
       "      <td>151838.000000</td>\n",
       "      <td>151838.000000</td>\n",
       "      <td>151838.000000</td>\n",
       "      <td>151838.000000</td>\n",
       "      <td>151838.000000</td>\n",
       "      <td>151838.000000</td>\n",
       "      <td>151838.000000</td>\n",
       "      <td>151838.000000</td>\n",
       "      <td>151838.00000</td>\n",
       "      <td>151838.000000</td>\n",
       "      <td>151838.000000</td>\n",
       "      <td>151838.000000</td>\n",
       "      <td>151838.000000</td>\n",
       "      <td>151838.000000</td>\n",
       "      <td>151838.000000</td>\n",
       "      <td>151838.0</td>\n",
       "      <td>151838.0</td>\n",
       "      <td>151838.000000</td>\n",
       "      <td>151838.000000</td>\n",
       "      <td>151838.000000</td>\n",
       "      <td>151838.000000</td>\n",
       "      <td>151838.000000</td>\n",
       "      <td>151838.000000</td>\n",
       "      <td>151838.000000</td>\n",
       "      <td>151838.000000</td>\n",
       "      <td>151838.000000</td>\n",
       "      <td>151838.000000</td>\n",
       "      <td>151838.000000</td>\n",
       "      <td>151838.000000</td>\n",
       "      <td>151838.000000</td>\n",
       "      <td>151838.000000</td>\n",
       "      <td>151838.000000</td>\n",
       "      <td>151838.000000</td>\n",
       "      <td>...</td>\n",
       "      <td>151838.000000</td>\n",
       "      <td>151838.000000</td>\n",
       "      <td>151838.000000</td>\n",
       "      <td>151838.000000</td>\n",
       "      <td>151838.000000</td>\n",
       "      <td>151838.000000</td>\n",
       "      <td>1.518380e+05</td>\n",
       "      <td>1.518380e+05</td>\n",
       "      <td>1.518380e+05</td>\n",
       "      <td>1.518380e+05</td>\n",
       "      <td>151838.00000</td>\n",
       "      <td>151838.000000</td>\n",
       "      <td>151838.000000</td>\n",
       "      <td>151838.000000</td>\n",
       "      <td>1.518380e+05</td>\n",
       "      <td>151838.000000</td>\n",
       "      <td>1.518380e+05</td>\n",
       "      <td>1.518380e+05</td>\n",
       "      <td>151838.000000</td>\n",
       "      <td>151838.0</td>\n",
       "      <td>151838.000000</td>\n",
       "      <td>151838.000000</td>\n",
       "      <td>1.518380e+05</td>\n",
       "      <td>1.518380e+05</td>\n",
       "      <td>1.518380e+05</td>\n",
       "      <td>1.518380e+05</td>\n",
       "      <td>151838.000000</td>\n",
       "      <td>151838.000000</td>\n",
       "      <td>151838.000000</td>\n",
       "      <td>151838.000000</td>\n",
       "      <td>151838.000000</td>\n",
       "      <td>151838.000000</td>\n",
       "      <td>151838.000000</td>\n",
       "      <td>151838.000000</td>\n",
       "      <td>151838.000000</td>\n",
       "      <td>151838.000000</td>\n",
       "      <td>151838.000000</td>\n",
       "      <td>151838.000000</td>\n",
       "      <td>1.518380e+05</td>\n",
       "      <td>76020.000000</td>\n",
       "    </tr>\n",
       "    <tr>\n",
       "      <th>mean</th>\n",
       "      <td>75919.500000</td>\n",
       "      <td>-1551.539391</td>\n",
       "      <td>33.175898</td>\n",
       "      <td>84.688322</td>\n",
       "      <td>73.336683</td>\n",
       "      <td>121.330641</td>\n",
       "      <td>4.068145</td>\n",
       "      <td>7.068982</td>\n",
       "      <td>0.441757</td>\n",
       "      <td>0.619828</td>\n",
       "      <td>3.397988</td>\n",
       "      <td>69.268538</td>\n",
       "      <td>114.261659</td>\n",
       "      <td>67.823070</td>\n",
       "      <td>112.097599</td>\n",
       "      <td>137.22871</td>\n",
       "      <td>68.264828</td>\n",
       "      <td>112.717427</td>\n",
       "      <td>140.626698</td>\n",
       "      <td>5.197786</td>\n",
       "      <td>0.011782</td>\n",
       "      <td>0.003840</td>\n",
       "      <td>0.0</td>\n",
       "      <td>0.0</td>\n",
       "      <td>0.957514</td>\n",
       "      <td>0.663753</td>\n",
       "      <td>0.000099</td>\n",
       "      <td>0.000026</td>\n",
       "      <td>0.033259</td>\n",
       "      <td>0.029242</td>\n",
       "      <td>0.068066</td>\n",
       "      <td>0.045410</td>\n",
       "      <td>0.052727</td>\n",
       "      <td>0.043211</td>\n",
       "      <td>0.041814</td>\n",
       "      <td>0.010465</td>\n",
       "      <td>0.010287</td>\n",
       "      <td>0.000046</td>\n",
       "      <td>0.000046</td>\n",
       "      <td>0.051364</td>\n",
       "      <td>...</td>\n",
       "      <td>1067.075779</td>\n",
       "      <td>1054.428054</td>\n",
       "      <td>64.524891</td>\n",
       "      <td>9.433630</td>\n",
       "      <td>121.408072</td>\n",
       "      <td>107.419659</td>\n",
       "      <td>4.178141e+03</td>\n",
       "      <td>6.591445e+02</td>\n",
       "      <td>5.881090e+03</td>\n",
       "      <td>4.572940e+03</td>\n",
       "      <td>3610.34104</td>\n",
       "      <td>528.691117</td>\n",
       "      <td>4880.829788</td>\n",
       "      <td>3863.909609</td>\n",
       "      <td>7.939402e+02</td>\n",
       "      <td>169.371975</td>\n",
       "      <td>9.719136e+02</td>\n",
       "      <td>7.611156e+02</td>\n",
       "      <td>0.187225</td>\n",
       "      <td>0.0</td>\n",
       "      <td>0.865113</td>\n",
       "      <td>0.526170</td>\n",
       "      <td>6.378418e+01</td>\n",
       "      <td>2.135409e+01</td>\n",
       "      <td>9.432871e+01</td>\n",
       "      <td>7.849367e+01</td>\n",
       "      <td>0.175941</td>\n",
       "      <td>0.000956</td>\n",
       "      <td>0.224562</td>\n",
       "      <td>0.173630</td>\n",
       "      <td>10.184196</td>\n",
       "      <td>1.346302</td>\n",
       "      <td>14.839290</td>\n",
       "      <td>10.726624</td>\n",
       "      <td>47.530234</td>\n",
       "      <td>6.625190</td>\n",
       "      <td>85.986327</td>\n",
       "      <td>63.550096</td>\n",
       "      <td>1.173110e+05</td>\n",
       "      <td>0.039569</td>\n",
       "    </tr>\n",
       "    <tr>\n",
       "      <th>std</th>\n",
       "      <td>43831.999424</td>\n",
       "      <td>39394.010507</td>\n",
       "      <td>12.944275</td>\n",
       "      <td>1655.242347</td>\n",
       "      <td>351.967351</td>\n",
       "      <td>577.094428</td>\n",
       "      <td>115.015926</td>\n",
       "      <td>201.304542</td>\n",
       "      <td>32.359675</td>\n",
       "      <td>39.528498</td>\n",
       "      <td>113.423724</td>\n",
       "      <td>325.122860</td>\n",
       "      <td>526.270722</td>\n",
       "      <td>524.542862</td>\n",
       "      <td>845.803747</td>\n",
       "      <td>697.76556</td>\n",
       "      <td>528.480378</td>\n",
       "      <td>850.450440</td>\n",
       "      <td>715.321617</td>\n",
       "      <td>400.478394</td>\n",
       "      <td>0.107905</td>\n",
       "      <td>0.061846</td>\n",
       "      <td>0.0</td>\n",
       "      <td>0.0</td>\n",
       "      <td>0.201696</td>\n",
       "      <td>0.472426</td>\n",
       "      <td>0.009939</td>\n",
       "      <td>0.005133</td>\n",
       "      <td>0.179313</td>\n",
       "      <td>0.168484</td>\n",
       "      <td>0.251860</td>\n",
       "      <td>0.208203</td>\n",
       "      <td>0.223489</td>\n",
       "      <td>0.203331</td>\n",
       "      <td>0.200165</td>\n",
       "      <td>0.101763</td>\n",
       "      <td>0.100904</td>\n",
       "      <td>0.006790</td>\n",
       "      <td>0.006790</td>\n",
       "      <td>0.220740</td>\n",
       "      <td>...</td>\n",
       "      <td>9701.488869</td>\n",
       "      <td>8164.239360</td>\n",
       "      <td>1715.668251</td>\n",
       "      <td>514.772266</td>\n",
       "      <td>2222.832472</td>\n",
       "      <td>1876.621465</td>\n",
       "      <td>4.180671e+04</td>\n",
       "      <td>1.064369e+04</td>\n",
       "      <td>4.874189e+04</td>\n",
       "      <td>3.781887e+04</td>\n",
       "      <td>25999.55678</td>\n",
       "      <td>6848.962575</td>\n",
       "      <td>31828.136583</td>\n",
       "      <td>25401.176889</td>\n",
       "      <td>1.356228e+04</td>\n",
       "      <td>4660.327083</td>\n",
       "      <td>1.573239e+04</td>\n",
       "      <td>1.223974e+04</td>\n",
       "      <td>33.868574</td>\n",
       "      <td>0.0</td>\n",
       "      <td>144.305586</td>\n",
       "      <td>84.061586</td>\n",
       "      <td>1.104135e+04</td>\n",
       "      <td>6.131540e+03</td>\n",
       "      <td>1.079104e+04</td>\n",
       "      <td>9.422151e+03</td>\n",
       "      <td>35.172924</td>\n",
       "      <td>0.372629</td>\n",
       "      <td>45.853838</td>\n",
       "      <td>32.161299</td>\n",
       "      <td>750.300862</td>\n",
       "      <td>144.945384</td>\n",
       "      <td>1044.316933</td>\n",
       "      <td>738.430127</td>\n",
       "      <td>3011.415348</td>\n",
       "      <td>757.611606</td>\n",
       "      <td>4360.172261</td>\n",
       "      <td>3094.024954</td>\n",
       "      <td>2.177175e+05</td>\n",
       "      <td>0.194945</td>\n",
       "    </tr>\n",
       "    <tr>\n",
       "      <th>min</th>\n",
       "      <td>1.000000</td>\n",
       "      <td>-999999.000000</td>\n",
       "      <td>5.000000</td>\n",
       "      <td>0.000000</td>\n",
       "      <td>0.000000</td>\n",
       "      <td>0.000000</td>\n",
       "      <td>0.000000</td>\n",
       "      <td>0.000000</td>\n",
       "      <td>0.000000</td>\n",
       "      <td>0.000000</td>\n",
       "      <td>0.000000</td>\n",
       "      <td>0.000000</td>\n",
       "      <td>0.000000</td>\n",
       "      <td>0.000000</td>\n",
       "      <td>0.000000</td>\n",
       "      <td>0.00000</td>\n",
       "      <td>0.000000</td>\n",
       "      <td>0.000000</td>\n",
       "      <td>0.000000</td>\n",
       "      <td>0.000000</td>\n",
       "      <td>0.000000</td>\n",
       "      <td>0.000000</td>\n",
       "      <td>0.0</td>\n",
       "      <td>0.0</td>\n",
       "      <td>0.000000</td>\n",
       "      <td>0.000000</td>\n",
       "      <td>0.000000</td>\n",
       "      <td>0.000000</td>\n",
       "      <td>0.000000</td>\n",
       "      <td>0.000000</td>\n",
       "      <td>0.000000</td>\n",
       "      <td>0.000000</td>\n",
       "      <td>0.000000</td>\n",
       "      <td>0.000000</td>\n",
       "      <td>0.000000</td>\n",
       "      <td>0.000000</td>\n",
       "      <td>0.000000</td>\n",
       "      <td>0.000000</td>\n",
       "      <td>0.000000</td>\n",
       "      <td>0.000000</td>\n",
       "      <td>...</td>\n",
       "      <td>-1605.150000</td>\n",
       "      <td>-1036.080000</td>\n",
       "      <td>-287.670000</td>\n",
       "      <td>0.000000</td>\n",
       "      <td>-3925.920000</td>\n",
       "      <td>-1844.520000</td>\n",
       "      <td>0.000000e+00</td>\n",
       "      <td>0.000000e+00</td>\n",
       "      <td>0.000000e+00</td>\n",
       "      <td>0.000000e+00</td>\n",
       "      <td>0.00000</td>\n",
       "      <td>0.000000</td>\n",
       "      <td>0.000000</td>\n",
       "      <td>0.000000</td>\n",
       "      <td>0.000000e+00</td>\n",
       "      <td>0.000000</td>\n",
       "      <td>0.000000e+00</td>\n",
       "      <td>0.000000e+00</td>\n",
       "      <td>0.000000</td>\n",
       "      <td>0.0</td>\n",
       "      <td>0.000000</td>\n",
       "      <td>0.000000</td>\n",
       "      <td>-3.000000e-02</td>\n",
       "      <td>-6.000000e-02</td>\n",
       "      <td>0.000000e+00</td>\n",
       "      <td>0.000000e+00</td>\n",
       "      <td>0.000000</td>\n",
       "      <td>0.000000</td>\n",
       "      <td>0.000000</td>\n",
       "      <td>0.000000</td>\n",
       "      <td>0.000000</td>\n",
       "      <td>0.000000</td>\n",
       "      <td>-0.600000</td>\n",
       "      <td>-0.600000</td>\n",
       "      <td>0.000000</td>\n",
       "      <td>0.000000</td>\n",
       "      <td>0.000000</td>\n",
       "      <td>0.000000</td>\n",
       "      <td>1.202730e+03</td>\n",
       "      <td>0.000000</td>\n",
       "    </tr>\n",
       "    <tr>\n",
       "      <th>25%</th>\n",
       "      <td>37960.250000</td>\n",
       "      <td>2.000000</td>\n",
       "      <td>23.000000</td>\n",
       "      <td>0.000000</td>\n",
       "      <td>0.000000</td>\n",
       "      <td>0.000000</td>\n",
       "      <td>0.000000</td>\n",
       "      <td>0.000000</td>\n",
       "      <td>0.000000</td>\n",
       "      <td>0.000000</td>\n",
       "      <td>0.000000</td>\n",
       "      <td>0.000000</td>\n",
       "      <td>0.000000</td>\n",
       "      <td>0.000000</td>\n",
       "      <td>0.000000</td>\n",
       "      <td>0.00000</td>\n",
       "      <td>0.000000</td>\n",
       "      <td>0.000000</td>\n",
       "      <td>0.000000</td>\n",
       "      <td>0.000000</td>\n",
       "      <td>0.000000</td>\n",
       "      <td>0.000000</td>\n",
       "      <td>0.0</td>\n",
       "      <td>0.0</td>\n",
       "      <td>1.000000</td>\n",
       "      <td>0.000000</td>\n",
       "      <td>0.000000</td>\n",
       "      <td>0.000000</td>\n",
       "      <td>0.000000</td>\n",
       "      <td>0.000000</td>\n",
       "      <td>0.000000</td>\n",
       "      <td>0.000000</td>\n",
       "      <td>0.000000</td>\n",
       "      <td>0.000000</td>\n",
       "      <td>0.000000</td>\n",
       "      <td>0.000000</td>\n",
       "      <td>0.000000</td>\n",
       "      <td>0.000000</td>\n",
       "      <td>0.000000</td>\n",
       "      <td>0.000000</td>\n",
       "      <td>...</td>\n",
       "      <td>0.000000</td>\n",
       "      <td>0.000000</td>\n",
       "      <td>0.000000</td>\n",
       "      <td>0.000000</td>\n",
       "      <td>0.000000</td>\n",
       "      <td>0.000000</td>\n",
       "      <td>0.000000e+00</td>\n",
       "      <td>0.000000e+00</td>\n",
       "      <td>0.000000e+00</td>\n",
       "      <td>0.000000e+00</td>\n",
       "      <td>0.00000</td>\n",
       "      <td>0.000000</td>\n",
       "      <td>0.000000</td>\n",
       "      <td>0.000000</td>\n",
       "      <td>0.000000e+00</td>\n",
       "      <td>0.000000</td>\n",
       "      <td>0.000000e+00</td>\n",
       "      <td>0.000000e+00</td>\n",
       "      <td>0.000000</td>\n",
       "      <td>0.0</td>\n",
       "      <td>0.000000</td>\n",
       "      <td>0.000000</td>\n",
       "      <td>0.000000e+00</td>\n",
       "      <td>0.000000e+00</td>\n",
       "      <td>0.000000e+00</td>\n",
       "      <td>0.000000e+00</td>\n",
       "      <td>0.000000</td>\n",
       "      <td>0.000000</td>\n",
       "      <td>0.000000</td>\n",
       "      <td>0.000000</td>\n",
       "      <td>0.000000</td>\n",
       "      <td>0.000000</td>\n",
       "      <td>0.000000</td>\n",
       "      <td>0.000000</td>\n",
       "      <td>0.000000</td>\n",
       "      <td>0.000000</td>\n",
       "      <td>0.000000</td>\n",
       "      <td>0.000000</td>\n",
       "      <td>6.770562e+04</td>\n",
       "      <td>0.000000</td>\n",
       "    </tr>\n",
       "    <tr>\n",
       "      <th>50%</th>\n",
       "      <td>75919.500000</td>\n",
       "      <td>2.000000</td>\n",
       "      <td>27.000000</td>\n",
       "      <td>0.000000</td>\n",
       "      <td>0.000000</td>\n",
       "      <td>0.000000</td>\n",
       "      <td>0.000000</td>\n",
       "      <td>0.000000</td>\n",
       "      <td>0.000000</td>\n",
       "      <td>0.000000</td>\n",
       "      <td>0.000000</td>\n",
       "      <td>0.000000</td>\n",
       "      <td>0.000000</td>\n",
       "      <td>0.000000</td>\n",
       "      <td>0.000000</td>\n",
       "      <td>0.00000</td>\n",
       "      <td>0.000000</td>\n",
       "      <td>0.000000</td>\n",
       "      <td>0.000000</td>\n",
       "      <td>0.000000</td>\n",
       "      <td>0.000000</td>\n",
       "      <td>0.000000</td>\n",
       "      <td>0.0</td>\n",
       "      <td>0.0</td>\n",
       "      <td>1.000000</td>\n",
       "      <td>1.000000</td>\n",
       "      <td>0.000000</td>\n",
       "      <td>0.000000</td>\n",
       "      <td>0.000000</td>\n",
       "      <td>0.000000</td>\n",
       "      <td>0.000000</td>\n",
       "      <td>0.000000</td>\n",
       "      <td>0.000000</td>\n",
       "      <td>0.000000</td>\n",
       "      <td>0.000000</td>\n",
       "      <td>0.000000</td>\n",
       "      <td>0.000000</td>\n",
       "      <td>0.000000</td>\n",
       "      <td>0.000000</td>\n",
       "      <td>0.000000</td>\n",
       "      <td>...</td>\n",
       "      <td>3.000000</td>\n",
       "      <td>2.700000</td>\n",
       "      <td>0.000000</td>\n",
       "      <td>0.000000</td>\n",
       "      <td>0.000000</td>\n",
       "      <td>0.000000</td>\n",
       "      <td>0.000000e+00</td>\n",
       "      <td>0.000000e+00</td>\n",
       "      <td>0.000000e+00</td>\n",
       "      <td>0.000000e+00</td>\n",
       "      <td>0.00000</td>\n",
       "      <td>0.000000</td>\n",
       "      <td>0.000000</td>\n",
       "      <td>0.000000</td>\n",
       "      <td>0.000000e+00</td>\n",
       "      <td>0.000000</td>\n",
       "      <td>0.000000e+00</td>\n",
       "      <td>0.000000e+00</td>\n",
       "      <td>0.000000</td>\n",
       "      <td>0.0</td>\n",
       "      <td>0.000000</td>\n",
       "      <td>0.000000</td>\n",
       "      <td>0.000000e+00</td>\n",
       "      <td>0.000000e+00</td>\n",
       "      <td>0.000000e+00</td>\n",
       "      <td>0.000000e+00</td>\n",
       "      <td>0.000000</td>\n",
       "      <td>0.000000</td>\n",
       "      <td>0.000000</td>\n",
       "      <td>0.000000</td>\n",
       "      <td>0.000000</td>\n",
       "      <td>0.000000</td>\n",
       "      <td>0.000000</td>\n",
       "      <td>0.000000</td>\n",
       "      <td>0.000000</td>\n",
       "      <td>0.000000</td>\n",
       "      <td>0.000000</td>\n",
       "      <td>0.000000</td>\n",
       "      <td>1.061020e+05</td>\n",
       "      <td>0.000000</td>\n",
       "    </tr>\n",
       "    <tr>\n",
       "      <th>75%</th>\n",
       "      <td>113878.750000</td>\n",
       "      <td>2.000000</td>\n",
       "      <td>39.000000</td>\n",
       "      <td>0.000000</td>\n",
       "      <td>0.000000</td>\n",
       "      <td>0.000000</td>\n",
       "      <td>0.000000</td>\n",
       "      <td>0.000000</td>\n",
       "      <td>0.000000</td>\n",
       "      <td>0.000000</td>\n",
       "      <td>0.000000</td>\n",
       "      <td>0.000000</td>\n",
       "      <td>0.000000</td>\n",
       "      <td>0.000000</td>\n",
       "      <td>0.000000</td>\n",
       "      <td>0.00000</td>\n",
       "      <td>0.000000</td>\n",
       "      <td>0.000000</td>\n",
       "      <td>0.000000</td>\n",
       "      <td>0.000000</td>\n",
       "      <td>0.000000</td>\n",
       "      <td>0.000000</td>\n",
       "      <td>0.0</td>\n",
       "      <td>0.0</td>\n",
       "      <td>1.000000</td>\n",
       "      <td>1.000000</td>\n",
       "      <td>0.000000</td>\n",
       "      <td>0.000000</td>\n",
       "      <td>0.000000</td>\n",
       "      <td>0.000000</td>\n",
       "      <td>0.000000</td>\n",
       "      <td>0.000000</td>\n",
       "      <td>0.000000</td>\n",
       "      <td>0.000000</td>\n",
       "      <td>0.000000</td>\n",
       "      <td>0.000000</td>\n",
       "      <td>0.000000</td>\n",
       "      <td>0.000000</td>\n",
       "      <td>0.000000</td>\n",
       "      <td>0.000000</td>\n",
       "      <td>...</td>\n",
       "      <td>90.000000</td>\n",
       "      <td>83.790000</td>\n",
       "      <td>0.000000</td>\n",
       "      <td>0.000000</td>\n",
       "      <td>0.000000</td>\n",
       "      <td>0.000000</td>\n",
       "      <td>0.000000e+00</td>\n",
       "      <td>0.000000e+00</td>\n",
       "      <td>0.000000e+00</td>\n",
       "      <td>0.000000e+00</td>\n",
       "      <td>0.00000</td>\n",
       "      <td>0.000000</td>\n",
       "      <td>0.000000</td>\n",
       "      <td>0.000000</td>\n",
       "      <td>0.000000e+00</td>\n",
       "      <td>0.000000</td>\n",
       "      <td>0.000000e+00</td>\n",
       "      <td>0.000000e+00</td>\n",
       "      <td>0.000000</td>\n",
       "      <td>0.0</td>\n",
       "      <td>0.000000</td>\n",
       "      <td>0.000000</td>\n",
       "      <td>0.000000e+00</td>\n",
       "      <td>0.000000e+00</td>\n",
       "      <td>0.000000e+00</td>\n",
       "      <td>0.000000e+00</td>\n",
       "      <td>0.000000</td>\n",
       "      <td>0.000000</td>\n",
       "      <td>0.000000</td>\n",
       "      <td>0.000000</td>\n",
       "      <td>0.000000</td>\n",
       "      <td>0.000000</td>\n",
       "      <td>0.000000</td>\n",
       "      <td>0.000000</td>\n",
       "      <td>0.000000</td>\n",
       "      <td>0.000000</td>\n",
       "      <td>0.000000</td>\n",
       "      <td>0.000000</td>\n",
       "      <td>1.185435e+05</td>\n",
       "      <td>0.000000</td>\n",
       "    </tr>\n",
       "    <tr>\n",
       "      <th>max</th>\n",
       "      <td>151838.000000</td>\n",
       "      <td>238.000000</td>\n",
       "      <td>105.000000</td>\n",
       "      <td>240000.000000</td>\n",
       "      <td>21093.960000</td>\n",
       "      <td>47943.960000</td>\n",
       "      <td>21093.960000</td>\n",
       "      <td>47943.960000</td>\n",
       "      <td>6600.000000</td>\n",
       "      <td>6600.000000</td>\n",
       "      <td>23799.960000</td>\n",
       "      <td>14784.900000</td>\n",
       "      <td>28927.890000</td>\n",
       "      <td>67500.000000</td>\n",
       "      <td>131100.000000</td>\n",
       "      <td>72511.77000</td>\n",
       "      <td>67500.000000</td>\n",
       "      <td>131100.000000</td>\n",
       "      <td>72511.770000</td>\n",
       "      <td>105000.000000</td>\n",
       "      <td>1.000000</td>\n",
       "      <td>1.000000</td>\n",
       "      <td>0.0</td>\n",
       "      <td>0.0</td>\n",
       "      <td>1.000000</td>\n",
       "      <td>1.000000</td>\n",
       "      <td>1.000000</td>\n",
       "      <td>1.000000</td>\n",
       "      <td>1.000000</td>\n",
       "      <td>1.000000</td>\n",
       "      <td>1.000000</td>\n",
       "      <td>1.000000</td>\n",
       "      <td>1.000000</td>\n",
       "      <td>1.000000</td>\n",
       "      <td>1.000000</td>\n",
       "      <td>1.000000</td>\n",
       "      <td>1.000000</td>\n",
       "      <td>1.000000</td>\n",
       "      <td>1.000000</td>\n",
       "      <td>1.000000</td>\n",
       "      <td>...</td>\n",
       "      <td>656187.090000</td>\n",
       "      <td>544365.570000</td>\n",
       "      <td>264702.870000</td>\n",
       "      <td>95260.560000</td>\n",
       "      <td>375060.000000</td>\n",
       "      <td>216012.030000</td>\n",
       "      <td>4.500000e+06</td>\n",
       "      <td>1.202339e+06</td>\n",
       "      <td>4.356643e+06</td>\n",
       "      <td>3.002214e+06</td>\n",
       "      <td>450000.00000</td>\n",
       "      <td>304838.700000</td>\n",
       "      <td>450000.000000</td>\n",
       "      <td>450000.000000</td>\n",
       "      <td>1.008000e+06</td>\n",
       "      <td>534000.000000</td>\n",
       "      <td>1.500000e+06</td>\n",
       "      <td>1.034483e+06</td>\n",
       "      <td>8129.040000</td>\n",
       "      <td>0.0</td>\n",
       "      <td>36000.000000</td>\n",
       "      <td>18870.990000</td>\n",
       "      <td>4.210084e+06</td>\n",
       "      <td>2.368559e+06</td>\n",
       "      <td>3.998687e+06</td>\n",
       "      <td>3.525777e+06</td>\n",
       "      <td>10430.010000</td>\n",
       "      <td>145.200000</td>\n",
       "      <td>13793.670000</td>\n",
       "      <td>8030.160000</td>\n",
       "      <td>146605.320000</td>\n",
       "      <td>40080.600000</td>\n",
       "      <td>162355.800000</td>\n",
       "      <td>138054.960000</td>\n",
       "      <td>453893.400000</td>\n",
       "      <td>217762.230000</td>\n",
       "      <td>681462.900000</td>\n",
       "      <td>397884.300000</td>\n",
       "      <td>2.889440e+07</td>\n",
       "      <td>1.000000</td>\n",
       "    </tr>\n",
       "  </tbody>\n",
       "</table>\n",
       "<p>8 rows × 371 columns</p>\n",
       "</div>"
      ],
      "text/plain": [
       "                  ID           var3  ...         var38        TARGET\n",
       "count  151838.000000  151838.000000  ...  1.518380e+05  76020.000000\n",
       "mean    75919.500000   -1551.539391  ...  1.173110e+05      0.039569\n",
       "std     43831.999424   39394.010507  ...  2.177175e+05      0.194945\n",
       "min         1.000000 -999999.000000  ...  1.202730e+03      0.000000\n",
       "25%     37960.250000       2.000000  ...  6.770562e+04      0.000000\n",
       "50%     75919.500000       2.000000  ...  1.061020e+05      0.000000\n",
       "75%    113878.750000       2.000000  ...  1.185435e+05      0.000000\n",
       "max    151838.000000     238.000000  ...  2.889440e+07      1.000000\n",
       "\n",
       "[8 rows x 371 columns]"
      ]
     },
     "execution_count": 24,
     "metadata": {
      "tags": []
     },
     "output_type": "execute_result"
    }
   ],
   "source": [
    "df.describe()"
   ]
  },
  {
   "cell_type": "markdown",
   "metadata": {
    "id": "AJNUh6m-uQPU"
   },
   "source": [
    "#2.Preprocessing"
   ]
  },
  {
   "cell_type": "markdown",
   "metadata": {
    "id": "QZ2JkYqFPyr0"
   },
   "source": [
    "##1) Imputation"
   ]
  },
  {
   "cell_type": "code",
   "execution_count": 25,
   "metadata": {
    "colab": {
     "base_uri": "https://localhost:8080/"
    },
    "id": "rIwaTOvQPyI4",
    "outputId": "bda82a77-99fc-483d-c1f1-8316e3b1cb85"
   },
   "outputs": [
    {
     "name": "stdout",
     "output_type": "stream",
     "text": [
      "var3\n"
     ]
    }
   ],
   "source": [
    "for var in df.columns:\n",
    "  if df[var].min()==-999999 or df[var].min()==-99999 or df[var].min()==-9999 or df[var].min()==-999 or df[var].min()==-99 or df[var].min()==-9:\n",
    "    print(var)"
   ]
  },
  {
   "cell_type": "code",
   "execution_count": 26,
   "metadata": {
    "colab": {
     "base_uri": "https://localhost:8080/"
    },
    "id": "mQroM6h2Q-J3",
    "outputId": "66958c64-f61d-4b38-b02e-d054d0e97a81"
   },
   "outputs": [
    {
     "data": {
      "text/plain": [
       " 2         148127\n",
       " 8            254\n",
       "-999999       236\n",
       " 9            218\n",
       " 3            215\n",
       "            ...  \n",
       " 206            1\n",
       " 210            1\n",
       " 83             1\n",
       " 211            1\n",
       " 212            1\n",
       "Name: var3, Length: 231, dtype: int64"
      ]
     },
     "execution_count": 26,
     "metadata": {
      "tags": []
     },
     "output_type": "execute_result"
    }
   ],
   "source": [
    "df['var3'].value_counts()"
   ]
  },
  {
   "cell_type": "code",
   "execution_count": 27,
   "metadata": {
    "colab": {
     "base_uri": "https://localhost:8080/"
    },
    "id": "7LcRU2McRKwy",
    "outputId": "395b5d58-2f1e-4ecf-976c-6c85e7cb997f"
   },
   "outputs": [
    {
     "name": "stderr",
     "output_type": "stream",
     "text": [
      "/usr/local/lib/python3.7/dist-packages/pandas/core/indexing.py:670: SettingWithCopyWarning: \n",
      "A value is trying to be set on a copy of a slice from a DataFrame\n",
      "\n",
      "See the caveats in the documentation: https://pandas.pydata.org/pandas-docs/stable/user_guide/indexing.html#returning-a-view-versus-a-copy\n",
      "  iloc._setitem_with_indexer(indexer, value)\n"
     ]
    }
   ],
   "source": [
    "df['var3'].loc[df['var3']==-999999]=df['var3'].median()"
   ]
  },
  {
   "cell_type": "markdown",
   "metadata": {
    "id": "UU_x7cqHPco6"
   },
   "source": [
    "##3) Discretization "
   ]
  },
  {
   "cell_type": "code",
   "execution_count": 28,
   "metadata": {
    "id": "pwlQLonxduSc"
   },
   "outputs": [],
   "source": [
    "id_df=pd.DataFrame(df,columns=['ID']) \n",
    "target_df=pd.DataFrame(df,columns=['TARGET']) \n",
    "target_df.dropna(inplace=True)\n",
    "df.drop(['ID','TARGET'],axis=1,inplace=True)"
   ]
  },
  {
   "cell_type": "code",
   "execution_count": 29,
   "metadata": {
    "colab": {
     "base_uri": "https://localhost:8080/"
    },
    "id": "ejw_RqqNUwGz",
    "outputId": "d473031f-e954-4644-d2dc-575c441b52b4"
   },
   "outputs": [
    {
     "data": {
      "text/plain": [
       "num_reemb_var33_hace3             1\n",
       "saldo_var46                       1\n",
       "saldo_var41                       1\n",
       "ind_var41                         1\n",
       "num_trasp_var33_out_hace3         1\n",
       "                              ...  \n",
       "saldo_medio_var5_ult1         25650\n",
       "saldo_var42                   28458\n",
       "saldo_medio_var5_ult3         29322\n",
       "saldo_var30                   30654\n",
       "var38                        109982\n",
       "Length: 369, dtype: int64"
      ]
     },
     "execution_count": 29,
     "metadata": {
      "tags": []
     },
     "output_type": "execute_result"
    }
   ],
   "source": [
    "df.nunique().sort_values()"
   ]
  },
  {
   "cell_type": "code",
   "execution_count": 30,
   "metadata": {
    "id": "z-MS6_qVSmxy"
   },
   "outputs": [],
   "source": [
    "for var in df.columns:\n",
    "  if df[var].nunique()==1:\n",
    "    df.drop(var,axis=1,inplace=True)"
   ]
  },
  {
   "cell_type": "code",
   "execution_count": 31,
   "metadata": {
    "id": "3N0lW8XEUJBF"
   },
   "outputs": [],
   "source": [
    "from sklearn.preprocessing import KBinsDiscretizer\n",
    "for var in df.columns:\n",
    "   discretizer=KBinsDiscretizer(n_bins=10,encode='ordinal',strategy='uniform') #prefer width if bin_width gets so small due to dispropotionate distribution\n",
    "   disc=discretizer.fit_transform(df[var].values.reshape(-1,1))\n",
    "   df[var]=pd.Series(disc.reshape(-1))"
   ]
  },
  {
   "cell_type": "code",
   "execution_count": 32,
   "metadata": {
    "colab": {
     "base_uri": "https://localhost:8080/",
     "height": 297
    },
    "id": "CGte5fmpWjtT",
    "outputId": "2020bd64-4afa-48ca-8620-38842f33415d"
   },
   "outputs": [
    {
     "data": {
      "text/plain": [
       "<matplotlib.axes._subplots.AxesSubplot at 0x7fdc1d022510>"
      ]
     },
     "execution_count": 32,
     "metadata": {
      "tags": []
     },
     "output_type": "execute_result"
    },
    {
     "data": {
      "image/png": "[encoded data removed]",
      "text/plain": [
       "<Figure size 432x288 with 1 Axes>"
      ]
     },
     "metadata": {
      "needs_background": "light",
      "tags": []
     },
     "output_type": "display_data"
    }
   ],
   "source": [
    "sns.histplot(data=df['var38'])"
   ]
  },
  {
   "cell_type": "code",
   "execution_count": 33,
   "metadata": {
    "id": "N0I-xeIWX8OA"
   },
   "outputs": [],
   "source": [
    "for var in df.columns:\n",
    "  if df[var].value_counts(ascending=False)[0]>140000: #too many Rare labels \n",
    "    df.drop(var,axis=1,inplace=True)"
   ]
  },
  {
   "cell_type": "code",
   "execution_count": 34,
   "metadata": {
    "colab": {
     "base_uri": "https://localhost:8080/"
    },
    "id": "HwB0MotfYGkj",
    "outputId": "a7802a1a-4d26-4ba5-9484-6c77d34297df"
   },
   "outputs": [
    {
     "name": "stdout",
     "output_type": "stream",
     "text": [
      "<class 'pandas.core.frame.DataFrame'>\n",
      "RangeIndex: 151838 entries, 0 to 151837\n",
      "Data columns (total 20 columns):\n",
      " #   Column                    Non-Null Count   Dtype  \n",
      "---  ------                    --------------   -----  \n",
      " 0   var15                     151838 non-null  float64\n",
      " 1   ind_var5_0                151838 non-null  float64\n",
      " 2   ind_var5                  151838 non-null  float64\n",
      " 3   ind_var30_0               151838 non-null  float64\n",
      " 4   ind_var30                 151838 non-null  float64\n",
      " 5   ind_var39_0               151838 non-null  float64\n",
      " 6   ind_var41_0               151838 non-null  float64\n",
      " 7   num_var4                  151838 non-null  float64\n",
      " 8   num_var5_0                151838 non-null  float64\n",
      " 9   num_var5                  151838 non-null  float64\n",
      " 10  num_var35                 151838 non-null  float64\n",
      " 11  num_var42                 151838 non-null  float64\n",
      " 12  var36                     151838 non-null  float64\n",
      " 13  ind_var10_ult1            151838 non-null  float64\n",
      " 14  ind_var10cte_ult1         151838 non-null  float64\n",
      " 15  ind_var9_cte_ult1         151838 non-null  float64\n",
      " 16  ind_var9_ult1             151838 non-null  float64\n",
      " 17  ind_var43_recib_ult1      151838 non-null  float64\n",
      " 18  num_meses_var5_ult3       151838 non-null  float64\n",
      " 19  num_meses_var39_vig_ult3  151838 non-null  float64\n",
      "dtypes: float64(20)\n",
      "memory usage: 23.2 MB\n"
     ]
    }
   ],
   "source": [
    "df.info()"
   ]
  },
  {
   "cell_type": "code",
   "execution_count": 35,
   "metadata": {
    "colab": {
     "base_uri": "https://localhost:8080/",
     "height": 1000
    },
    "id": "zJeshbb0aAZv",
    "outputId": "a4e2cdec-b93f-4883-9277-1223a9d48451"
   },
   "outputs": [
    {
     "data": {
      "text/plain": [
       "<function matplotlib.pyplot.tight_layout>"
      ]
     },
     "execution_count": 35,
     "metadata": {
      "tags": []
     },
     "output_type": "execute_result"
    },
    {
     "data": {
      "image/png": "[encoded data removed]",
      "text/plain": [
       "<Figure size 1440x1440 with 20 Axes>"
      ]
     },
     "metadata": {
      "needs_background": "light",
      "tags": []
     },
     "output_type": "display_data"
    }
   ],
   "source": [
    "fig=plt.figure(figsize=(20,20))\n",
    "for i,var in enumerate(df.columns):\n",
    "  fig.add_subplot(4,5,i+1)\n",
    "  sns.histplot(data=df[var])\n",
    "plt.tight_layout"
   ]
  },
  {
   "cell_type": "markdown",
   "metadata": {
    "id": "gdCHI_k5TYd9"
   },
   "source": [
    "##4) Feature selection"
   ]
  },
  {
   "cell_type": "code",
   "execution_count": 36,
   "metadata": {
    "colab": {
     "base_uri": "https://localhost:8080/"
    },
    "id": "0qR8KXRgbrBD",
    "outputId": "b5446419-6689-4b35-84b6-8b5514bf28b1"
   },
   "outputs": [
    {
     "data": {
      "text/plain": [
       "TARGET\n",
       "0.0       73012\n",
       "1.0        3008\n",
       "dtype: int64"
      ]
     },
     "execution_count": 36,
     "metadata": {
      "tags": []
     },
     "output_type": "execute_result"
    }
   ],
   "source": [
    "target_df.value_counts()"
   ]
  },
  {
   "cell_type": "code",
   "execution_count": 37,
   "metadata": {
    "id": "cnz6E0vnMyjA"
   },
   "outputs": [],
   "source": [
    "from sklearn.feature_selection import SelectKBest,chi2\n",
    "selector=SelectKBest(chi2,k=10)\n",
    "best10=selector.fit_transform(df.head(76020),target_df['TARGET'].dropna())\n",
    "name=df.columns[selector.get_support()]\n",
    "df=pd.DataFrame(best10,columns=name)"
   ]
  },
  {
   "cell_type": "code",
   "execution_count": 38,
   "metadata": {
    "colab": {
     "base_uri": "https://localhost:8080/"
    },
    "id": "1BJJIxUhfQQ_",
    "outputId": "859c1d7d-70fc-4008-beb5-c4c607e7b50e"
   },
   "outputs": [
    {
     "name": "stdout",
     "output_type": "stream",
     "text": [
      "<class 'pandas.core.frame.DataFrame'>\n",
      "RangeIndex: 76020 entries, 0 to 76019\n",
      "Data columns (total 10 columns):\n",
      " #   Column                Non-Null Count  Dtype  \n",
      "---  ------                --------------  -----  \n",
      " 0   var15                 76020 non-null  float64\n",
      " 1   ind_var5              76020 non-null  float64\n",
      " 2   ind_var30             76020 non-null  float64\n",
      " 3   ind_var39_0           76020 non-null  float64\n",
      " 4   num_var4              76020 non-null  float64\n",
      " 5   num_var5              76020 non-null  float64\n",
      " 6   num_var42             76020 non-null  float64\n",
      " 7   var36                 76020 non-null  float64\n",
      " 8   ind_var43_recib_ult1  76020 non-null  float64\n",
      " 9   num_meses_var5_ult3   76020 non-null  float64\n",
      "dtypes: float64(10)\n",
      "memory usage: 5.8 MB\n"
     ]
    }
   ],
   "source": [
    "df.info()"
   ]
  },
  {
   "cell_type": "markdown",
   "metadata": {
    "id": "YJb89pwDuYR6"
   },
   "source": [
    "#3.Modeling"
   ]
  },
  {
   "cell_type": "code",
   "execution_count": 39,
   "metadata": {
    "colab": {
     "base_uri": "https://localhost:8080/"
    },
    "id": "pLHT9ifo9KzS",
    "outputId": "8d0e369f-4c08-44cd-bdcf-3ea1f3e71dba"
   },
   "outputs": [
    {
     "name": "stderr",
     "output_type": "stream",
     "text": [
      "/usr/local/lib/python3.7/dist-packages/pandas/core/frame.py:4174: SettingWithCopyWarning: \n",
      "A value is trying to be set on a copy of a slice from a DataFrame\n",
      "\n",
      "See the caveats in the documentation: https://pandas.pydata.org/pandas-docs/stable/user_guide/indexing.html#returning-a-view-versus-a-copy\n",
      "  errors=errors,\n"
     ]
    }
   ],
   "source": [
    "realdf=pd.concat([df,target_df],axis=1)\n",
    "santander_df=realdf.loc[realdf.TARGET!=2.0]\n",
    "test_df=realdf.loc[realdf.TARGET==2.0].drop('TARGET',axis=1,inplace=True)\n",
    "santander_target=santander_df['TARGET']\n",
    "santander_feature=santander_df.drop('TARGET',axis=1)"
   ]
  },
  {
   "cell_type": "code",
   "execution_count": 40,
   "metadata": {
    "id": "grvtpqXLpJn5"
   },
   "outputs": [],
   "source": [
    "X_train,X_test,y_train,y_test=train_test_split(santander_feature,santander_target,test_size=0.2,random_state=0)\n",
    "xgb_clf=XGBClassifier(random_state=0)\n",
    "lgbm_clf=LGBMClassifier(random_state=0)"
   ]
  },
  {
   "cell_type": "code",
   "execution_count": 41,
   "metadata": {
    "colab": {
     "base_uri": "https://localhost:8080/"
    },
    "id": "cmummiE4poey",
    "outputId": "140f182d-6db0-4df2-ac8a-8a82f114c438"
   },
   "outputs": [
    {
     "name": "stdout",
     "output_type": "stream",
     "text": [
      "Best parameters are\n",
      " {'colsample_bytree': 0.7, 'learning_rate': 0.02, 'max_depth': 3, 'n_estimators': 200, 'subsample': 0.9}\n"
     ]
    }
   ],
   "source": [
    "params={'learning_rate':[0.02],\n",
    "        'n_estimators':[200,300,400],\n",
    "        'max_depth':[3,5,7],\n",
    "        'colsample_bytree':[0.7,0.8],\n",
    "        'subsample':[0.9]}\n",
    "xgb_gridcv=GridSearchCV(xgb_clf,param_grid=params,cv=5)\n",
    "xgb_gridcv.fit(X_train,y_train)\n",
    "print('Best parameters are\\n',xgb_gridcv.best_params_)        "
   ]
  },
  {
   "cell_type": "code",
   "execution_count": 42,
   "metadata": {
    "colab": {
     "base_uri": "https://localhost:8080/"
    },
    "id": "zAwDQafLpnJS",
    "outputId": "2fbdaee7-e9f9-4d9c-9544-e4131ecea967"
   },
   "outputs": [
    {
     "name": "stdout",
     "output_type": "stream",
     "text": [
      "Best parameters are\n",
      " {'colsample_bytree': 0.7, 'learning_rate': 0.02, 'max_depth': 5, 'n_estimators': 200, 'subsample': 0.9}\n"
     ]
    }
   ],
   "source": [
    "params={'learning_rate':[0.02],\n",
    "        'n_estimators':[200,300,400],\n",
    "        'max_depth':[5,7,9],\n",
    "        'colsample_bytree':[0.7,0.8],\n",
    "        'subsample':[0.9]}\n",
    "lgbm_gridcv=GridSearchCV(lgbm_clf,param_grid=params,cv=5)\n",
    "lgbm_gridcv.fit(X_train,y_train)\n",
    "print('Best parameters are\\n',lgbm_gridcv.best_params_)        "
   ]
  },
  {
   "cell_type": "code",
   "execution_count": 43,
   "metadata": {
    "colab": {
     "base_uri": "https://localhost:8080/"
    },
    "id": "2yjbOI5PtGgz",
    "outputId": "a70bbb5a-0845-4fa0-d4be-607a2e33d092"
   },
   "outputs": [
    {
     "name": "stdout",
     "output_type": "stream",
     "text": [
      "Each score was : 0.500000 / 0.500000\n",
      "\n",
      "final score was :  0.5\n"
     ]
    }
   ],
   "source": [
    "xgb_clf=xgb_gridcv.best_estimator_\n",
    "lgbm_clf=lgbm_gridcv.best_estimator_\n",
    "pred1=lgbm_clf.fit(X_train,y_train).predict(X_test)\n",
    "pred2=xgb_clf.fit(X_train,y_train).predict(X_test)\n",
    "vo_clf=VotingClassifier([('xgb',xgb_clf),('lgbm',lgbm_clf)],voting='soft',weights=[1,1])\n",
    "pred=vo_clf.fit(X_train,y_train).predict(X_test)\n",
    "print('Each score was : {0:4f} / {1:4f}'.format(roc_auc_score(y_test,pred1),roc_auc_score(y_test,pred2)))\n",
    "print('\\nfinal score was : ',roc_auc_score(y_test,pred))"
   ]
  },
  {
   "cell_type": "markdown",
   "metadata": {
    "id": "gPesKuic45EY"
   },
   "source": [
    "#Uploading"
   ]
  },
  {
   "cell_type": "code",
   "execution_count": 47,
   "metadata": {
    "colab": {
     "base_uri": "https://localhost:8080/",
     "height": 191
    },
    "id": "PYObBmk0rvil",
    "outputId": "44ac21c4-338e-4aa6-cd46-c396b95feaa9"
   },
   "outputs": [
    {
     "data": {
      "text/html": [
       "<div>\n",
       "<style scoped>\n",
       "    .dataframe tbody tr th:only-of-type {\n",
       "        vertical-align: middle;\n",
       "    }\n",
       "\n",
       "    .dataframe tbody tr th {\n",
       "        vertical-align: top;\n",
       "    }\n",
       "\n",
       "    .dataframe thead th {\n",
       "        text-align: right;\n",
       "    }\n",
       "</style>\n",
       "<table border=\"1\" class=\"dataframe\">\n",
       "  <thead>\n",
       "    <tr style=\"text-align: right;\">\n",
       "      <th></th>\n",
       "      <th>var3</th>\n",
       "      <th>var15</th>\n",
       "      <th>imp_ent_var16_ult1</th>\n",
       "      <th>imp_op_var39_comer_ult1</th>\n",
       "      <th>imp_op_var39_comer_ult3</th>\n",
       "      <th>imp_op_var40_comer_ult1</th>\n",
       "      <th>imp_op_var40_comer_ult3</th>\n",
       "      <th>imp_op_var40_efect_ult1</th>\n",
       "      <th>imp_op_var40_efect_ult3</th>\n",
       "      <th>imp_op_var40_ult1</th>\n",
       "      <th>imp_op_var41_comer_ult1</th>\n",
       "      <th>imp_op_var41_comer_ult3</th>\n",
       "      <th>imp_op_var41_efect_ult1</th>\n",
       "      <th>imp_op_var41_efect_ult3</th>\n",
       "      <th>imp_op_var41_ult1</th>\n",
       "      <th>imp_op_var39_efect_ult1</th>\n",
       "      <th>imp_op_var39_efect_ult3</th>\n",
       "      <th>imp_op_var39_ult1</th>\n",
       "      <th>imp_sal_var16_ult1</th>\n",
       "      <th>ind_var1_0</th>\n",
       "      <th>ind_var1</th>\n",
       "      <th>ind_var2_0</th>\n",
       "      <th>ind_var2</th>\n",
       "      <th>ind_var5_0</th>\n",
       "      <th>ind_var5</th>\n",
       "      <th>ind_var6_0</th>\n",
       "      <th>ind_var6</th>\n",
       "      <th>ind_var8_0</th>\n",
       "      <th>ind_var8</th>\n",
       "      <th>ind_var12_0</th>\n",
       "      <th>ind_var12</th>\n",
       "      <th>ind_var13_0</th>\n",
       "      <th>ind_var13_corto_0</th>\n",
       "      <th>ind_var13_corto</th>\n",
       "      <th>ind_var13_largo_0</th>\n",
       "      <th>ind_var13_largo</th>\n",
       "      <th>ind_var13_medio_0</th>\n",
       "      <th>ind_var13_medio</th>\n",
       "      <th>ind_var13</th>\n",
       "      <th>ind_var14_0</th>\n",
       "      <th>...</th>\n",
       "      <th>saldo_medio_var5_hace3</th>\n",
       "      <th>saldo_medio_var5_ult1</th>\n",
       "      <th>saldo_medio_var5_ult3</th>\n",
       "      <th>saldo_medio_var8_hace2</th>\n",
       "      <th>saldo_medio_var8_hace3</th>\n",
       "      <th>saldo_medio_var8_ult1</th>\n",
       "      <th>saldo_medio_var8_ult3</th>\n",
       "      <th>saldo_medio_var12_hace2</th>\n",
       "      <th>saldo_medio_var12_hace3</th>\n",
       "      <th>saldo_medio_var12_ult1</th>\n",
       "      <th>saldo_medio_var12_ult3</th>\n",
       "      <th>saldo_medio_var13_corto_hace2</th>\n",
       "      <th>saldo_medio_var13_corto_hace3</th>\n",
       "      <th>saldo_medio_var13_corto_ult1</th>\n",
       "      <th>saldo_medio_var13_corto_ult3</th>\n",
       "      <th>saldo_medio_var13_largo_hace2</th>\n",
       "      <th>saldo_medio_var13_largo_hace3</th>\n",
       "      <th>saldo_medio_var13_largo_ult1</th>\n",
       "      <th>saldo_medio_var13_largo_ult3</th>\n",
       "      <th>saldo_medio_var13_medio_hace2</th>\n",
       "      <th>saldo_medio_var13_medio_hace3</th>\n",
       "      <th>saldo_medio_var13_medio_ult1</th>\n",
       "      <th>saldo_medio_var13_medio_ult3</th>\n",
       "      <th>saldo_medio_var17_hace2</th>\n",
       "      <th>saldo_medio_var17_hace3</th>\n",
       "      <th>saldo_medio_var17_ult1</th>\n",
       "      <th>saldo_medio_var17_ult3</th>\n",
       "      <th>saldo_medio_var29_hace2</th>\n",
       "      <th>saldo_medio_var29_hace3</th>\n",
       "      <th>saldo_medio_var29_ult1</th>\n",
       "      <th>saldo_medio_var29_ult3</th>\n",
       "      <th>saldo_medio_var33_hace2</th>\n",
       "      <th>saldo_medio_var33_hace3</th>\n",
       "      <th>saldo_medio_var33_ult1</th>\n",
       "      <th>saldo_medio_var33_ult3</th>\n",
       "      <th>saldo_medio_var44_hace2</th>\n",
       "      <th>saldo_medio_var44_hace3</th>\n",
       "      <th>saldo_medio_var44_ult1</th>\n",
       "      <th>saldo_medio_var44_ult3</th>\n",
       "      <th>var38</th>\n",
       "    </tr>\n",
       "  </thead>\n",
       "  <tbody>\n",
       "    <tr>\n",
       "      <th>0</th>\n",
       "      <td>2</td>\n",
       "      <td>32</td>\n",
       "      <td>0.0</td>\n",
       "      <td>0.0</td>\n",
       "      <td>0.0</td>\n",
       "      <td>0.0</td>\n",
       "      <td>0.0</td>\n",
       "      <td>0.0</td>\n",
       "      <td>0.0</td>\n",
       "      <td>0.0</td>\n",
       "      <td>0.0</td>\n",
       "      <td>0.0</td>\n",
       "      <td>0.0</td>\n",
       "      <td>0.0</td>\n",
       "      <td>0.0</td>\n",
       "      <td>0.0</td>\n",
       "      <td>0.0</td>\n",
       "      <td>0.0</td>\n",
       "      <td>0.0</td>\n",
       "      <td>0</td>\n",
       "      <td>0</td>\n",
       "      <td>0</td>\n",
       "      <td>0</td>\n",
       "      <td>1</td>\n",
       "      <td>1</td>\n",
       "      <td>0</td>\n",
       "      <td>0</td>\n",
       "      <td>0</td>\n",
       "      <td>0</td>\n",
       "      <td>0</td>\n",
       "      <td>0</td>\n",
       "      <td>0</td>\n",
       "      <td>0</td>\n",
       "      <td>0</td>\n",
       "      <td>0</td>\n",
       "      <td>0</td>\n",
       "      <td>0</td>\n",
       "      <td>0</td>\n",
       "      <td>0</td>\n",
       "      <td>0</td>\n",
       "      <td>...</td>\n",
       "      <td>2.43</td>\n",
       "      <td>6.00</td>\n",
       "      <td>4.80</td>\n",
       "      <td>0.0</td>\n",
       "      <td>0.0</td>\n",
       "      <td>0.0</td>\n",
       "      <td>0.0</td>\n",
       "      <td>0.0</td>\n",
       "      <td>0.0</td>\n",
       "      <td>0.0</td>\n",
       "      <td>0.0</td>\n",
       "      <td>0.0</td>\n",
       "      <td>0.0</td>\n",
       "      <td>0.0</td>\n",
       "      <td>0.0</td>\n",
       "      <td>0.0</td>\n",
       "      <td>0.0</td>\n",
       "      <td>0.0</td>\n",
       "      <td>0.0</td>\n",
       "      <td>0.0</td>\n",
       "      <td>0</td>\n",
       "      <td>0.0</td>\n",
       "      <td>0.0</td>\n",
       "      <td>0.0</td>\n",
       "      <td>0.0</td>\n",
       "      <td>0.0</td>\n",
       "      <td>0.0</td>\n",
       "      <td>0.0</td>\n",
       "      <td>0</td>\n",
       "      <td>0.0</td>\n",
       "      <td>0.0</td>\n",
       "      <td>0.0</td>\n",
       "      <td>0.0</td>\n",
       "      <td>0.0</td>\n",
       "      <td>0.0</td>\n",
       "      <td>0.0</td>\n",
       "      <td>0.0</td>\n",
       "      <td>0.0</td>\n",
       "      <td>0.0</td>\n",
       "      <td>40532.10</td>\n",
       "    </tr>\n",
       "    <tr>\n",
       "      <th>1</th>\n",
       "      <td>2</td>\n",
       "      <td>35</td>\n",
       "      <td>0.0</td>\n",
       "      <td>0.0</td>\n",
       "      <td>0.0</td>\n",
       "      <td>0.0</td>\n",
       "      <td>0.0</td>\n",
       "      <td>0.0</td>\n",
       "      <td>0.0</td>\n",
       "      <td>0.0</td>\n",
       "      <td>0.0</td>\n",
       "      <td>0.0</td>\n",
       "      <td>0.0</td>\n",
       "      <td>0.0</td>\n",
       "      <td>0.0</td>\n",
       "      <td>0.0</td>\n",
       "      <td>0.0</td>\n",
       "      <td>0.0</td>\n",
       "      <td>0.0</td>\n",
       "      <td>0</td>\n",
       "      <td>0</td>\n",
       "      <td>0</td>\n",
       "      <td>0</td>\n",
       "      <td>1</td>\n",
       "      <td>1</td>\n",
       "      <td>0</td>\n",
       "      <td>0</td>\n",
       "      <td>0</td>\n",
       "      <td>0</td>\n",
       "      <td>0</td>\n",
       "      <td>0</td>\n",
       "      <td>0</td>\n",
       "      <td>0</td>\n",
       "      <td>0</td>\n",
       "      <td>0</td>\n",
       "      <td>0</td>\n",
       "      <td>0</td>\n",
       "      <td>0</td>\n",
       "      <td>0</td>\n",
       "      <td>0</td>\n",
       "      <td>...</td>\n",
       "      <td>2.55</td>\n",
       "      <td>3.00</td>\n",
       "      <td>2.85</td>\n",
       "      <td>0.0</td>\n",
       "      <td>0.0</td>\n",
       "      <td>0.0</td>\n",
       "      <td>0.0</td>\n",
       "      <td>0.0</td>\n",
       "      <td>0.0</td>\n",
       "      <td>0.0</td>\n",
       "      <td>0.0</td>\n",
       "      <td>0.0</td>\n",
       "      <td>0.0</td>\n",
       "      <td>0.0</td>\n",
       "      <td>0.0</td>\n",
       "      <td>0.0</td>\n",
       "      <td>0.0</td>\n",
       "      <td>0.0</td>\n",
       "      <td>0.0</td>\n",
       "      <td>0.0</td>\n",
       "      <td>0</td>\n",
       "      <td>0.0</td>\n",
       "      <td>0.0</td>\n",
       "      <td>0.0</td>\n",
       "      <td>0.0</td>\n",
       "      <td>0.0</td>\n",
       "      <td>0.0</td>\n",
       "      <td>0.0</td>\n",
       "      <td>0</td>\n",
       "      <td>0.0</td>\n",
       "      <td>0.0</td>\n",
       "      <td>0.0</td>\n",
       "      <td>0.0</td>\n",
       "      <td>0.0</td>\n",
       "      <td>0.0</td>\n",
       "      <td>0.0</td>\n",
       "      <td>0.0</td>\n",
       "      <td>0.0</td>\n",
       "      <td>0.0</td>\n",
       "      <td>45486.72</td>\n",
       "    </tr>\n",
       "    <tr>\n",
       "      <th>2</th>\n",
       "      <td>2</td>\n",
       "      <td>23</td>\n",
       "      <td>0.0</td>\n",
       "      <td>0.0</td>\n",
       "      <td>0.0</td>\n",
       "      <td>0.0</td>\n",
       "      <td>0.0</td>\n",
       "      <td>0.0</td>\n",
       "      <td>0.0</td>\n",
       "      <td>0.0</td>\n",
       "      <td>0.0</td>\n",
       "      <td>0.0</td>\n",
       "      <td>60.0</td>\n",
       "      <td>60.0</td>\n",
       "      <td>60.0</td>\n",
       "      <td>60.0</td>\n",
       "      <td>60.0</td>\n",
       "      <td>60.0</td>\n",
       "      <td>0.0</td>\n",
       "      <td>0</td>\n",
       "      <td>0</td>\n",
       "      <td>0</td>\n",
       "      <td>0</td>\n",
       "      <td>1</td>\n",
       "      <td>1</td>\n",
       "      <td>0</td>\n",
       "      <td>0</td>\n",
       "      <td>0</td>\n",
       "      <td>0</td>\n",
       "      <td>0</td>\n",
       "      <td>0</td>\n",
       "      <td>0</td>\n",
       "      <td>0</td>\n",
       "      <td>0</td>\n",
       "      <td>0</td>\n",
       "      <td>0</td>\n",
       "      <td>0</td>\n",
       "      <td>0</td>\n",
       "      <td>0</td>\n",
       "      <td>0</td>\n",
       "      <td>...</td>\n",
       "      <td>57.00</td>\n",
       "      <td>51.45</td>\n",
       "      <td>66.15</td>\n",
       "      <td>0.0</td>\n",
       "      <td>0.0</td>\n",
       "      <td>0.0</td>\n",
       "      <td>0.0</td>\n",
       "      <td>0.0</td>\n",
       "      <td>0.0</td>\n",
       "      <td>0.0</td>\n",
       "      <td>0.0</td>\n",
       "      <td>0.0</td>\n",
       "      <td>0.0</td>\n",
       "      <td>0.0</td>\n",
       "      <td>0.0</td>\n",
       "      <td>0.0</td>\n",
       "      <td>0.0</td>\n",
       "      <td>0.0</td>\n",
       "      <td>0.0</td>\n",
       "      <td>0.0</td>\n",
       "      <td>0</td>\n",
       "      <td>0.0</td>\n",
       "      <td>0.0</td>\n",
       "      <td>0.0</td>\n",
       "      <td>0.0</td>\n",
       "      <td>0.0</td>\n",
       "      <td>0.0</td>\n",
       "      <td>0.0</td>\n",
       "      <td>0</td>\n",
       "      <td>0.0</td>\n",
       "      <td>0.0</td>\n",
       "      <td>0.0</td>\n",
       "      <td>0.0</td>\n",
       "      <td>0.0</td>\n",
       "      <td>0.0</td>\n",
       "      <td>0.0</td>\n",
       "      <td>0.0</td>\n",
       "      <td>0.0</td>\n",
       "      <td>0.0</td>\n",
       "      <td>46993.95</td>\n",
       "    </tr>\n",
       "  </tbody>\n",
       "</table>\n",
       "<p>3 rows × 369 columns</p>\n",
       "</div>"
      ],
      "text/plain": [
       "   var3  var15  ...  saldo_medio_var44_ult3     var38\n",
       "0     2     32  ...                     0.0  40532.10\n",
       "1     2     35  ...                     0.0  45486.72\n",
       "2     2     23  ...                     0.0  46993.95\n",
       "\n",
       "[3 rows x 369 columns]"
      ]
     },
     "execution_count": 47,
     "metadata": {
      "tags": []
     },
     "output_type": "execute_result"
    }
   ],
   "source": [
    "test_df.drop('ID',axis=1,inplace=True)\n",
    "test_df.head(3)"
   ]
  },
  {
   "cell_type": "code",
   "execution_count": null,
   "metadata": {
    "id": "S9pwVe_-sZ-Q"
   },
   "outputs": [],
   "source": [
    "realpred=vo_clf.predict(test_df)\n",
    "realpred=pd.DataFrame(realpred,columns=['TARGET'])\n",
    "submit_df=pd.DataFrame({'ID':id,'TARGET':realpred})\n",
    "submit_df.head(3)"
   ]
  },
  {
   "cell_type": "code",
   "execution_count": null,
   "metadata": {
    "id": "tOF6XoiGs7wW"
   },
   "outputs": [],
   "source": [
    "submit_df.to_csv('/content/gdrive/Mydrive/Dataset/Santander.csv',index=False)"
   ]
  },
  {
   "cell_type": "markdown",
   "metadata": {
    "id": "n-LPBZkQ45HA"
   },
   "source": [
    "#1) Feedback"
   ]
  },
  {
   "cell_type": "markdown",
   "metadata": {
    "id": "046zOB_D5GjM"
   },
   "source": [
    "#2) Afterwords"
   ]
  }
 ],
 "metadata": {
  "accelerator": "GPU",
  "colab": {
   "collapsed_sections": [],
   "include_colab_link": true,
   "name": "Santander_Upgrade.ipynb",
   "provenance": [],
   "toc_visible": true
  },
  "kernelspec": {
   "display_name": "Python 3",
   "language": "python",
   "name": "python3"
  },
  "language_info": {
   "codemirror_mode": {
    "name": "ipython",
    "version": 3
   },
   "file_extension": ".py",
   "mimetype": "text/x-python",
   "name": "python",
   "nbconvert_exporter": "python",
   "pygments_lexer": "ipython3",
   "version": "3.8.8"
  }
 },
 "nbformat": 4,
 "nbformat_minor": 1
}
